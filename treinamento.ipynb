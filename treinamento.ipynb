{
 "cells": [
  {
   "cell_type": "markdown",
   "metadata": {},
   "source": [
    "# Importações necessárias"
   ]
  },
  {
   "cell_type": "code",
   "execution_count": 1398,
   "metadata": {},
   "outputs": [],
   "source": [
    "import pandas as pd\n",
    "import numpy as np\n",
    "import seaborn as sns\n",
    "import matplotlib.pyplot as plt\n",
    "import plotly.express as px"
   ]
  },
  {
   "cell_type": "markdown",
   "metadata": {},
   "source": [
    "## Lendo o csv "
   ]
  },
  {
   "cell_type": "code",
   "execution_count": 1399,
   "metadata": {},
   "outputs": [],
   "source": [
    "base_sleep = pd.read_csv('../sleep_data.csv')"
   ]
  },
  {
   "cell_type": "markdown",
   "metadata": {},
   "source": [
    "## Pequena visualização de dados"
   ]
  },
  {
   "cell_type": "code",
   "execution_count": 1400,
   "metadata": {},
   "outputs": [
    {
     "data": {
      "text/html": [
       "<div>\n",
       "<style scoped>\n",
       "    .dataframe tbody tr th:only-of-type {\n",
       "        vertical-align: middle;\n",
       "    }\n",
       "\n",
       "    .dataframe tbody tr th {\n",
       "        vertical-align: top;\n",
       "    }\n",
       "\n",
       "    .dataframe thead th {\n",
       "        text-align: right;\n",
       "    }\n",
       "</style>\n",
       "<table border=\"1\" class=\"dataframe\">\n",
       "  <thead>\n",
       "    <tr style=\"text-align: right;\">\n",
       "      <th></th>\n",
       "      <th>Nome</th>\n",
       "      <th>Idade</th>\n",
       "      <th>Duração do sono</th>\n",
       "      <th>Em que horário dorme</th>\n",
       "      <th>Uso diário de celular</th>\n",
       "      <th>Pratica atividade física regularmente?</th>\n",
       "      <th>Nível de Stress</th>\n",
       "      <th>Disposição ao acordar</th>\n",
       "    </tr>\n",
       "  </thead>\n",
       "  <tbody>\n",
       "    <tr>\n",
       "      <th>0</th>\n",
       "      <td>Ian Gabriel Braga Trinta</td>\n",
       "      <td>20</td>\n",
       "      <td>9</td>\n",
       "      <td>22.5</td>\n",
       "      <td>4</td>\n",
       "      <td>1</td>\n",
       "      <td>1</td>\n",
       "      <td>Alta</td>\n",
       "    </tr>\n",
       "    <tr>\n",
       "      <th>1</th>\n",
       "      <td>Lucas Cisne Cunha</td>\n",
       "      <td>20</td>\n",
       "      <td>7</td>\n",
       "      <td>0.0</td>\n",
       "      <td>5</td>\n",
       "      <td>0</td>\n",
       "      <td>2</td>\n",
       "      <td>Média</td>\n",
       "    </tr>\n",
       "    <tr>\n",
       "      <th>2</th>\n",
       "      <td>Arthur Fernandes Firmeza Felicio</td>\n",
       "      <td>18</td>\n",
       "      <td>8</td>\n",
       "      <td>23.0</td>\n",
       "      <td>6</td>\n",
       "      <td>1</td>\n",
       "      <td>0</td>\n",
       "      <td>Alta</td>\n",
       "    </tr>\n",
       "    <tr>\n",
       "      <th>3</th>\n",
       "      <td>Vivian</td>\n",
       "      <td>18</td>\n",
       "      <td>7</td>\n",
       "      <td>22.0</td>\n",
       "      <td>5</td>\n",
       "      <td>1</td>\n",
       "      <td>1</td>\n",
       "      <td>Média</td>\n",
       "    </tr>\n",
       "    <tr>\n",
       "      <th>4</th>\n",
       "      <td>Amanda</td>\n",
       "      <td>29</td>\n",
       "      <td>8</td>\n",
       "      <td>22.0</td>\n",
       "      <td>5</td>\n",
       "      <td>0</td>\n",
       "      <td>2</td>\n",
       "      <td>Baixa</td>\n",
       "    </tr>\n",
       "    <tr>\n",
       "      <th>...</th>\n",
       "      <td>...</td>\n",
       "      <td>...</td>\n",
       "      <td>...</td>\n",
       "      <td>...</td>\n",
       "      <td>...</td>\n",
       "      <td>...</td>\n",
       "      <td>...</td>\n",
       "      <td>...</td>\n",
       "    </tr>\n",
       "    <tr>\n",
       "      <th>60</th>\n",
       "      <td>Felipe Neiva de Lima Santos</td>\n",
       "      <td>20</td>\n",
       "      <td>8</td>\n",
       "      <td>1.0</td>\n",
       "      <td>6</td>\n",
       "      <td>0</td>\n",
       "      <td>0</td>\n",
       "      <td>Alta</td>\n",
       "    </tr>\n",
       "    <tr>\n",
       "      <th>61</th>\n",
       "      <td>Vivian</td>\n",
       "      <td>18</td>\n",
       "      <td>7</td>\n",
       "      <td>22.0</td>\n",
       "      <td>5</td>\n",
       "      <td>1</td>\n",
       "      <td>1</td>\n",
       "      <td>Média</td>\n",
       "    </tr>\n",
       "    <tr>\n",
       "      <th>62</th>\n",
       "      <td>Julia Naomi</td>\n",
       "      <td>20</td>\n",
       "      <td>8</td>\n",
       "      <td>22.0</td>\n",
       "      <td>8</td>\n",
       "      <td>1</td>\n",
       "      <td>1</td>\n",
       "      <td>Média</td>\n",
       "    </tr>\n",
       "    <tr>\n",
       "      <th>63</th>\n",
       "      <td>Caio Fernandes</td>\n",
       "      <td>20</td>\n",
       "      <td>7</td>\n",
       "      <td>1.0</td>\n",
       "      <td>7</td>\n",
       "      <td>1</td>\n",
       "      <td>1</td>\n",
       "      <td>Baixa</td>\n",
       "    </tr>\n",
       "    <tr>\n",
       "      <th>64</th>\n",
       "      <td>Gabriela Bezerra</td>\n",
       "      <td>18</td>\n",
       "      <td>6</td>\n",
       "      <td>0.0</td>\n",
       "      <td>5</td>\n",
       "      <td>1</td>\n",
       "      <td>2</td>\n",
       "      <td>Baixa</td>\n",
       "    </tr>\n",
       "  </tbody>\n",
       "</table>\n",
       "<p>65 rows × 8 columns</p>\n",
       "</div>"
      ],
      "text/plain": [
       "                                Nome  Idade  Duração do sono  \\\n",
       "0           Ian Gabriel Braga Trinta     20                9   \n",
       "1                  Lucas Cisne Cunha     20                7   \n",
       "2   Arthur Fernandes Firmeza Felicio     18                8   \n",
       "3                             Vivian     18                7   \n",
       "4                             Amanda     29                8   \n",
       "..                               ...    ...              ...   \n",
       "60       Felipe Neiva de Lima Santos     20                8   \n",
       "61                            Vivian     18                7   \n",
       "62                       Julia Naomi     20                8   \n",
       "63                    Caio Fernandes     20                7   \n",
       "64                  Gabriela Bezerra     18                6   \n",
       "\n",
       "    Em que horário dorme  Uso diário de celular  \\\n",
       "0                   22.5                      4   \n",
       "1                    0.0                      5   \n",
       "2                   23.0                      6   \n",
       "3                   22.0                      5   \n",
       "4                   22.0                      5   \n",
       "..                   ...                    ...   \n",
       "60                   1.0                      6   \n",
       "61                  22.0                      5   \n",
       "62                  22.0                      8   \n",
       "63                   1.0                      7   \n",
       "64                   0.0                      5   \n",
       "\n",
       "    Pratica atividade física regularmente?  Nível de Stress  \\\n",
       "0                                        1                1   \n",
       "1                                        0                2   \n",
       "2                                        1                0   \n",
       "3                                        1                1   \n",
       "4                                        0                2   \n",
       "..                                     ...              ...   \n",
       "60                                       0                0   \n",
       "61                                       1                1   \n",
       "62                                       1                1   \n",
       "63                                       1                1   \n",
       "64                                       1                2   \n",
       "\n",
       "   Disposição ao acordar  \n",
       "0                   Alta  \n",
       "1                  Média  \n",
       "2                   Alta  \n",
       "3                  Média  \n",
       "4                  Baixa  \n",
       "..                   ...  \n",
       "60                  Alta  \n",
       "61                 Média  \n",
       "62                 Média  \n",
       "63                 Baixa  \n",
       "64                 Baixa  \n",
       "\n",
       "[65 rows x 8 columns]"
      ]
     },
     "execution_count": 1400,
     "metadata": {},
     "output_type": "execute_result"
    }
   ],
   "source": [
    "base_sleep"
   ]
  },
  {
   "cell_type": "code",
   "execution_count": 1401,
   "metadata": {},
   "outputs": [
    {
     "data": {
      "text/html": [
       "<div>\n",
       "<style scoped>\n",
       "    .dataframe tbody tr th:only-of-type {\n",
       "        vertical-align: middle;\n",
       "    }\n",
       "\n",
       "    .dataframe tbody tr th {\n",
       "        vertical-align: top;\n",
       "    }\n",
       "\n",
       "    .dataframe thead th {\n",
       "        text-align: right;\n",
       "    }\n",
       "</style>\n",
       "<table border=\"1\" class=\"dataframe\">\n",
       "  <thead>\n",
       "    <tr style=\"text-align: right;\">\n",
       "      <th></th>\n",
       "      <th>Idade</th>\n",
       "      <th>Duração do sono</th>\n",
       "      <th>Em que horário dorme</th>\n",
       "      <th>Uso diário de celular</th>\n",
       "      <th>Pratica atividade física regularmente?</th>\n",
       "      <th>Nível de Stress</th>\n",
       "    </tr>\n",
       "  </thead>\n",
       "  <tbody>\n",
       "    <tr>\n",
       "      <th>count</th>\n",
       "      <td>65.000000</td>\n",
       "      <td>65.000000</td>\n",
       "      <td>65.000000</td>\n",
       "      <td>65.000000</td>\n",
       "      <td>65.000000</td>\n",
       "      <td>65.000000</td>\n",
       "    </tr>\n",
       "    <tr>\n",
       "      <th>mean</th>\n",
       "      <td>19.953846</td>\n",
       "      <td>7.092308</td>\n",
       "      <td>12.446154</td>\n",
       "      <td>5.892308</td>\n",
       "      <td>0.738462</td>\n",
       "      <td>1.061538</td>\n",
       "    </tr>\n",
       "    <tr>\n",
       "      <th>std</th>\n",
       "      <td>3.821938</td>\n",
       "      <td>1.195344</td>\n",
       "      <td>10.938080</td>\n",
       "      <td>1.640532</td>\n",
       "      <td>0.442893</td>\n",
       "      <td>0.658524</td>\n",
       "    </tr>\n",
       "    <tr>\n",
       "      <th>min</th>\n",
       "      <td>13.000000</td>\n",
       "      <td>5.000000</td>\n",
       "      <td>0.000000</td>\n",
       "      <td>3.000000</td>\n",
       "      <td>0.000000</td>\n",
       "      <td>0.000000</td>\n",
       "    </tr>\n",
       "    <tr>\n",
       "      <th>25%</th>\n",
       "      <td>18.000000</td>\n",
       "      <td>6.000000</td>\n",
       "      <td>1.000000</td>\n",
       "      <td>5.000000</td>\n",
       "      <td>0.000000</td>\n",
       "      <td>1.000000</td>\n",
       "    </tr>\n",
       "    <tr>\n",
       "      <th>50%</th>\n",
       "      <td>20.000000</td>\n",
       "      <td>7.000000</td>\n",
       "      <td>21.500000</td>\n",
       "      <td>6.000000</td>\n",
       "      <td>1.000000</td>\n",
       "      <td>1.000000</td>\n",
       "    </tr>\n",
       "    <tr>\n",
       "      <th>75%</th>\n",
       "      <td>22.000000</td>\n",
       "      <td>8.000000</td>\n",
       "      <td>23.000000</td>\n",
       "      <td>7.000000</td>\n",
       "      <td>1.000000</td>\n",
       "      <td>1.000000</td>\n",
       "    </tr>\n",
       "    <tr>\n",
       "      <th>max</th>\n",
       "      <td>30.000000</td>\n",
       "      <td>11.000000</td>\n",
       "      <td>23.000000</td>\n",
       "      <td>12.000000</td>\n",
       "      <td>1.000000</td>\n",
       "      <td>2.000000</td>\n",
       "    </tr>\n",
       "  </tbody>\n",
       "</table>\n",
       "</div>"
      ],
      "text/plain": [
       "           Idade  Duração do sono  Em que horário dorme  \\\n",
       "count  65.000000        65.000000             65.000000   \n",
       "mean   19.953846         7.092308             12.446154   \n",
       "std     3.821938         1.195344             10.938080   \n",
       "min    13.000000         5.000000              0.000000   \n",
       "25%    18.000000         6.000000              1.000000   \n",
       "50%    20.000000         7.000000             21.500000   \n",
       "75%    22.000000         8.000000             23.000000   \n",
       "max    30.000000        11.000000             23.000000   \n",
       "\n",
       "       Uso diário de celular  Pratica atividade física regularmente?  \\\n",
       "count              65.000000                               65.000000   \n",
       "mean                5.892308                                0.738462   \n",
       "std                 1.640532                                0.442893   \n",
       "min                 3.000000                                0.000000   \n",
       "25%                 5.000000                                0.000000   \n",
       "50%                 6.000000                                1.000000   \n",
       "75%                 7.000000                                1.000000   \n",
       "max                12.000000                                1.000000   \n",
       "\n",
       "       Nível de Stress  \n",
       "count        65.000000  \n",
       "mean          1.061538  \n",
       "std           0.658524  \n",
       "min           0.000000  \n",
       "25%           1.000000  \n",
       "50%           1.000000  \n",
       "75%           1.000000  \n",
       "max           2.000000  "
      ]
     },
     "execution_count": 1401,
     "metadata": {},
     "output_type": "execute_result"
    }
   ],
   "source": [
    "base_sleep.describe()"
   ]
  },
  {
   "cell_type": "markdown",
   "metadata": {},
   "source": [
    "## Maior valor da duração do sono"
   ]
  },
  {
   "cell_type": "code",
   "execution_count": 1402,
   "metadata": {},
   "outputs": [
    {
     "data": {
      "text/html": [
       "<div>\n",
       "<style scoped>\n",
       "    .dataframe tbody tr th:only-of-type {\n",
       "        vertical-align: middle;\n",
       "    }\n",
       "\n",
       "    .dataframe tbody tr th {\n",
       "        vertical-align: top;\n",
       "    }\n",
       "\n",
       "    .dataframe thead th {\n",
       "        text-align: right;\n",
       "    }\n",
       "</style>\n",
       "<table border=\"1\" class=\"dataframe\">\n",
       "  <thead>\n",
       "    <tr style=\"text-align: right;\">\n",
       "      <th></th>\n",
       "      <th>Nome</th>\n",
       "      <th>Idade</th>\n",
       "      <th>Duração do sono</th>\n",
       "      <th>Em que horário dorme</th>\n",
       "      <th>Uso diário de celular</th>\n",
       "      <th>Pratica atividade física regularmente?</th>\n",
       "      <th>Nível de Stress</th>\n",
       "      <th>Disposição ao acordar</th>\n",
       "    </tr>\n",
       "  </thead>\n",
       "  <tbody>\n",
       "    <tr>\n",
       "      <th>18</th>\n",
       "      <td>Manuela Pitanga</td>\n",
       "      <td>17</td>\n",
       "      <td>11</td>\n",
       "      <td>2.0</td>\n",
       "      <td>7</td>\n",
       "      <td>0</td>\n",
       "      <td>0</td>\n",
       "      <td>Alta</td>\n",
       "    </tr>\n",
       "  </tbody>\n",
       "</table>\n",
       "</div>"
      ],
      "text/plain": [
       "               Nome  Idade  Duração do sono  Em que horário dorme  \\\n",
       "18  Manuela Pitanga     17               11                   2.0   \n",
       "\n",
       "    Uso diário de celular  Pratica atividade física regularmente?  \\\n",
       "18                      7                                       0   \n",
       "\n",
       "    Nível de Stress Disposição ao acordar  \n",
       "18                0                  Alta  "
      ]
     },
     "execution_count": 1402,
     "metadata": {},
     "output_type": "execute_result"
    }
   ],
   "source": [
    "base_sleep[base_sleep['Duração do sono'] == 11]"
   ]
  },
  {
   "cell_type": "code",
   "execution_count": 1403,
   "metadata": {},
   "outputs": [
    {
     "data": {
      "text/html": [
       "<div>\n",
       "<style scoped>\n",
       "    .dataframe tbody tr th:only-of-type {\n",
       "        vertical-align: middle;\n",
       "    }\n",
       "\n",
       "    .dataframe tbody tr th {\n",
       "        vertical-align: top;\n",
       "    }\n",
       "\n",
       "    .dataframe thead th {\n",
       "        text-align: right;\n",
       "    }\n",
       "</style>\n",
       "<table border=\"1\" class=\"dataframe\">\n",
       "  <thead>\n",
       "    <tr style=\"text-align: right;\">\n",
       "      <th></th>\n",
       "      <th>Nome</th>\n",
       "      <th>Idade</th>\n",
       "      <th>Duração do sono</th>\n",
       "      <th>Em que horário dorme</th>\n",
       "      <th>Uso diário de celular</th>\n",
       "      <th>Pratica atividade física regularmente?</th>\n",
       "      <th>Nível de Stress</th>\n",
       "      <th>Disposição ao acordar</th>\n",
       "    </tr>\n",
       "  </thead>\n",
       "  <tbody>\n",
       "    <tr>\n",
       "      <th>9</th>\n",
       "      <td>Giovana Oliveira</td>\n",
       "      <td>21</td>\n",
       "      <td>5</td>\n",
       "      <td>21.5</td>\n",
       "      <td>5</td>\n",
       "      <td>0</td>\n",
       "      <td>2</td>\n",
       "      <td>Baixa</td>\n",
       "    </tr>\n",
       "    <tr>\n",
       "      <th>24</th>\n",
       "      <td>Kael Cavalcanti</td>\n",
       "      <td>18</td>\n",
       "      <td>5</td>\n",
       "      <td>1.0</td>\n",
       "      <td>5</td>\n",
       "      <td>1</td>\n",
       "      <td>1</td>\n",
       "      <td>Baixa</td>\n",
       "    </tr>\n",
       "    <tr>\n",
       "      <th>25</th>\n",
       "      <td>Rafaella Lopes</td>\n",
       "      <td>17</td>\n",
       "      <td>5</td>\n",
       "      <td>0.0</td>\n",
       "      <td>7</td>\n",
       "      <td>1</td>\n",
       "      <td>1</td>\n",
       "      <td>Média</td>\n",
       "    </tr>\n",
       "    <tr>\n",
       "      <th>34</th>\n",
       "      <td>Tereza Maria Braga Guimarães</td>\n",
       "      <td>13</td>\n",
       "      <td>5</td>\n",
       "      <td>0.5</td>\n",
       "      <td>6</td>\n",
       "      <td>1</td>\n",
       "      <td>1</td>\n",
       "      <td>Baixa</td>\n",
       "    </tr>\n",
       "    <tr>\n",
       "      <th>39</th>\n",
       "      <td>Rebecca</td>\n",
       "      <td>18</td>\n",
       "      <td>5</td>\n",
       "      <td>23.0</td>\n",
       "      <td>4</td>\n",
       "      <td>0</td>\n",
       "      <td>2</td>\n",
       "      <td>Baixa</td>\n",
       "    </tr>\n",
       "  </tbody>\n",
       "</table>\n",
       "</div>"
      ],
      "text/plain": [
       "                            Nome  Idade  Duração do sono  \\\n",
       "9               Giovana Oliveira     21                5   \n",
       "24               Kael Cavalcanti     18                5   \n",
       "25                Rafaella Lopes     17                5   \n",
       "34  Tereza Maria Braga Guimarães     13                5   \n",
       "39                       Rebecca     18                5   \n",
       "\n",
       "    Em que horário dorme  Uso diário de celular  \\\n",
       "9                   21.5                      5   \n",
       "24                   1.0                      5   \n",
       "25                   0.0                      7   \n",
       "34                   0.5                      6   \n",
       "39                  23.0                      4   \n",
       "\n",
       "    Pratica atividade física regularmente?  Nível de Stress  \\\n",
       "9                                        0                2   \n",
       "24                                       1                1   \n",
       "25                                       1                1   \n",
       "34                                       1                1   \n",
       "39                                       0                2   \n",
       "\n",
       "   Disposição ao acordar  \n",
       "9                  Baixa  \n",
       "24                 Baixa  \n",
       "25                 Média  \n",
       "34                 Baixa  \n",
       "39                 Baixa  "
      ]
     },
     "execution_count": 1403,
     "metadata": {},
     "output_type": "execute_result"
    }
   ],
   "source": [
    "base_sleep[base_sleep['Duração do sono'] == 5]"
   ]
  },
  {
   "cell_type": "code",
   "execution_count": 1404,
   "metadata": {},
   "outputs": [
    {
     "data": {
      "text/plain": [
       "(array(['Alta', 'Baixa', 'Média'], dtype=object),\n",
       " array([ 9, 28, 28], dtype=int64))"
      ]
     },
     "execution_count": 1404,
     "metadata": {},
     "output_type": "execute_result"
    }
   ],
   "source": [
    "np.unique(base_sleep['Disposição ao acordar'], return_counts=True)"
   ]
  },
  {
   "cell_type": "code",
   "execution_count": 1405,
   "metadata": {},
   "outputs": [
    {
     "data": {
      "image/png": "[encoded data removed]",
      "text/plain": [
       "<Figure size 800x550 with 1 Axes>"
      ]
     },
     "metadata": {},
     "output_type": "display_data"
    }
   ],
   "source": [
    "sns.countplot(x = base_sleep['Disposição ao acordar']);"
   ]
  },
  {
   "cell_type": "code",
   "execution_count": 1406,
   "metadata": {},
   "outputs": [
    {
     "data": {
      "image/png": "[encoded data removed]",
      "text/plain": [
       "<Figure size 800x550 with 1 Axes>"
      ]
     },
     "metadata": {},
     "output_type": "display_data"
    }
   ],
   "source": [
    "sns.countplot(x = base_sleep['Nível de Stress']);"
   ]
  },
  {
   "cell_type": "code",
   "execution_count": 1407,
   "metadata": {},
   "outputs": [
    {
     "data": {
      "image/png": "[encoded data removed]",
      "text/plain": [
       "<Figure size 800x550 with 1 Axes>"
      ]
     },
     "metadata": {},
     "output_type": "display_data"
    }
   ],
   "source": [
    "plt.hist(base_sleep['Duração do sono'], bins = 10);"
   ]
  },
  {
   "cell_type": "code",
   "execution_count": 1408,
   "metadata": {},
   "outputs": [
    {
     "data": {
      "application/vnd.plotly.v1+json": {
       "config": {
        "plotlyServerURL": "https://plot.ly"
       },
       "data": [
        {
         "dimensions": [
          {
           "axis": {
            "matches": true
           },
           "label": "Duração do sono",
           "values": [
            9,
            7,
            8,
            7,
            8,
            7,
            7,
            6,
            8,
            5,
            7,
            7,
            8,
            7,
            8,
            6,
            7,
            9,
            11,
            8,
            7,
            9,
            6,
            7,
            5,
            5,
            6,
            8,
            6,
            6,
            7,
            7,
            9,
            6,
            5,
            6,
            8,
            7,
            6,
            5,
            8,
            6,
            8,
            7,
            6,
            6,
            6,
            7,
            8,
            7,
            9,
            9,
            8,
            6,
            7,
            8,
            7,
            8,
            6,
            7,
            8,
            7,
            8,
            7,
            6
           ]
          },
          {
           "axis": {
            "matches": true
           },
           "label": "Disposição ao acordar",
           "values": [
            "Alta",
            "Média",
            "Alta",
            "Média",
            "Baixa",
            "Baixa",
            "Baixa",
            "Baixa",
            "Média",
            "Baixa",
            "Baixa",
            "Baixa",
            "Média",
            "Baixa",
            "Média",
            "Baixa",
            "Média",
            "Alta",
            "Alta",
            "Baixa",
            "Média",
            "Média",
            "Baixa",
            "Média",
            "Baixa",
            "Média",
            "Baixa",
            "Alta",
            "Média",
            "Média",
            "Baixa",
            "Média",
            "Alta",
            "Baixa",
            "Baixa",
            "Baixa",
            "Média",
            "Média",
            "Baixa",
            "Baixa",
            "Média",
            "Baixa",
            "Alta",
            "Média",
            "Baixa",
            "Baixa",
            "Média",
            "Baixa",
            "Média",
            "Média",
            "Média",
            "Alta",
            "Média",
            "Média",
            "Média",
            "Média",
            "Baixa",
            "Média",
            "Baixa",
            "Baixa",
            "Alta",
            "Média",
            "Média",
            "Baixa",
            "Baixa"
           ]
          }
         ],
         "hovertemplate": "%{xaxis.title.text}=%{x}<br>%{yaxis.title.text}=%{y}<extra></extra>",
         "legendgroup": "",
         "marker": {
          "color": "#636efa",
          "symbol": "circle"
         },
         "name": "",
         "showlegend": false,
         "type": "splom"
        }
       ],
       "layout": {
        "dragmode": "select",
        "legend": {
         "tracegroupgap": 0
        },
        "margin": {
         "t": 60
        },
        "template": {
         "data": {
          "bar": [
           {
            "error_x": {
             "color": "#2a3f5f"
            },
            "error_y": {
             "color": "#2a3f5f"
            },
            "marker": {
             "line": {
              "color": "#E5ECF6",
              "width": 0.5
             },
             "pattern": {
              "fillmode": "overlay",
              "size": 10,
              "solidity": 0.2
             }
            },
            "type": "bar"
           }
          ],
          "barpolar": [
           {
            "marker": {
             "line": {
              "color": "#E5ECF6",
              "width": 0.5
             },
             "pattern": {
              "fillmode": "overlay",
              "size": 10,
              "solidity": 0.2
             }
            },
            "type": "barpolar"
           }
          ],
          "carpet": [
           {
            "aaxis": {
             "endlinecolor": "#2a3f5f",
             "gridcolor": "white",
             "linecolor": "white",
             "minorgridcolor": "white",
             "startlinecolor": "#2a3f5f"
            },
            "baxis": {
             "endlinecolor": "#2a3f5f",
             "gridcolor": "white",
             "linecolor": "white",
             "minorgridcolor": "white",
             "startlinecolor": "#2a3f5f"
            },
            "type": "carpet"
           }
          ],
          "choropleth": [
           {
            "colorbar": {
             "outlinewidth": 0,
             "ticks": ""
            },
            "type": "choropleth"
           }
          ],
          "contour": [
           {
            "colorbar": {
             "outlinewidth": 0,
             "ticks": ""
            },
            "colorscale": [
             [
              0,
              "#0d0887"
             ],
             [
              0.1111111111111111,
              "#46039f"
             ],
             [
              0.2222222222222222,
              "#7201a8"
             ],
             [
              0.3333333333333333,
              "#9c179e"
             ],
             [
              0.4444444444444444,
              "#bd3786"
             ],
             [
              0.5555555555555556,
              "#d8576b"
             ],
             [
              0.6666666666666666,
              "#ed7953"
             ],
             [
              0.7777777777777778,
              "#fb9f3a"
             ],
             [
              0.8888888888888888,
              "#fdca26"
             ],
             [
              1,
              "#f0f921"
             ]
            ],
            "type": "contour"
           }
          ],
          "contourcarpet": [
           {
            "colorbar": {
             "outlinewidth": 0,
             "ticks": ""
            },
            "type": "contourcarpet"
           }
          ],
          "heatmap": [
           {
            "colorbar": {
             "outlinewidth": 0,
             "ticks": ""
            },
            "colorscale": [
             [
              0,
              "#0d0887"
             ],
             [
              0.1111111111111111,
              "#46039f"
             ],
             [
              0.2222222222222222,
              "#7201a8"
             ],
             [
              0.3333333333333333,
              "#9c179e"
             ],
             [
              0.4444444444444444,
              "#bd3786"
             ],
             [
              0.5555555555555556,
              "#d8576b"
             ],
             [
              0.6666666666666666,
              "#ed7953"
             ],
             [
              0.7777777777777778,
              "#fb9f3a"
             ],
             [
              0.8888888888888888,
              "#fdca26"
             ],
             [
              1,
              "#f0f921"
             ]
            ],
            "type": "heatmap"
           }
          ],
          "heatmapgl": [
           {
            "colorbar": {
             "outlinewidth": 0,
             "ticks": ""
            },
            "colorscale": [
             [
              0,
              "#0d0887"
             ],
             [
              0.1111111111111111,
              "#46039f"
             ],
             [
              0.2222222222222222,
              "#7201a8"
             ],
             [
              0.3333333333333333,
              "#9c179e"
             ],
             [
              0.4444444444444444,
              "#bd3786"
             ],
             [
              0.5555555555555556,
              "#d8576b"
             ],
             [
              0.6666666666666666,
              "#ed7953"
             ],
             [
              0.7777777777777778,
              "#fb9f3a"
             ],
             [
              0.8888888888888888,
              "#fdca26"
             ],
             [
              1,
              "#f0f921"
             ]
            ],
            "type": "heatmapgl"
           }
          ],
          "histogram": [
           {
            "marker": {
             "pattern": {
              "fillmode": "overlay",
              "size": 10,
              "solidity": 0.2
             }
            },
            "type": "histogram"
           }
          ],
          "histogram2d": [
           {
            "colorbar": {
             "outlinewidth": 0,
             "ticks": ""
            },
            "colorscale": [
             [
              0,
              "#0d0887"
             ],
             [
              0.1111111111111111,
              "#46039f"
             ],
             [
              0.2222222222222222,
              "#7201a8"
             ],
             [
              0.3333333333333333,
              "#9c179e"
             ],
             [
              0.4444444444444444,
              "#bd3786"
             ],
             [
              0.5555555555555556,
              "#d8576b"
             ],
             [
              0.6666666666666666,
              "#ed7953"
             ],
             [
              0.7777777777777778,
              "#fb9f3a"
             ],
             [
              0.8888888888888888,
              "#fdca26"
             ],
             [
              1,
              "#f0f921"
             ]
            ],
            "type": "histogram2d"
           }
          ],
          "histogram2dcontour": [
           {
            "colorbar": {
             "outlinewidth": 0,
             "ticks": ""
            },
            "colorscale": [
             [
              0,
              "#0d0887"
             ],
             [
              0.1111111111111111,
              "#46039f"
             ],
             [
              0.2222222222222222,
              "#7201a8"
             ],
             [
              0.3333333333333333,
              "#9c179e"
             ],
             [
              0.4444444444444444,
              "#bd3786"
             ],
             [
              0.5555555555555556,
              "#d8576b"
             ],
             [
              0.6666666666666666,
              "#ed7953"
             ],
             [
              0.7777777777777778,
              "#fb9f3a"
             ],
             [
              0.8888888888888888,
              "#fdca26"
             ],
             [
              1,
              "#f0f921"
             ]
            ],
            "type": "histogram2dcontour"
           }
          ],
          "mesh3d": [
           {
            "colorbar": {
             "outlinewidth": 0,
             "ticks": ""
            },
            "type": "mesh3d"
           }
          ],
          "parcoords": [
           {
            "line": {
             "colorbar": {
              "outlinewidth": 0,
              "ticks": ""
             }
            },
            "type": "parcoords"
           }
          ],
          "pie": [
           {
            "automargin": true,
            "type": "pie"
           }
          ],
          "scatter": [
           {
            "fillpattern": {
             "fillmode": "overlay",
             "size": 10,
             "solidity": 0.2
            },
            "type": "scatter"
           }
          ],
          "scatter3d": [
           {
            "line": {
             "colorbar": {
              "outlinewidth": 0,
              "ticks": ""
             }
            },
            "marker": {
             "colorbar": {
              "outlinewidth": 0,
              "ticks": ""
             }
            },
            "type": "scatter3d"
           }
          ],
          "scattercarpet": [
           {
            "marker": {
             "colorbar": {
              "outlinewidth": 0,
              "ticks": ""
             }
            },
            "type": "scattercarpet"
           }
          ],
          "scattergeo": [
           {
            "marker": {
             "colorbar": {
              "outlinewidth": 0,
              "ticks": ""
             }
            },
            "type": "scattergeo"
           }
          ],
          "scattergl": [
           {
            "marker": {
             "colorbar": {
              "outlinewidth": 0,
              "ticks": ""
             }
            },
            "type": "scattergl"
           }
          ],
          "scattermapbox": [
           {
            "marker": {
             "colorbar": {
              "outlinewidth": 0,
              "ticks": ""
             }
            },
            "type": "scattermapbox"
           }
          ],
          "scatterpolar": [
           {
            "marker": {
             "colorbar": {
              "outlinewidth": 0,
              "ticks": ""
             }
            },
            "type": "scatterpolar"
           }
          ],
          "scatterpolargl": [
           {
            "marker": {
             "colorbar": {
              "outlinewidth": 0,
              "ticks": ""
             }
            },
            "type": "scatterpolargl"
           }
          ],
          "scatterternary": [
           {
            "marker": {
             "colorbar": {
              "outlinewidth": 0,
              "ticks": ""
             }
            },
            "type": "scatterternary"
           }
          ],
          "surface": [
           {
            "colorbar": {
             "outlinewidth": 0,
             "ticks": ""
            },
            "colorscale": [
             [
              0,
              "#0d0887"
             ],
             [
              0.1111111111111111,
              "#46039f"
             ],
             [
              0.2222222222222222,
              "#7201a8"
             ],
             [
              0.3333333333333333,
              "#9c179e"
             ],
             [
              0.4444444444444444,
              "#bd3786"
             ],
             [
              0.5555555555555556,
              "#d8576b"
             ],
             [
              0.6666666666666666,
              "#ed7953"
             ],
             [
              0.7777777777777778,
              "#fb9f3a"
             ],
             [
              0.8888888888888888,
              "#fdca26"
             ],
             [
              1,
              "#f0f921"
             ]
            ],
            "type": "surface"
           }
          ],
          "table": [
           {
            "cells": {
             "fill": {
              "color": "#EBF0F8"
             },
             "line": {
              "color": "white"
             }
            },
            "header": {
             "fill": {
              "color": "#C8D4E3"
             },
             "line": {
              "color": "white"
             }
            },
            "type": "table"
           }
          ]
         },
         "layout": {
          "annotationdefaults": {
           "arrowcolor": "#2a3f5f",
           "arrowhead": 0,
           "arrowwidth": 1
          },
          "autotypenumbers": "strict",
          "coloraxis": {
           "colorbar": {
            "outlinewidth": 0,
            "ticks": ""
           }
          },
          "colorscale": {
           "diverging": [
            [
             0,
             "#8e0152"
            ],
            [
             0.1,
             "#c51b7d"
            ],
            [
             0.2,
             "#de77ae"
            ],
            [
             0.3,
             "#f1b6da"
            ],
            [
             0.4,
             "#fde0ef"
            ],
            [
             0.5,
             "#f7f7f7"
            ],
            [
             0.6,
             "#e6f5d0"
            ],
            [
             0.7,
             "#b8e186"
            ],
            [
             0.8,
             "#7fbc41"
            ],
            [
             0.9,
             "#4d9221"
            ],
            [
             1,
             "#276419"
            ]
           ],
           "sequential": [
            [
             0,
             "#0d0887"
            ],
            [
             0.1111111111111111,
             "#46039f"
            ],
            [
             0.2222222222222222,
             "#7201a8"
            ],
            [
             0.3333333333333333,
             "#9c179e"
            ],
            [
             0.4444444444444444,
             "#bd3786"
            ],
            [
             0.5555555555555556,
             "#d8576b"
            ],
            [
             0.6666666666666666,
             "#ed7953"
            ],
            [
             0.7777777777777778,
             "#fb9f3a"
            ],
            [
             0.8888888888888888,
             "#fdca26"
            ],
            [
             1,
             "#f0f921"
            ]
           ],
           "sequentialminus": [
            [
             0,
             "#0d0887"
            ],
            [
             0.1111111111111111,
             "#46039f"
            ],
            [
             0.2222222222222222,
             "#7201a8"
            ],
            [
             0.3333333333333333,
             "#9c179e"
            ],
            [
             0.4444444444444444,
             "#bd3786"
            ],
            [
             0.5555555555555556,
             "#d8576b"
            ],
            [
             0.6666666666666666,
             "#ed7953"
            ],
            [
             0.7777777777777778,
             "#fb9f3a"
            ],
            [
             0.8888888888888888,
             "#fdca26"
            ],
            [
             1,
             "#f0f921"
            ]
           ]
          },
          "colorway": [
           "#636efa",
           "#EF553B",
           "#00cc96",
           "#ab63fa",
           "#FFA15A",
           "#19d3f3",
           "#FF6692",
           "#B6E880",
           "#FF97FF",
           "#FECB52"
          ],
          "font": {
           "color": "#2a3f5f"
          },
          "geo": {
           "bgcolor": "white",
           "lakecolor": "white",
           "landcolor": "#E5ECF6",
           "showlakes": true,
           "showland": true,
           "subunitcolor": "white"
          },
          "hoverlabel": {
           "align": "left"
          },
          "hovermode": "closest",
          "mapbox": {
           "style": "light"
          },
          "paper_bgcolor": "white",
          "plot_bgcolor": "#E5ECF6",
          "polar": {
           "angularaxis": {
            "gridcolor": "white",
            "linecolor": "white",
            "ticks": ""
           },
           "bgcolor": "#E5ECF6",
           "radialaxis": {
            "gridcolor": "white",
            "linecolor": "white",
            "ticks": ""
           }
          },
          "scene": {
           "xaxis": {
            "backgroundcolor": "#E5ECF6",
            "gridcolor": "white",
            "gridwidth": 2,
            "linecolor": "white",
            "showbackground": true,
            "ticks": "",
            "zerolinecolor": "white"
           },
           "yaxis": {
            "backgroundcolor": "#E5ECF6",
            "gridcolor": "white",
            "gridwidth": 2,
            "linecolor": "white",
            "showbackground": true,
            "ticks": "",
            "zerolinecolor": "white"
           },
           "zaxis": {
            "backgroundcolor": "#E5ECF6",
            "gridcolor": "white",
            "gridwidth": 2,
            "linecolor": "white",
            "showbackground": true,
            "ticks": "",
            "zerolinecolor": "white"
           }
          },
          "shapedefaults": {
           "line": {
            "color": "#2a3f5f"
           }
          },
          "ternary": {
           "aaxis": {
            "gridcolor": "white",
            "linecolor": "white",
            "ticks": ""
           },
           "baxis": {
            "gridcolor": "white",
            "linecolor": "white",
            "ticks": ""
           },
           "bgcolor": "#E5ECF6",
           "caxis": {
            "gridcolor": "white",
            "linecolor": "white",
            "ticks": ""
           }
          },
          "title": {
           "x": 0.05
          },
          "xaxis": {
           "automargin": true,
           "gridcolor": "white",
           "linecolor": "white",
           "ticks": "",
           "title": {
            "standoff": 15
           },
           "zerolinecolor": "white",
           "zerolinewidth": 2
          },
          "yaxis": {
           "automargin": true,
           "gridcolor": "white",
           "linecolor": "white",
           "ticks": "",
           "title": {
            "standoff": 15
           },
           "zerolinecolor": "white",
           "zerolinewidth": 2
          }
         }
        }
       }
      }
     },
     "metadata": {},
     "output_type": "display_data"
    }
   ],
   "source": [
    "grafico = px.scatter_matrix(base_sleep, dimensions = ['Duração do sono', 'Disposição ao acordar'])\n",
    "grafico.show()"
   ]
  },
  {
   "cell_type": "code",
   "execution_count": 1409,
   "metadata": {},
   "outputs": [
    {
     "data": {
      "application/vnd.plotly.v1+json": {
       "config": {
        "plotlyServerURL": "https://plot.ly"
       },
       "data": [
        {
         "branchvalues": "total",
         "domain": {
          "x": [
           0,
           1
          ],
          "y": [
           0,
           1
          ]
         },
         "hovertemplate": "labels=%{label}<br>count=%{value}<br>parent=%{parent}<br>id=%{id}<extra></extra>",
         "ids": [
          "8/Alta/0.0",
          "9/Alta/0.0",
          "6/Baixa/0.0",
          "7/Baixa/0.0",
          "5/Média/0.0",
          "6/Média/0.0",
          "7/Média/0.0",
          "8/Média/0.0",
          "5/Baixa/0.5",
          "7/Baixa/0.5",
          "8/Alta/1.0",
          "5/Baixa/1.0",
          "7/Baixa/1.0",
          "8/Média/1.0",
          "9/Média/1.0",
          "7/Média/1.5",
          "11/Alta/2.0",
          "6/Baixa/2.0",
          "7/Baixa/2.0",
          "7/Média/2.0",
          "6/Baixa/3.0",
          "8/Alta/21.0",
          "7/Baixa/21.0",
          "9/Alta/21.5",
          "5/Baixa/21.5",
          "6/Baixa/22.0",
          "8/Baixa/22.0",
          "7/Média/22.0",
          "8/Média/22.0",
          "9/Alta/22.5",
          "6/Baixa/22.5",
          "8/Média/22.5",
          "8/Alta/23.0",
          "9/Alta/23.0",
          "5/Baixa/23.0",
          "6/Baixa/23.0",
          "7/Baixa/23.0",
          "8/Baixa/23.0",
          "6/Média/23.0",
          "7/Média/23.0",
          "8/Média/23.0",
          "9/Média/23.0",
          "8/Alta",
          "9/Alta",
          "11/Alta",
          "5/Baixa",
          "6/Baixa",
          "7/Baixa",
          "8/Baixa",
          "5/Média",
          "6/Média",
          "7/Média",
          "8/Média",
          "9/Média",
          "5",
          "6",
          "7",
          "8",
          "9",
          "11"
         ],
         "labels": [
          "0.0",
          "0.0",
          "0.0",
          "0.0",
          "0.0",
          "0.0",
          "0.0",
          "0.0",
          "0.5",
          "0.5",
          "1.0",
          "1.0",
          "1.0",
          "1.0",
          "1.0",
          "1.5",
          "2.0",
          "2.0",
          "2.0",
          "2.0",
          "3.0",
          "21.0",
          "21.0",
          "21.5",
          "21.5",
          "22.0",
          "22.0",
          "22.0",
          "22.0",
          "22.5",
          "22.5",
          "22.5",
          "23.0",
          "23.0",
          "23.0",
          "23.0",
          "23.0",
          "23.0",
          "23.0",
          "23.0",
          "23.0",
          "23.0",
          "Alta",
          "Alta",
          "Alta",
          "Baixa",
          "Baixa",
          "Baixa",
          "Baixa",
          "Média",
          "Média",
          "Média",
          "Média",
          "Média",
          "5",
          "6",
          "7",
          "8",
          "9",
          "11"
         ],
         "name": "",
         "parents": [
          "8/Alta",
          "9/Alta",
          "6/Baixa",
          "7/Baixa",
          "5/Média",
          "6/Média",
          "7/Média",
          "8/Média",
          "5/Baixa",
          "7/Baixa",
          "8/Alta",
          "5/Baixa",
          "7/Baixa",
          "8/Média",
          "9/Média",
          "7/Média",
          "11/Alta",
          "6/Baixa",
          "7/Baixa",
          "7/Média",
          "6/Baixa",
          "8/Alta",
          "7/Baixa",
          "9/Alta",
          "5/Baixa",
          "6/Baixa",
          "8/Baixa",
          "7/Média",
          "8/Média",
          "9/Alta",
          "6/Baixa",
          "8/Média",
          "8/Alta",
          "9/Alta",
          "5/Baixa",
          "6/Baixa",
          "7/Baixa",
          "8/Baixa",
          "6/Média",
          "7/Média",
          "8/Média",
          "9/Média",
          "8",
          "9",
          "11",
          "5",
          "6",
          "7",
          "8",
          "5",
          "6",
          "7",
          "8",
          "9",
          "",
          "",
          "",
          "",
          "",
          ""
         ],
         "type": "treemap",
         "values": [
          1,
          1,
          6,
          1,
          1,
          1,
          2,
          1,
          1,
          1,
          1,
          1,
          3,
          1,
          1,
          1,
          1,
          1,
          2,
          1,
          1,
          1,
          1,
          1,
          1,
          2,
          1,
          3,
          4,
          1,
          1,
          1,
          1,
          1,
          1,
          1,
          2,
          1,
          3,
          4,
          3,
          1,
          4,
          4,
          1,
          4,
          12,
          10,
          2,
          1,
          4,
          11,
          10,
          2,
          5,
          16,
          21,
          16,
          6,
          1
         ]
        }
       ],
       "layout": {
        "legend": {
         "tracegroupgap": 0
        },
        "margin": {
         "t": 60
        },
        "template": {
         "data": {
          "bar": [
           {
            "error_x": {
             "color": "#2a3f5f"
            },
            "error_y": {
             "color": "#2a3f5f"
            },
            "marker": {
             "line": {
              "color": "#E5ECF6",
              "width": 0.5
             },
             "pattern": {
              "fillmode": "overlay",
              "size": 10,
              "solidity": 0.2
             }
            },
            "type": "bar"
           }
          ],
          "barpolar": [
           {
            "marker": {
             "line": {
              "color": "#E5ECF6",
              "width": 0.5
             },
             "pattern": {
              "fillmode": "overlay",
              "size": 10,
              "solidity": 0.2
             }
            },
            "type": "barpolar"
           }
          ],
          "carpet": [
           {
            "aaxis": {
             "endlinecolor": "#2a3f5f",
             "gridcolor": "white",
             "linecolor": "white",
             "minorgridcolor": "white",
             "startlinecolor": "#2a3f5f"
            },
            "baxis": {
             "endlinecolor": "#2a3f5f",
             "gridcolor": "white",
             "linecolor": "white",
             "minorgridcolor": "white",
             "startlinecolor": "#2a3f5f"
            },
            "type": "carpet"
           }
          ],
          "choropleth": [
           {
            "colorbar": {
             "outlinewidth": 0,
             "ticks": ""
            },
            "type": "choropleth"
           }
          ],
          "contour": [
           {
            "colorbar": {
             "outlinewidth": 0,
             "ticks": ""
            },
            "colorscale": [
             [
              0,
              "#0d0887"
             ],
             [
              0.1111111111111111,
              "#46039f"
             ],
             [
              0.2222222222222222,
              "#7201a8"
             ],
             [
              0.3333333333333333,
              "#9c179e"
             ],
             [
              0.4444444444444444,
              "#bd3786"
             ],
             [
              0.5555555555555556,
              "#d8576b"
             ],
             [
              0.6666666666666666,
              "#ed7953"
             ],
             [
              0.7777777777777778,
              "#fb9f3a"
             ],
             [
              0.8888888888888888,
              "#fdca26"
             ],
             [
              1,
              "#f0f921"
             ]
            ],
            "type": "contour"
           }
          ],
          "contourcarpet": [
           {
            "colorbar": {
             "outlinewidth": 0,
             "ticks": ""
            },
            "type": "contourcarpet"
           }
          ],
          "heatmap": [
           {
            "colorbar": {
             "outlinewidth": 0,
             "ticks": ""
            },
            "colorscale": [
             [
              0,
              "#0d0887"
             ],
             [
              0.1111111111111111,
              "#46039f"
             ],
             [
              0.2222222222222222,
              "#7201a8"
             ],
             [
              0.3333333333333333,
              "#9c179e"
             ],
             [
              0.4444444444444444,
              "#bd3786"
             ],
             [
              0.5555555555555556,
              "#d8576b"
             ],
             [
              0.6666666666666666,
              "#ed7953"
             ],
             [
              0.7777777777777778,
              "#fb9f3a"
             ],
             [
              0.8888888888888888,
              "#fdca26"
             ],
             [
              1,
              "#f0f921"
             ]
            ],
            "type": "heatmap"
           }
          ],
          "heatmapgl": [
           {
            "colorbar": {
             "outlinewidth": 0,
             "ticks": ""
            },
            "colorscale": [
             [
              0,
              "#0d0887"
             ],
             [
              0.1111111111111111,
              "#46039f"
             ],
             [
              0.2222222222222222,
              "#7201a8"
             ],
             [
              0.3333333333333333,
              "#9c179e"
             ],
             [
              0.4444444444444444,
              "#bd3786"
             ],
             [
              0.5555555555555556,
              "#d8576b"
             ],
             [
              0.6666666666666666,
              "#ed7953"
             ],
             [
              0.7777777777777778,
              "#fb9f3a"
             ],
             [
              0.8888888888888888,
              "#fdca26"
             ],
             [
              1,
              "#f0f921"
             ]
            ],
            "type": "heatmapgl"
           }
          ],
          "histogram": [
           {
            "marker": {
             "pattern": {
              "fillmode": "overlay",
              "size": 10,
              "solidity": 0.2
             }
            },
            "type": "histogram"
           }
          ],
          "histogram2d": [
           {
            "colorbar": {
             "outlinewidth": 0,
             "ticks": ""
            },
            "colorscale": [
             [
              0,
              "#0d0887"
             ],
             [
              0.1111111111111111,
              "#46039f"
             ],
             [
              0.2222222222222222,
              "#7201a8"
             ],
             [
              0.3333333333333333,
              "#9c179e"
             ],
             [
              0.4444444444444444,
              "#bd3786"
             ],
             [
              0.5555555555555556,
              "#d8576b"
             ],
             [
              0.6666666666666666,
              "#ed7953"
             ],
             [
              0.7777777777777778,
              "#fb9f3a"
             ],
             [
              0.8888888888888888,
              "#fdca26"
             ],
             [
              1,
              "#f0f921"
             ]
            ],
            "type": "histogram2d"
           }
          ],
          "histogram2dcontour": [
           {
            "colorbar": {
             "outlinewidth": 0,
             "ticks": ""
            },
            "colorscale": [
             [
              0,
              "#0d0887"
             ],
             [
              0.1111111111111111,
              "#46039f"
             ],
             [
              0.2222222222222222,
              "#7201a8"
             ],
             [
              0.3333333333333333,
              "#9c179e"
             ],
             [
              0.4444444444444444,
              "#bd3786"
             ],
             [
              0.5555555555555556,
              "#d8576b"
             ],
             [
              0.6666666666666666,
              "#ed7953"
             ],
             [
              0.7777777777777778,
              "#fb9f3a"
             ],
             [
              0.8888888888888888,
              "#fdca26"
             ],
             [
              1,
              "#f0f921"
             ]
            ],
            "type": "histogram2dcontour"
           }
          ],
          "mesh3d": [
           {
            "colorbar": {
             "outlinewidth": 0,
             "ticks": ""
            },
            "type": "mesh3d"
           }
          ],
          "parcoords": [
           {
            "line": {
             "colorbar": {
              "outlinewidth": 0,
              "ticks": ""
             }
            },
            "type": "parcoords"
           }
          ],
          "pie": [
           {
            "automargin": true,
            "type": "pie"
           }
          ],
          "scatter": [
           {
            "fillpattern": {
             "fillmode": "overlay",
             "size": 10,
             "solidity": 0.2
            },
            "type": "scatter"
           }
          ],
          "scatter3d": [
           {
            "line": {
             "colorbar": {
              "outlinewidth": 0,
              "ticks": ""
             }
            },
            "marker": {
             "colorbar": {
              "outlinewidth": 0,
              "ticks": ""
             }
            },
            "type": "scatter3d"
           }
          ],
          "scattercarpet": [
           {
            "marker": {
             "colorbar": {
              "outlinewidth": 0,
              "ticks": ""
             }
            },
            "type": "scattercarpet"
           }
          ],
          "scattergeo": [
           {
            "marker": {
             "colorbar": {
              "outlinewidth": 0,
              "ticks": ""
             }
            },
            "type": "scattergeo"
           }
          ],
          "scattergl": [
           {
            "marker": {
             "colorbar": {
              "outlinewidth": 0,
              "ticks": ""
             }
            },
            "type": "scattergl"
           }
          ],
          "scattermapbox": [
           {
            "marker": {
             "colorbar": {
              "outlinewidth": 0,
              "ticks": ""
             }
            },
            "type": "scattermapbox"
           }
          ],
          "scatterpolar": [
           {
            "marker": {
             "colorbar": {
              "outlinewidth": 0,
              "ticks": ""
             }
            },
            "type": "scatterpolar"
           }
          ],
          "scatterpolargl": [
           {
            "marker": {
             "colorbar": {
              "outlinewidth": 0,
              "ticks": ""
             }
            },
            "type": "scatterpolargl"
           }
          ],
          "scatterternary": [
           {
            "marker": {
             "colorbar": {
              "outlinewidth": 0,
              "ticks": ""
             }
            },
            "type": "scatterternary"
           }
          ],
          "surface": [
           {
            "colorbar": {
             "outlinewidth": 0,
             "ticks": ""
            },
            "colorscale": [
             [
              0,
              "#0d0887"
             ],
             [
              0.1111111111111111,
              "#46039f"
             ],
             [
              0.2222222222222222,
              "#7201a8"
             ],
             [
              0.3333333333333333,
              "#9c179e"
             ],
             [
              0.4444444444444444,
              "#bd3786"
             ],
             [
              0.5555555555555556,
              "#d8576b"
             ],
             [
              0.6666666666666666,
              "#ed7953"
             ],
             [
              0.7777777777777778,
              "#fb9f3a"
             ],
             [
              0.8888888888888888,
              "#fdca26"
             ],
             [
              1,
              "#f0f921"
             ]
            ],
            "type": "surface"
           }
          ],
          "table": [
           {
            "cells": {
             "fill": {
              "color": "#EBF0F8"
             },
             "line": {
              "color": "white"
             }
            },
            "header": {
             "fill": {
              "color": "#C8D4E3"
             },
             "line": {
              "color": "white"
             }
            },
            "type": "table"
           }
          ]
         },
         "layout": {
          "annotationdefaults": {
           "arrowcolor": "#2a3f5f",
           "arrowhead": 0,
           "arrowwidth": 1
          },
          "autotypenumbers": "strict",
          "coloraxis": {
           "colorbar": {
            "outlinewidth": 0,
            "ticks": ""
           }
          },
          "colorscale": {
           "diverging": [
            [
             0,
             "#8e0152"
            ],
            [
             0.1,
             "#c51b7d"
            ],
            [
             0.2,
             "#de77ae"
            ],
            [
             0.3,
             "#f1b6da"
            ],
            [
             0.4,
             "#fde0ef"
            ],
            [
             0.5,
             "#f7f7f7"
            ],
            [
             0.6,
             "#e6f5d0"
            ],
            [
             0.7,
             "#b8e186"
            ],
            [
             0.8,
             "#7fbc41"
            ],
            [
             0.9,
             "#4d9221"
            ],
            [
             1,
             "#276419"
            ]
           ],
           "sequential": [
            [
             0,
             "#0d0887"
            ],
            [
             0.1111111111111111,
             "#46039f"
            ],
            [
             0.2222222222222222,
             "#7201a8"
            ],
            [
             0.3333333333333333,
             "#9c179e"
            ],
            [
             0.4444444444444444,
             "#bd3786"
            ],
            [
             0.5555555555555556,
             "#d8576b"
            ],
            [
             0.6666666666666666,
             "#ed7953"
            ],
            [
             0.7777777777777778,
             "#fb9f3a"
            ],
            [
             0.8888888888888888,
             "#fdca26"
            ],
            [
             1,
             "#f0f921"
            ]
           ],
           "sequentialminus": [
            [
             0,
             "#0d0887"
            ],
            [
             0.1111111111111111,
             "#46039f"
            ],
            [
             0.2222222222222222,
             "#7201a8"
            ],
            [
             0.3333333333333333,
             "#9c179e"
            ],
            [
             0.4444444444444444,
             "#bd3786"
            ],
            [
             0.5555555555555556,
             "#d8576b"
            ],
            [
             0.6666666666666666,
             "#ed7953"
            ],
            [
             0.7777777777777778,
             "#fb9f3a"
            ],
            [
             0.8888888888888888,
             "#fdca26"
            ],
            [
             1,
             "#f0f921"
            ]
           ]
          },
          "colorway": [
           "#636efa",
           "#EF553B",
           "#00cc96",
           "#ab63fa",
           "#FFA15A",
           "#19d3f3",
           "#FF6692",
           "#B6E880",
           "#FF97FF",
           "#FECB52"
          ],
          "font": {
           "color": "#2a3f5f"
          },
          "geo": {
           "bgcolor": "white",
           "lakecolor": "white",
           "landcolor": "#E5ECF6",
           "showlakes": true,
           "showland": true,
           "subunitcolor": "white"
          },
          "hoverlabel": {
           "align": "left"
          },
          "hovermode": "closest",
          "mapbox": {
           "style": "light"
          },
          "paper_bgcolor": "white",
          "plot_bgcolor": "#E5ECF6",
          "polar": {
           "angularaxis": {
            "gridcolor": "white",
            "linecolor": "white",
            "ticks": ""
           },
           "bgcolor": "#E5ECF6",
           "radialaxis": {
            "gridcolor": "white",
            "linecolor": "white",
            "ticks": ""
           }
          },
          "scene": {
           "xaxis": {
            "backgroundcolor": "#E5ECF6",
            "gridcolor": "white",
            "gridwidth": 2,
            "linecolor": "white",
            "showbackground": true,
            "ticks": "",
            "zerolinecolor": "white"
           },
           "yaxis": {
            "backgroundcolor": "#E5ECF6",
            "gridcolor": "white",
            "gridwidth": 2,
            "linecolor": "white",
            "showbackground": true,
            "ticks": "",
            "zerolinecolor": "white"
           },
           "zaxis": {
            "backgroundcolor": "#E5ECF6",
            "gridcolor": "white",
            "gridwidth": 2,
            "linecolor": "white",
            "showbackground": true,
            "ticks": "",
            "zerolinecolor": "white"
           }
          },
          "shapedefaults": {
           "line": {
            "color": "#2a3f5f"
           }
          },
          "ternary": {
           "aaxis": {
            "gridcolor": "white",
            "linecolor": "white",
            "ticks": ""
           },
           "baxis": {
            "gridcolor": "white",
            "linecolor": "white",
            "ticks": ""
           },
           "bgcolor": "#E5ECF6",
           "caxis": {
            "gridcolor": "white",
            "linecolor": "white",
            "ticks": ""
           }
          },
          "title": {
           "x": 0.05
          },
          "xaxis": {
           "automargin": true,
           "gridcolor": "white",
           "linecolor": "white",
           "ticks": "",
           "title": {
            "standoff": 15
           },
           "zerolinecolor": "white",
           "zerolinewidth": 2
          },
          "yaxis": {
           "automargin": true,
           "gridcolor": "white",
           "linecolor": "white",
           "ticks": "",
           "title": {
            "standoff": 15
           },
           "zerolinecolor": "white",
           "zerolinewidth": 2
          }
         }
        }
       }
      }
     },
     "metadata": {},
     "output_type": "display_data"
    }
   ],
   "source": [
    "grafico = px.treemap(base_sleep, path = ['Duração do sono', 'Disposição ao acordar', 'Em que horário dorme'])\n",
    "grafico.show()"
   ]
  },
  {
   "cell_type": "code",
   "execution_count": 1410,
   "metadata": {},
   "outputs": [
    {
     "data": {
      "text/plain": [
       "array([[20. ,  9. , 22.5,  4. ,  1. ,  1. ],\n",
       "       [20. ,  7. ,  0. ,  5. ,  0. ,  2. ],\n",
       "       [18. ,  8. , 23. ,  6. ,  1. ,  0. ],\n",
       "       [18. ,  7. , 22. ,  5. ,  1. ,  1. ],\n",
       "       [29. ,  8. , 22. ,  5. ,  0. ,  2. ],\n",
       "       [27. ,  7. , 23. ,  6. ,  1. ,  2. ],\n",
       "       [30. ,  7. , 21. ,  4. ,  1. ,  0. ],\n",
       "       [22. ,  6. ,  0. ,  7. ,  1. ,  2. ],\n",
       "       [22. ,  8. , 22. ,  4. ,  1. ,  1. ],\n",
       "       [21. ,  5. , 21.5,  5. ,  0. ,  2. ],\n",
       "       [26. ,  7. ,  2. ,  6. ,  0. ,  0. ],\n",
       "       [21. ,  7. ,  0.5,  7. ,  0. ,  1. ],\n",
       "       [22. ,  8. , 22. ,  5. ,  0. ,  0. ],\n",
       "       [20. ,  7. ,  1. ,  6. ,  1. ,  2. ],\n",
       "       [21. ,  8. , 23. ,  4. ,  1. ,  1. ],\n",
       "       [26. ,  6. ,  0. ,  8. ,  1. ,  1. ],\n",
       "       [27. ,  7. , 23. ,  7. ,  1. ,  1. ],\n",
       "       [27. ,  9. , 21.5,  5. ,  0. ,  1. ],\n",
       "       [17. , 11. ,  2. ,  7. ,  0. ,  0. ],\n",
       "       [18. ,  8. , 23. ,  7. ,  0. ,  1. ],\n",
       "       [18. ,  7. ,  0. ,  5. ,  1. ,  0. ],\n",
       "       [17. ,  9. , 23. ,  7. ,  1. ,  1. ],\n",
       "       [22. ,  6. , 22. ,  5. ,  1. ,  2. ],\n",
       "       [22. ,  7. ,  2. ,  8. ,  1. ,  2. ],\n",
       "       [18. ,  5. ,  1. ,  5. ,  1. ,  1. ],\n",
       "       [17. ,  5. ,  0. ,  7. ,  1. ,  1. ],\n",
       "       [23. ,  6. , 22.5,  7. ,  1. ,  1. ],\n",
       "       [17. ,  8. ,  0. ,  7. ,  1. ,  1. ],\n",
       "       [22. ,  6. , 23. ,  6. ,  1. ,  1. ],\n",
       "       [23. ,  6. , 23. ,  5. ,  1. ,  1. ],\n",
       "       [17. ,  7. ,  2. ,  7. ,  1. ,  1. ],\n",
       "       [17. ,  7. , 22. ,  7. ,  0. ,  1. ],\n",
       "       [27. ,  9. ,  0. ,  3. ,  1. ,  2. ],\n",
       "       [21. ,  6. ,  0. ,  6. ,  1. ,  2. ],\n",
       "       [13. ,  5. ,  0.5,  6. ,  1. ,  1. ],\n",
       "       [18. ,  6. ,  3. ,  6. ,  0. ,  0. ],\n",
       "       [20. ,  8. , 22. ,  8. ,  1. ,  1. ],\n",
       "       [18. ,  7. , 23. ,  7. ,  1. ,  2. ],\n",
       "       [18. ,  6. , 23. ,  3. ,  1. ,  2. ],\n",
       "       [18. ,  5. , 23. ,  4. ,  0. ,  2. ],\n",
       "       [18. ,  8. ,  1. ,  6. ,  0. ,  1. ],\n",
       "       [18. ,  6. , 22. ,  4. ,  1. ,  1. ],\n",
       "       [20. ,  8. , 21. ,  3. ,  1. ,  1. ],\n",
       "       [21. ,  7. , 23. ,  9. ,  1. ,  2. ],\n",
       "       [21. ,  6. ,  0. ,  3. ,  1. ,  2. ],\n",
       "       [21. ,  6. ,  0. ,  7. ,  1. ,  1. ],\n",
       "       [20. ,  6. , 23. ,  4. ,  1. ,  1. ],\n",
       "       [16. ,  7. ,  0. ,  6. ,  1. ,  0. ],\n",
       "       [19. ,  8. , 23. ,  6. ,  1. ,  0. ],\n",
       "       [24. ,  7. ,  1.5,  4. ,  0. ,  1. ],\n",
       "       [20. ,  9. ,  1. ,  6. ,  1. ,  0. ],\n",
       "       [18. ,  9. , 23. ,  6. ,  1. ,  1. ],\n",
       "       [20. ,  8. , 23. ,  4. ,  1. ,  1. ],\n",
       "       [14. ,  6. ,  0. ,  6. ,  0. ,  0. ],\n",
       "       [13. ,  7. , 23. ,  6. ,  0. ,  1. ],\n",
       "       [14. ,  8. , 22.5,  9. ,  1. ,  1. ],\n",
       "       [14. ,  7. , 23. , 12. ,  1. ,  1. ],\n",
       "       [14. ,  8. ,  0. ,  6. ,  1. ,  1. ],\n",
       "       [14. ,  6. ,  2. ,  8. ,  1. ,  1. ],\n",
       "       [24. ,  7. ,  1. ,  5. ,  1. ,  1. ],\n",
       "       [20. ,  8. ,  1. ,  6. ,  0. ,  0. ],\n",
       "       [18. ,  7. , 22. ,  5. ,  1. ,  1. ],\n",
       "       [20. ,  8. , 22. ,  8. ,  1. ,  1. ],\n",
       "       [20. ,  7. ,  1. ,  7. ,  1. ,  1. ],\n",
       "       [18. ,  6. ,  0. ,  5. ,  1. ,  2. ]])"
      ]
     },
     "execution_count": 1410,
     "metadata": {},
     "output_type": "execute_result"
    }
   ],
   "source": [
    "X_sono = base_sleep.iloc[:, 1:7].values\n",
    "X_sono"
   ]
  },
  {
   "cell_type": "code",
   "execution_count": 1411,
   "metadata": {},
   "outputs": [
    {
     "data": {
      "text/plain": [
       "array(['Alta', 'Média', 'Alta', 'Média', 'Baixa', 'Baixa', 'Baixa',\n",
       "       'Baixa', 'Média', 'Baixa', 'Baixa', 'Baixa', 'Média', 'Baixa',\n",
       "       'Média', 'Baixa', 'Média', 'Alta', 'Alta', 'Baixa', 'Média',\n",
       "       'Média', 'Baixa', 'Média', 'Baixa', 'Média', 'Baixa', 'Alta',\n",
       "       'Média', 'Média', 'Baixa', 'Média', 'Alta', 'Baixa', 'Baixa',\n",
       "       'Baixa', 'Média', 'Média', 'Baixa', 'Baixa', 'Média', 'Baixa',\n",
       "       'Alta', 'Média', 'Baixa', 'Baixa', 'Média', 'Baixa', 'Média',\n",
       "       'Média', 'Média', 'Alta', 'Média', 'Média', 'Média', 'Média',\n",
       "       'Baixa', 'Média', 'Baixa', 'Baixa', 'Alta', 'Média', 'Média',\n",
       "       'Baixa', 'Baixa'], dtype=object)"
      ]
     },
     "execution_count": 1411,
     "metadata": {},
     "output_type": "execute_result"
    }
   ],
   "source": [
    "y_sono = base_sleep.iloc[:, 7].values\n",
    "y_sono"
   ]
  },
  {
   "cell_type": "code",
   "execution_count": 1412,
   "metadata": {},
   "outputs": [
    {
     "data": {
      "text/plain": [
       "(-1.833614818826794,\n",
       " -1.7640037660605032,\n",
       " -1.1467289442927795,\n",
       " -1.7767503283210608,\n",
       " -1.680336100833612,\n",
       " -1.6245415522506381)"
      ]
     },
     "execution_count": 1412,
     "metadata": {},
     "output_type": "execute_result"
    }
   ],
   "source": [
    "from sklearn.preprocessing import StandardScaler\n",
    "scaler = StandardScaler()\n",
    "X_sono = scaler.fit_transform(X_sono)\n",
    "X_sono[:,0].min(), X_sono[:,1].min(), X_sono[:,2].min(), X_sono[:,3].min(), X_sono[:,4].min(), X_sono[:,5].min()"
   ]
  },
  {
   "cell_type": "code",
   "execution_count": 1413,
   "metadata": {},
   "outputs": [
    {
     "data": {
      "text/plain": [
       "array([0, 2, 0, 2, 1, 1, 1, 1, 2, 1, 1, 1, 2, 1, 2, 1, 2, 0, 0, 1, 2, 2,\n",
       "       1, 2, 1, 2, 1, 0, 2, 2, 1, 2, 0, 1, 1, 1, 2, 2, 1, 1, 2, 1, 0, 2,\n",
       "       1, 1, 2, 1, 2, 2, 2, 0, 2, 2, 2, 2, 1, 2, 1, 1, 0, 2, 2, 1, 1])"
      ]
     },
     "execution_count": 1413,
     "metadata": {},
     "output_type": "execute_result"
    }
   ],
   "source": [
    "from sklearn.preprocessing import LabelEncoder\n",
    "labelencoder = LabelEncoder()\n",
    "y_sono = labelencoder.fit_transform(y_sono)\n",
    "y_sono"
   ]
  },
  {
   "cell_type": "code",
   "execution_count": 1414,
   "metadata": {},
   "outputs": [],
   "source": [
    "from sklearn.model_selection import train_test_split\n",
    "X_sono_train, X_sono_teste, y_sono_train, y_sono_teste = train_test_split(X_sono, y_sono, test_size = 0.25, random_state = 0)"
   ]
  },
  {
   "cell_type": "code",
   "execution_count": 1415,
   "metadata": {},
   "outputs": [
    {
     "data": {
      "text/plain": [
       "((48, 6), (17, 6), (48,), (17,))"
      ]
     },
     "execution_count": 1415,
     "metadata": {},
     "output_type": "execute_result"
    }
   ],
   "source": [
    "X_sono_train.shape, X_sono_teste.shape, y_sono_train.shape, y_sono_teste.shape"
   ]
  },
  {
   "cell_type": "code",
   "execution_count": 1416,
   "metadata": {},
   "outputs": [],
   "source": [
    "import pickle\n",
    "\n",
    "with open('X_sono_train.pkl', 'wb') as file:\n",
    "    pickle.dump([X_sono_train, y_sono_train, X_sono_teste, y_sono_teste], file)"
   ]
  },
  {
   "cell_type": "code",
   "execution_count": 1417,
   "metadata": {},
   "outputs": [],
   "source": [
    "with open('X_sono_train.pkl', 'rb') as file:\n",
    "    X_sono_train, y_sono_train, X_sono_teste, y_sono_teste = pickle.load(file)"
   ]
  },
  {
   "cell_type": "code",
   "execution_count": 1418,
   "metadata": {},
   "outputs": [
    {
     "name": "stdout",
     "output_type": "stream",
     "text": [
      "Iteration 1, loss = 1.26935556\n",
      "Iteration 2, loss = 1.23864900\n",
      "Iteration 3, loss = 1.20947416\n",
      "Iteration 4, loss = 1.18171743\n",
      "Iteration 5, loss = 1.15561458\n",
      "Iteration 6, loss = 1.13044878\n",
      "Iteration 7, loss = 1.10674833\n",
      "Iteration 8, loss = 1.08421534\n",
      "Iteration 9, loss = 1.06220368\n",
      "Iteration 10, loss = 1.04115996\n",
      "Iteration 11, loss = 1.02098899\n",
      "Iteration 12, loss = 1.00173292\n",
      "Iteration 13, loss = 0.98312464\n",
      "Iteration 14, loss = 0.96521652\n",
      "Iteration 15, loss = 0.94808458\n",
      "Iteration 16, loss = 0.93182932\n",
      "Iteration 17, loss = 0.91629970\n",
      "Iteration 18, loss = 0.90122078\n",
      "Iteration 19, loss = 0.88683731\n",
      "Iteration 20, loss = 0.87325572\n",
      "Iteration 21, loss = 0.86013226\n",
      "Iteration 22, loss = 0.84749230\n",
      "Iteration 23, loss = 0.83524629\n",
      "Iteration 24, loss = 0.82351136\n",
      "Iteration 25, loss = 0.81222985\n",
      "Iteration 26, loss = 0.80125730\n",
      "Iteration 27, loss = 0.79071165\n",
      "Iteration 28, loss = 0.78045877\n",
      "Iteration 29, loss = 0.77046613\n",
      "Iteration 30, loss = 0.76064950\n",
      "Iteration 31, loss = 0.75113285\n",
      "Iteration 32, loss = 0.74187122\n",
      "Iteration 33, loss = 0.73279847\n",
      "Iteration 34, loss = 0.72386954\n",
      "Iteration 35, loss = 0.71500993\n",
      "Iteration 36, loss = 0.70616576\n",
      "Iteration 37, loss = 0.69737960\n",
      "Iteration 38, loss = 0.68871707\n",
      "Iteration 39, loss = 0.68028318\n",
      "Iteration 40, loss = 0.67197735\n",
      "Iteration 41, loss = 0.66375517\n",
      "Iteration 42, loss = 0.65567382\n",
      "Iteration 43, loss = 0.64769610\n",
      "Iteration 44, loss = 0.63983852\n",
      "Iteration 45, loss = 0.63220980\n",
      "Iteration 46, loss = 0.62470411\n",
      "Iteration 47, loss = 0.61724619\n",
      "Iteration 48, loss = 0.60988421\n",
      "Iteration 49, loss = 0.60256979\n",
      "Iteration 50, loss = 0.59538442\n",
      "Iteration 51, loss = 0.58838429\n",
      "Iteration 52, loss = 0.58158262\n",
      "Iteration 53, loss = 0.57478567\n",
      "Iteration 54, loss = 0.56800161\n",
      "Iteration 55, loss = 0.56129293\n",
      "Iteration 56, loss = 0.55466157\n",
      "Iteration 57, loss = 0.54802413\n",
      "Iteration 58, loss = 0.54145824\n",
      "Iteration 59, loss = 0.53495363\n",
      "Iteration 60, loss = 0.52846183\n",
      "Iteration 61, loss = 0.52201096\n",
      "Iteration 62, loss = 0.51564119\n",
      "Iteration 63, loss = 0.50937035\n",
      "Iteration 64, loss = 0.50316956\n",
      "Iteration 65, loss = 0.49707602\n",
      "Iteration 66, loss = 0.49101772\n",
      "Iteration 67, loss = 0.48498535\n",
      "Iteration 68, loss = 0.47897973\n",
      "Iteration 69, loss = 0.47306746\n",
      "Iteration 70, loss = 0.46723254\n",
      "Iteration 71, loss = 0.46145491\n",
      "Iteration 72, loss = 0.45570521\n",
      "Iteration 73, loss = 0.45006800\n",
      "Iteration 74, loss = 0.44457485\n",
      "Iteration 75, loss = 0.43912295\n",
      "Iteration 76, loss = 0.43373085\n",
      "Iteration 77, loss = 0.42841341\n",
      "Iteration 78, loss = 0.42314087\n",
      "Iteration 79, loss = 0.41791452\n",
      "Iteration 80, loss = 0.41271612\n",
      "Iteration 81, loss = 0.40751857\n",
      "Iteration 82, loss = 0.40239484\n",
      "Iteration 83, loss = 0.39738812\n",
      "Iteration 84, loss = 0.39246576\n",
      "Iteration 85, loss = 0.38756477\n",
      "Iteration 86, loss = 0.38272520\n",
      "Iteration 87, loss = 0.37797435\n",
      "Iteration 88, loss = 0.37325390\n",
      "Iteration 89, loss = 0.36851329\n",
      "Iteration 90, loss = 0.36379423\n",
      "Iteration 91, loss = 0.35903738\n",
      "Iteration 92, loss = 0.35437347\n",
      "Iteration 93, loss = 0.34973999\n",
      "Iteration 94, loss = 0.34509334\n",
      "Iteration 95, loss = 0.34055171\n",
      "Iteration 96, loss = 0.33604591\n",
      "Iteration 97, loss = 0.33164620\n",
      "Iteration 98, loss = 0.32734803\n",
      "Iteration 99, loss = 0.32317962\n",
      "Iteration 100, loss = 0.31894955\n",
      "Iteration 101, loss = 0.31473670\n",
      "Iteration 102, loss = 0.31052636\n",
      "Iteration 103, loss = 0.30632820\n",
      "Iteration 104, loss = 0.30221008\n",
      "Iteration 105, loss = 0.29823254\n",
      "Iteration 106, loss = 0.29430433\n",
      "Iteration 107, loss = 0.29034442\n",
      "Iteration 108, loss = 0.28652063\n",
      "Iteration 109, loss = 0.28276002\n",
      "Iteration 110, loss = 0.27905914\n",
      "Iteration 111, loss = 0.27535370\n",
      "Iteration 112, loss = 0.27164253\n",
      "Iteration 113, loss = 0.26797895\n",
      "Iteration 114, loss = 0.26438182\n",
      "Iteration 115, loss = 0.26079073\n",
      "Iteration 116, loss = 0.25724950\n",
      "Iteration 117, loss = 0.25375360\n",
      "Iteration 118, loss = 0.25033502\n",
      "Iteration 119, loss = 0.24696440\n",
      "Iteration 120, loss = 0.24363402\n",
      "Iteration 121, loss = 0.24036964\n",
      "Iteration 122, loss = 0.23710717\n",
      "Iteration 123, loss = 0.23386387\n",
      "Iteration 124, loss = 0.23063294\n",
      "Iteration 125, loss = 0.22744707\n",
      "Iteration 126, loss = 0.22431761\n",
      "Iteration 127, loss = 0.22121700\n",
      "Iteration 128, loss = 0.21813402\n",
      "Iteration 129, loss = 0.21514159\n",
      "Iteration 130, loss = 0.21216693\n",
      "Iteration 131, loss = 0.20927990\n",
      "Iteration 132, loss = 0.20647408\n",
      "Iteration 133, loss = 0.20369708\n",
      "Iteration 134, loss = 0.20097506\n",
      "Iteration 135, loss = 0.19829569\n",
      "Iteration 136, loss = 0.19563426\n",
      "Iteration 137, loss = 0.19302053\n",
      "Iteration 138, loss = 0.19047133\n",
      "Iteration 139, loss = 0.18784561\n",
      "Iteration 140, loss = 0.18524609\n",
      "Iteration 141, loss = 0.18270014\n",
      "Iteration 142, loss = 0.18018717\n",
      "Iteration 143, loss = 0.17772241\n",
      "Iteration 144, loss = 0.17527304\n",
      "Iteration 145, loss = 0.17286737\n",
      "Iteration 146, loss = 0.17050098\n",
      "Iteration 147, loss = 0.16815909\n",
      "Iteration 148, loss = 0.16580869\n",
      "Iteration 149, loss = 0.16351430\n",
      "Iteration 150, loss = 0.16125519\n",
      "Iteration 151, loss = 0.15904902\n",
      "Iteration 152, loss = 0.15686380\n",
      "Iteration 153, loss = 0.15469192\n",
      "Iteration 154, loss = 0.15252716\n",
      "Iteration 155, loss = 0.15038293\n",
      "Iteration 156, loss = 0.14829475\n",
      "Iteration 157, loss = 0.14621226\n",
      "Iteration 158, loss = 0.14417806\n",
      "Iteration 159, loss = 0.14215775\n",
      "Iteration 160, loss = 0.14018033\n",
      "Iteration 161, loss = 0.13822512\n",
      "Iteration 162, loss = 0.13625503\n",
      "Iteration 163, loss = 0.13432565\n",
      "Iteration 164, loss = 0.13243865\n",
      "Iteration 165, loss = 0.13059349\n",
      "Iteration 166, loss = 0.12874884\n",
      "Iteration 167, loss = 0.12690459\n",
      "Iteration 168, loss = 0.12512568\n",
      "Iteration 169, loss = 0.12343469\n",
      "Iteration 170, loss = 0.12175507\n",
      "Iteration 171, loss = 0.12004553\n",
      "Iteration 172, loss = 0.11835345\n",
      "Iteration 173, loss = 0.11669347\n",
      "Iteration 174, loss = 0.11508110\n",
      "Iteration 175, loss = 0.11350135\n",
      "Iteration 176, loss = 0.11192907\n",
      "Iteration 177, loss = 0.11035428\n",
      "Iteration 178, loss = 0.10880615\n",
      "Iteration 179, loss = 0.10730481\n",
      "Iteration 180, loss = 0.10581298\n",
      "Iteration 181, loss = 0.10435549\n",
      "Iteration 182, loss = 0.10291935\n",
      "Iteration 183, loss = 0.10149307\n",
      "Iteration 184, loss = 0.10009347\n",
      "Iteration 185, loss = 0.09868848\n",
      "Iteration 186, loss = 0.09731530\n",
      "Iteration 187, loss = 0.09594148\n",
      "Iteration 188, loss = 0.09459465\n",
      "Iteration 189, loss = 0.09326270\n",
      "Iteration 190, loss = 0.09196282\n",
      "Iteration 191, loss = 0.09066238\n",
      "Iteration 192, loss = 0.08942394\n",
      "Iteration 193, loss = 0.08820507\n",
      "Iteration 194, loss = 0.08700302\n",
      "Iteration 195, loss = 0.08583411\n",
      "Iteration 196, loss = 0.08468129\n",
      "Iteration 197, loss = 0.08354698\n",
      "Iteration 198, loss = 0.08240721\n",
      "Iteration 199, loss = 0.08128069\n",
      "Iteration 200, loss = 0.08016916\n",
      "Iteration 201, loss = 0.07908513\n",
      "Iteration 202, loss = 0.07801691\n",
      "Iteration 203, loss = 0.07695857\n",
      "Iteration 204, loss = 0.07590347\n",
      "Iteration 205, loss = 0.07486178\n",
      "Iteration 206, loss = 0.07384622\n",
      "Iteration 207, loss = 0.07284126\n",
      "Iteration 208, loss = 0.07183826\n",
      "Iteration 209, loss = 0.07083450\n",
      "Iteration 210, loss = 0.06986189\n",
      "Iteration 211, loss = 0.06889436\n",
      "Iteration 212, loss = 0.06793103\n",
      "Iteration 213, loss = 0.06698160\n",
      "Iteration 214, loss = 0.06605616\n",
      "Iteration 215, loss = 0.06516024\n",
      "Iteration 216, loss = 0.06423876\n",
      "Iteration 217, loss = 0.06334011\n",
      "Iteration 218, loss = 0.06244892\n",
      "Iteration 219, loss = 0.06157833\n",
      "Iteration 220, loss = 0.06070929\n",
      "Iteration 221, loss = 0.05984010\n",
      "Iteration 222, loss = 0.05899032\n",
      "Iteration 223, loss = 0.05815811\n",
      "Iteration 224, loss = 0.05734053\n",
      "Iteration 225, loss = 0.05652849\n",
      "Iteration 226, loss = 0.05573134\n",
      "Iteration 227, loss = 0.05497215\n",
      "Iteration 228, loss = 0.05423609\n",
      "Iteration 229, loss = 0.05351128\n",
      "Iteration 230, loss = 0.05280417\n",
      "Iteration 231, loss = 0.05210511\n",
      "Iteration 232, loss = 0.05141351\n",
      "Iteration 233, loss = 0.05072687\n",
      "Iteration 234, loss = 0.05004555\n",
      "Iteration 235, loss = 0.04937416\n",
      "Iteration 236, loss = 0.04873160\n",
      "Iteration 237, loss = 0.04808851\n",
      "Iteration 238, loss = 0.04746290\n",
      "Iteration 239, loss = 0.04683841\n",
      "Iteration 240, loss = 0.04622781\n",
      "Iteration 241, loss = 0.04562357\n",
      "Iteration 242, loss = 0.04503436\n",
      "Iteration 243, loss = 0.04443381\n",
      "Iteration 244, loss = 0.04386201\n",
      "Iteration 245, loss = 0.04329597\n",
      "Iteration 246, loss = 0.04273463\n",
      "Iteration 247, loss = 0.04218277\n",
      "Iteration 248, loss = 0.04164237\n",
      "Iteration 249, loss = 0.04110798\n",
      "Iteration 250, loss = 0.04058533\n",
      "Iteration 251, loss = 0.04006547\n",
      "Iteration 252, loss = 0.03955727\n",
      "Iteration 253, loss = 0.03905155\n",
      "Iteration 254, loss = 0.03855945\n",
      "Iteration 255, loss = 0.03807837\n",
      "Iteration 256, loss = 0.03759423\n",
      "Iteration 257, loss = 0.03712639\n",
      "Iteration 258, loss = 0.03666737\n",
      "Iteration 259, loss = 0.03621760\n",
      "Iteration 260, loss = 0.03576868\n",
      "Iteration 261, loss = 0.03532686\n",
      "Iteration 262, loss = 0.03489612\n",
      "Iteration 263, loss = 0.03447121\n",
      "Iteration 264, loss = 0.03404198\n",
      "Iteration 265, loss = 0.03363175\n",
      "Iteration 266, loss = 0.03322613\n",
      "Iteration 267, loss = 0.03281983\n",
      "Iteration 268, loss = 0.03241880\n",
      "Iteration 269, loss = 0.03203288\n",
      "Iteration 270, loss = 0.03164308\n",
      "Iteration 271, loss = 0.03125926\n",
      "Iteration 272, loss = 0.03088204\n",
      "Iteration 273, loss = 0.03051172\n",
      "Iteration 274, loss = 0.03014667\n",
      "Iteration 275, loss = 0.02978618\n",
      "Iteration 276, loss = 0.02942640\n",
      "Iteration 277, loss = 0.02907497\n",
      "Iteration 278, loss = 0.02873509\n",
      "Iteration 279, loss = 0.02839790\n",
      "Iteration 280, loss = 0.02806080\n",
      "Iteration 281, loss = 0.02773868\n",
      "Iteration 282, loss = 0.02741231\n",
      "Iteration 283, loss = 0.02709407\n",
      "Iteration 284, loss = 0.02677847\n",
      "Iteration 285, loss = 0.02646939\n",
      "Iteration 286, loss = 0.02615957\n",
      "Iteration 287, loss = 0.02585952\n",
      "Iteration 288, loss = 0.02556097\n",
      "Iteration 289, loss = 0.02526505\n",
      "Iteration 290, loss = 0.02497536\n",
      "Iteration 291, loss = 0.02469129\n",
      "Iteration 292, loss = 0.02441178\n",
      "Iteration 293, loss = 0.02413334\n",
      "Iteration 294, loss = 0.02385545\n",
      "Iteration 295, loss = 0.02358259\n",
      "Iteration 296, loss = 0.02331093\n",
      "Iteration 297, loss = 0.02304648\n",
      "Iteration 298, loss = 0.02278500\n",
      "Iteration 299, loss = 0.02252849\n",
      "Iteration 300, loss = 0.02227029\n",
      "Iteration 301, loss = 0.02201892\n",
      "Iteration 302, loss = 0.02177362\n",
      "Iteration 303, loss = 0.02153699\n",
      "Iteration 304, loss = 0.02129643\n",
      "Iteration 305, loss = 0.02105622\n",
      "Iteration 306, loss = 0.02082436\n",
      "Iteration 307, loss = 0.02059439\n",
      "Iteration 308, loss = 0.02036815\n",
      "Iteration 309, loss = 0.02014445\n",
      "Iteration 310, loss = 0.01992518\n",
      "Iteration 311, loss = 0.01971088\n",
      "Iteration 312, loss = 0.01949919\n",
      "Iteration 313, loss = 0.01928874\n",
      "Iteration 314, loss = 0.01908443\n",
      "Iteration 315, loss = 0.01888173\n",
      "Iteration 316, loss = 0.01868325\n",
      "Iteration 317, loss = 0.01849003\n",
      "Iteration 318, loss = 0.01829751\n",
      "Iteration 319, loss = 0.01810771\n",
      "Iteration 320, loss = 0.01792153\n",
      "Iteration 321, loss = 0.01773616\n",
      "Iteration 322, loss = 0.01755812\n",
      "Iteration 323, loss = 0.01738060\n",
      "Iteration 324, loss = 0.01720598\n",
      "Iteration 325, loss = 0.01703512\n",
      "Iteration 326, loss = 0.01686667\n",
      "Iteration 327, loss = 0.01669972\n",
      "Iteration 328, loss = 0.01653513\n",
      "Iteration 329, loss = 0.01637564\n",
      "Iteration 330, loss = 0.01621395\n",
      "Iteration 331, loss = 0.01605932\n",
      "Iteration 332, loss = 0.01590427\n",
      "Iteration 333, loss = 0.01575092\n",
      "Iteration 334, loss = 0.01559999\n",
      "Iteration 335, loss = 0.01545237\n",
      "Iteration 336, loss = 0.01530711\n",
      "Iteration 337, loss = 0.01516086\n",
      "Iteration 338, loss = 0.01501828\n",
      "Iteration 339, loss = 0.01487715\n",
      "Iteration 340, loss = 0.01474037\n",
      "Iteration 341, loss = 0.01460328\n",
      "Iteration 342, loss = 0.01446640\n",
      "Iteration 343, loss = 0.01433352\n",
      "Iteration 344, loss = 0.01420374\n",
      "Iteration 345, loss = 0.01407167\n",
      "Iteration 346, loss = 0.01394411\n",
      "Iteration 347, loss = 0.01381852\n",
      "Iteration 348, loss = 0.01369718\n",
      "Iteration 349, loss = 0.01357584\n",
      "Iteration 350, loss = 0.01345142\n",
      "Iteration 351, loss = 0.01333116\n",
      "Iteration 352, loss = 0.01321327\n",
      "Iteration 353, loss = 0.01309713\n",
      "Iteration 354, loss = 0.01298136\n",
      "Iteration 355, loss = 0.01286855\n",
      "Iteration 356, loss = 0.01275444\n",
      "Iteration 357, loss = 0.01264203\n",
      "Iteration 358, loss = 0.01253163\n",
      "Iteration 359, loss = 0.01242428\n",
      "Iteration 360, loss = 0.01231716\n",
      "Iteration 361, loss = 0.01221066\n",
      "Iteration 362, loss = 0.01210760\n",
      "Iteration 363, loss = 0.01200416\n",
      "Iteration 364, loss = 0.01190381\n",
      "Iteration 365, loss = 0.01180327\n",
      "Iteration 366, loss = 0.01170178\n",
      "Iteration 367, loss = 0.01160402\n",
      "Iteration 368, loss = 0.01150810\n",
      "Iteration 369, loss = 0.01141143\n",
      "Iteration 370, loss = 0.01131734\n",
      "Iteration 371, loss = 0.01122663\n",
      "Iteration 372, loss = 0.01113438\n",
      "Iteration 373, loss = 0.01104278\n",
      "Iteration 374, loss = 0.01095276\n",
      "Iteration 375, loss = 0.01086319\n",
      "Iteration 376, loss = 0.01077445\n",
      "Iteration 377, loss = 0.01068713\n",
      "Iteration 378, loss = 0.01060167\n",
      "Iteration 379, loss = 0.01051662\n",
      "Iteration 380, loss = 0.01043250\n",
      "Iteration 381, loss = 0.01035060\n",
      "Iteration 382, loss = 0.01026907\n",
      "Iteration 383, loss = 0.01018864\n",
      "Iteration 384, loss = 0.01010754\n",
      "Iteration 385, loss = 0.01002872\n",
      "Iteration 386, loss = 0.00995176\n",
      "Iteration 387, loss = 0.00987383\n",
      "Iteration 388, loss = 0.00980028\n",
      "Iteration 389, loss = 0.00972406\n",
      "Iteration 390, loss = 0.00964891\n",
      "Iteration 391, loss = 0.00957562\n",
      "Iteration 392, loss = 0.00950240\n",
      "Iteration 393, loss = 0.00943152\n",
      "Iteration 394, loss = 0.00936069\n",
      "Iteration 395, loss = 0.00928995\n",
      "Iteration 396, loss = 0.00922066\n",
      "Iteration 397, loss = 0.00915248\n",
      "Iteration 398, loss = 0.00908405\n",
      "Iteration 399, loss = 0.00901628\n",
      "Iteration 400, loss = 0.00895127\n",
      "Iteration 401, loss = 0.00888622\n",
      "Iteration 402, loss = 0.00882056\n",
      "Iteration 403, loss = 0.00875627\n",
      "Iteration 404, loss = 0.00869384\n",
      "Iteration 405, loss = 0.00863063\n",
      "Iteration 406, loss = 0.00856815\n",
      "Iteration 407, loss = 0.00850569\n",
      "Iteration 408, loss = 0.00844496\n",
      "Iteration 409, loss = 0.00838415\n",
      "Iteration 410, loss = 0.00832523\n",
      "Iteration 411, loss = 0.00826573\n",
      "Iteration 412, loss = 0.00820768\n",
      "Iteration 413, loss = 0.00815041\n",
      "Iteration 414, loss = 0.00809364\n",
      "Iteration 415, loss = 0.00803772\n",
      "Iteration 416, loss = 0.00798125\n",
      "Iteration 417, loss = 0.00792668\n",
      "Iteration 418, loss = 0.00787255\n",
      "Iteration 419, loss = 0.00781846\n",
      "Iteration 420, loss = 0.00776498\n",
      "Iteration 421, loss = 0.00771310\n",
      "Iteration 422, loss = 0.00766048\n",
      "Iteration 423, loss = 0.00760871\n",
      "Iteration 424, loss = 0.00755755\n",
      "Iteration 425, loss = 0.00750661\n",
      "Iteration 426, loss = 0.00745681\n",
      "Iteration 427, loss = 0.00740790\n",
      "Iteration 428, loss = 0.00735931\n",
      "Iteration 429, loss = 0.00731017\n",
      "Iteration 430, loss = 0.00726131\n",
      "Iteration 431, loss = 0.00721400\n",
      "Iteration 432, loss = 0.00716722\n",
      "Iteration 433, loss = 0.00711920\n",
      "Iteration 434, loss = 0.00707273\n",
      "Iteration 435, loss = 0.00702693\n",
      "Iteration 436, loss = 0.00698122\n",
      "Iteration 437, loss = 0.00693595\n",
      "Iteration 438, loss = 0.00689110\n",
      "Iteration 439, loss = 0.00684709\n",
      "Iteration 440, loss = 0.00680414\n",
      "Iteration 441, loss = 0.00676071\n",
      "Iteration 442, loss = 0.00671771\n",
      "Iteration 443, loss = 0.00667490\n",
      "Iteration 444, loss = 0.00663273\n",
      "Iteration 445, loss = 0.00659109\n",
      "Iteration 446, loss = 0.00655012\n",
      "Iteration 447, loss = 0.00650945\n",
      "Iteration 448, loss = 0.00646876\n",
      "Iteration 449, loss = 0.00642904\n",
      "Iteration 450, loss = 0.00638960\n",
      "Iteration 451, loss = 0.00635040\n",
      "Iteration 452, loss = 0.00631237\n",
      "Iteration 453, loss = 0.00627368\n",
      "Iteration 454, loss = 0.00623525\n",
      "Iteration 455, loss = 0.00619745\n",
      "Iteration 456, loss = 0.00616065\n",
      "Iteration 457, loss = 0.00612323\n",
      "Iteration 458, loss = 0.00608600\n",
      "Iteration 459, loss = 0.00604910\n",
      "Iteration 460, loss = 0.00601401\n",
      "Iteration 461, loss = 0.00597828\n",
      "Iteration 462, loss = 0.00594231\n",
      "Iteration 463, loss = 0.00590639\n",
      "Iteration 464, loss = 0.00587227\n",
      "Iteration 465, loss = 0.00583813\n",
      "Iteration 466, loss = 0.00580382\n",
      "Iteration 467, loss = 0.00576949\n",
      "Iteration 468, loss = 0.00573576\n",
      "Iteration 469, loss = 0.00570249\n",
      "Iteration 470, loss = 0.00566957\n",
      "Iteration 471, loss = 0.00563701\n",
      "Iteration 472, loss = 0.00560456\n",
      "Iteration 473, loss = 0.00557229\n",
      "Iteration 474, loss = 0.00554062\n",
      "Iteration 475, loss = 0.00550919\n",
      "Iteration 476, loss = 0.00547794\n",
      "Iteration 477, loss = 0.00544744\n",
      "Iteration 478, loss = 0.00541674\n",
      "Iteration 479, loss = 0.00538640\n",
      "Iteration 480, loss = 0.00535617\n",
      "Iteration 481, loss = 0.00532577\n",
      "Iteration 482, loss = 0.00529599\n",
      "Iteration 483, loss = 0.00526700\n",
      "Iteration 484, loss = 0.00523800\n",
      "Iteration 485, loss = 0.00520912\n",
      "Iteration 486, loss = 0.00518035\n",
      "Iteration 487, loss = 0.00515210\n",
      "Iteration 488, loss = 0.00512372\n",
      "Iteration 489, loss = 0.00509678\n",
      "Iteration 490, loss = 0.00506863\n",
      "Iteration 491, loss = 0.00504076\n",
      "Iteration 492, loss = 0.00501360\n",
      "Iteration 493, loss = 0.00498707\n",
      "Iteration 494, loss = 0.00496033\n",
      "Iteration 495, loss = 0.00493354\n",
      "Iteration 496, loss = 0.00490755\n",
      "Iteration 497, loss = 0.00488172\n",
      "Iteration 498, loss = 0.00485576\n",
      "Iteration 499, loss = 0.00482939\n",
      "Iteration 500, loss = 0.00480394\n",
      "Iteration 501, loss = 0.00477946\n",
      "Iteration 502, loss = 0.00475442\n",
      "Iteration 503, loss = 0.00472922\n",
      "Iteration 504, loss = 0.00470498\n",
      "Iteration 505, loss = 0.00468031\n",
      "Iteration 506, loss = 0.00465656\n",
      "Iteration 507, loss = 0.00463226\n",
      "Iteration 508, loss = 0.00460806\n",
      "Iteration 509, loss = 0.00458475\n",
      "Iteration 510, loss = 0.00456072\n",
      "Iteration 511, loss = 0.00453799\n",
      "Iteration 512, loss = 0.00451504\n",
      "Iteration 513, loss = 0.00449208\n",
      "Iteration 514, loss = 0.00446911\n",
      "Iteration 515, loss = 0.00444705\n",
      "Iteration 516, loss = 0.00442458\n",
      "Iteration 517, loss = 0.00440206\n",
      "Iteration 518, loss = 0.00437990\n",
      "Iteration 519, loss = 0.00435813\n",
      "Iteration 520, loss = 0.00433649\n",
      "Iteration 521, loss = 0.00431500\n",
      "Iteration 522, loss = 0.00429341\n",
      "Iteration 523, loss = 0.00427208\n",
      "Iteration 524, loss = 0.00425140\n",
      "Iteration 525, loss = 0.00423047\n",
      "Iteration 526, loss = 0.00420945\n",
      "Iteration 527, loss = 0.00418907\n",
      "Iteration 528, loss = 0.00416908\n",
      "Iteration 529, loss = 0.00414872\n",
      "Iteration 530, loss = 0.00412898\n",
      "Iteration 531, loss = 0.00410922\n",
      "Iteration 532, loss = 0.00408913\n",
      "Iteration 533, loss = 0.00406930\n",
      "Iteration 534, loss = 0.00405016\n",
      "Iteration 535, loss = 0.00403103\n",
      "Iteration 536, loss = 0.00401189\n",
      "Iteration 537, loss = 0.00399273\n",
      "Iteration 538, loss = 0.00397387\n",
      "Iteration 539, loss = 0.00395540\n",
      "Iteration 540, loss = 0.00393712\n",
      "Iteration 541, loss = 0.00391873\n",
      "Iteration 542, loss = 0.00390021\n",
      "Iteration 543, loss = 0.00388186\n",
      "Iteration 544, loss = 0.00386388\n",
      "Iteration 545, loss = 0.00384626\n",
      "Iteration 546, loss = 0.00382824\n",
      "Iteration 547, loss = 0.00381045\n",
      "Iteration 548, loss = 0.00379310\n",
      "Iteration 549, loss = 0.00377556\n",
      "Iteration 550, loss = 0.00375839\n",
      "Iteration 551, loss = 0.00374152\n",
      "Iteration 552, loss = 0.00372440\n",
      "Iteration 553, loss = 0.00370739\n",
      "Iteration 554, loss = 0.00369064\n",
      "Iteration 555, loss = 0.00367413\n",
      "Iteration 556, loss = 0.00365744\n",
      "Iteration 557, loss = 0.00364096\n",
      "Iteration 558, loss = 0.00362479\n",
      "Iteration 559, loss = 0.00360853\n",
      "Iteration 560, loss = 0.00359258\n",
      "Iteration 561, loss = 0.00357654\n",
      "Iteration 562, loss = 0.00356036\n",
      "Iteration 563, loss = 0.00354470\n",
      "Iteration 564, loss = 0.00352919\n",
      "Iteration 565, loss = 0.00351368\n",
      "Iteration 566, loss = 0.00349837\n",
      "Iteration 567, loss = 0.00348307\n",
      "Iteration 568, loss = 0.00346794\n",
      "Iteration 569, loss = 0.00345304\n",
      "Iteration 570, loss = 0.00343792\n",
      "Iteration 571, loss = 0.00342315\n",
      "Iteration 572, loss = 0.00340846\n",
      "Iteration 573, loss = 0.00339371\n",
      "Iteration 574, loss = 0.00337906\n",
      "Iteration 575, loss = 0.00336441\n",
      "Iteration 576, loss = 0.00335033\n",
      "Iteration 577, loss = 0.00333606\n",
      "Iteration 578, loss = 0.00332156\n",
      "Iteration 579, loss = 0.00330764\n",
      "Iteration 580, loss = 0.00329377\n",
      "Iteration 581, loss = 0.00327957\n",
      "Iteration 582, loss = 0.00326578\n",
      "Iteration 583, loss = 0.00325217\n",
      "Iteration 584, loss = 0.00323853\n",
      "Iteration 585, loss = 0.00322502\n",
      "Iteration 586, loss = 0.00321133\n",
      "Iteration 587, loss = 0.00319790\n",
      "Iteration 588, loss = 0.00318493\n",
      "Iteration 589, loss = 0.00317168\n",
      "Iteration 590, loss = 0.00315880\n",
      "Iteration 591, loss = 0.00314590\n",
      "Iteration 592, loss = 0.00313289\n",
      "Iteration 593, loss = 0.00312034\n",
      "Iteration 594, loss = 0.00310763\n",
      "Iteration 595, loss = 0.00309497\n",
      "Iteration 596, loss = 0.00308265\n",
      "Iteration 597, loss = 0.00307006\n",
      "Iteration 598, loss = 0.00305754\n",
      "Iteration 599, loss = 0.00304526\n",
      "Iteration 600, loss = 0.00303307\n",
      "Iteration 601, loss = 0.00302107\n",
      "Iteration 602, loss = 0.00300904\n",
      "Iteration 603, loss = 0.00299694\n",
      "Iteration 604, loss = 0.00298500\n",
      "Iteration 605, loss = 0.00297346\n",
      "Iteration 606, loss = 0.00296161\n",
      "Iteration 607, loss = 0.00295010\n",
      "Iteration 608, loss = 0.00293857\n",
      "Iteration 609, loss = 0.00292695\n",
      "Iteration 610, loss = 0.00291548\n",
      "Iteration 611, loss = 0.00290405\n",
      "Iteration 612, loss = 0.00289307\n",
      "Iteration 613, loss = 0.00288189\n",
      "Iteration 614, loss = 0.00287074\n",
      "Iteration 615, loss = 0.00285947\n",
      "Iteration 616, loss = 0.00284837\n",
      "Iteration 617, loss = 0.00283754\n",
      "Iteration 618, loss = 0.00282658\n",
      "Iteration 619, loss = 0.00281556\n",
      "Iteration 620, loss = 0.00280479\n",
      "Iteration 621, loss = 0.00279425\n",
      "Iteration 622, loss = 0.00278355\n",
      "Iteration 623, loss = 0.00277300\n",
      "Iteration 624, loss = 0.00276254\n",
      "Iteration 625, loss = 0.00275202\n",
      "Iteration 626, loss = 0.00274180\n",
      "Iteration 627, loss = 0.00273160\n",
      "Iteration 628, loss = 0.00272132\n",
      "Iteration 629, loss = 0.00271123\n",
      "Iteration 630, loss = 0.00270109\n",
      "Iteration 631, loss = 0.00269103\n",
      "Iteration 632, loss = 0.00268130\n",
      "Iteration 633, loss = 0.00267131\n",
      "Iteration 634, loss = 0.00266142\n",
      "Iteration 635, loss = 0.00265188\n",
      "Iteration 636, loss = 0.00264203\n",
      "Iteration 637, loss = 0.00263235\n",
      "Iteration 638, loss = 0.00262275\n",
      "Iteration 639, loss = 0.00261320\n",
      "Iteration 640, loss = 0.00260353\n",
      "Iteration 641, loss = 0.00259413\n",
      "Iteration 642, loss = 0.00258472\n",
      "Iteration 643, loss = 0.00257545\n",
      "Iteration 644, loss = 0.00256615\n",
      "Iteration 645, loss = 0.00255699\n",
      "Iteration 646, loss = 0.00254790\n",
      "Iteration 647, loss = 0.00253870\n",
      "Iteration 648, loss = 0.00252956\n",
      "Iteration 649, loss = 0.00252052\n",
      "Iteration 650, loss = 0.00251153\n",
      "Iteration 651, loss = 0.00250268\n",
      "Iteration 652, loss = 0.00249391\n",
      "Iteration 653, loss = 0.00248510\n",
      "Iteration 654, loss = 0.00247631\n",
      "Iteration 655, loss = 0.00246752\n",
      "Iteration 656, loss = 0.00245894\n",
      "Iteration 657, loss = 0.00245039\n",
      "Iteration 658, loss = 0.00244179\n",
      "Iteration 659, loss = 0.00243336\n",
      "Iteration 660, loss = 0.00242493\n",
      "Iteration 661, loss = 0.00241664\n",
      "Iteration 662, loss = 0.00240810\n",
      "Iteration 663, loss = 0.00239969\n",
      "Iteration 664, loss = 0.00239157\n",
      "Iteration 665, loss = 0.00238344\n",
      "Iteration 666, loss = 0.00237526\n",
      "Iteration 667, loss = 0.00236699\n",
      "Iteration 668, loss = 0.00235911\n",
      "Iteration 669, loss = 0.00235115\n",
      "Iteration 670, loss = 0.00234317\n",
      "Iteration 671, loss = 0.00233520\n",
      "Iteration 672, loss = 0.00232734\n",
      "Iteration 673, loss = 0.00231946\n",
      "Iteration 674, loss = 0.00231163\n",
      "Iteration 675, loss = 0.00230390\n",
      "Iteration 676, loss = 0.00229614\n",
      "Iteration 677, loss = 0.00228855\n",
      "Iteration 678, loss = 0.00228093\n",
      "Iteration 679, loss = 0.00227346\n",
      "Iteration 680, loss = 0.00226603\n",
      "Iteration 681, loss = 0.00225846\n",
      "Iteration 682, loss = 0.00225107\n",
      "Iteration 683, loss = 0.00224368\n",
      "Iteration 684, loss = 0.00223623\n",
      "Iteration 685, loss = 0.00222900\n",
      "Iteration 686, loss = 0.00222166\n",
      "Iteration 687, loss = 0.00221423\n",
      "Iteration 688, loss = 0.00220715\n",
      "Iteration 689, loss = 0.00219997\n",
      "Iteration 690, loss = 0.00219277\n",
      "Iteration 691, loss = 0.00218564\n",
      "Iteration 692, loss = 0.00217855\n",
      "Iteration 693, loss = 0.00217152\n",
      "Iteration 694, loss = 0.00216452\n",
      "Iteration 695, loss = 0.00215769\n",
      "Iteration 696, loss = 0.00215083\n",
      "Iteration 697, loss = 0.00214397\n",
      "Iteration 698, loss = 0.00213698\n",
      "Iteration 699, loss = 0.00213023\n",
      "Iteration 700, loss = 0.00212368\n",
      "Iteration 701, loss = 0.00211706\n",
      "Iteration 702, loss = 0.00211024\n",
      "Iteration 703, loss = 0.00210359\n",
      "Iteration 704, loss = 0.00209688\n",
      "Iteration 705, loss = 0.00209035\n",
      "Iteration 706, loss = 0.00208377\n",
      "Iteration 707, loss = 0.00207724\n",
      "Iteration 708, loss = 0.00207077\n",
      "Iteration 709, loss = 0.00206439\n",
      "Iteration 710, loss = 0.00205805\n",
      "Iteration 711, loss = 0.00205160\n",
      "Iteration 712, loss = 0.00204528\n",
      "Iteration 713, loss = 0.00203893\n",
      "Iteration 714, loss = 0.00203266\n",
      "Iteration 715, loss = 0.00202644\n",
      "Iteration 716, loss = 0.00202019\n",
      "Iteration 717, loss = 0.00201414\n",
      "Iteration 718, loss = 0.00200786\n",
      "Iteration 719, loss = 0.00200181\n",
      "Iteration 720, loss = 0.00199576\n",
      "Iteration 721, loss = 0.00198970\n",
      "Iteration 722, loss = 0.00198370\n",
      "Iteration 723, loss = 0.00197774\n",
      "Iteration 724, loss = 0.00197168\n",
      "Iteration 725, loss = 0.00196575\n",
      "Iteration 726, loss = 0.00196003\n",
      "Iteration 727, loss = 0.00195394\n",
      "Iteration 728, loss = 0.00194809\n",
      "Iteration 729, loss = 0.00194244\n",
      "Iteration 730, loss = 0.00193663\n",
      "Iteration 731, loss = 0.00193085\n",
      "Iteration 732, loss = 0.00192511\n",
      "Iteration 733, loss = 0.00191958\n",
      "Iteration 734, loss = 0.00191391\n",
      "Iteration 735, loss = 0.00190832\n",
      "Iteration 736, loss = 0.00190263\n",
      "Iteration 737, loss = 0.00189703\n",
      "Iteration 738, loss = 0.00189156\n",
      "Iteration 739, loss = 0.00188597\n",
      "Iteration 740, loss = 0.00188047\n",
      "Iteration 741, loss = 0.00187502\n",
      "Iteration 742, loss = 0.00186955\n",
      "Iteration 743, loss = 0.00186416\n",
      "Iteration 744, loss = 0.00185879\n",
      "Iteration 745, loss = 0.00185338\n",
      "Iteration 746, loss = 0.00184820\n",
      "Iteration 747, loss = 0.00184284\n",
      "Iteration 748, loss = 0.00183742\n",
      "Iteration 749, loss = 0.00183215\n",
      "Iteration 750, loss = 0.00182708\n",
      "Iteration 751, loss = 0.00182187\n",
      "Iteration 752, loss = 0.00181669\n",
      "Iteration 753, loss = 0.00181149\n",
      "Iteration 754, loss = 0.00180636\n",
      "Iteration 755, loss = 0.00180123\n",
      "Iteration 756, loss = 0.00179625\n",
      "Iteration 757, loss = 0.00179118\n",
      "Iteration 758, loss = 0.00178611\n",
      "Iteration 759, loss = 0.00178111\n",
      "Iteration 760, loss = 0.00177624\n",
      "Iteration 761, loss = 0.00177122\n",
      "Iteration 762, loss = 0.00176636\n",
      "Iteration 763, loss = 0.00176144\n",
      "Iteration 764, loss = 0.00175646\n",
      "Iteration 765, loss = 0.00175170\n",
      "Iteration 766, loss = 0.00174687\n",
      "Iteration 767, loss = 0.00174205\n",
      "Iteration 768, loss = 0.00173722\n",
      "Iteration 769, loss = 0.00173250\n",
      "Iteration 770, loss = 0.00172775\n",
      "Iteration 771, loss = 0.00172299\n",
      "Iteration 772, loss = 0.00171825\n",
      "Iteration 773, loss = 0.00171354\n",
      "Iteration 774, loss = 0.00170898\n",
      "Iteration 775, loss = 0.00170424\n",
      "Iteration 776, loss = 0.00169971\n",
      "Iteration 777, loss = 0.00169509\n",
      "Iteration 778, loss = 0.00169052\n",
      "Iteration 779, loss = 0.00168611\n",
      "Iteration 780, loss = 0.00168150\n",
      "Iteration 781, loss = 0.00167706\n",
      "Iteration 782, loss = 0.00167260\n",
      "Iteration 783, loss = 0.00166806\n",
      "Iteration 784, loss = 0.00166359\n",
      "Iteration 785, loss = 0.00165911\n",
      "Iteration 786, loss = 0.00165464\n",
      "Iteration 787, loss = 0.00165038\n",
      "Iteration 788, loss = 0.00164594\n",
      "Iteration 789, loss = 0.00164160\n",
      "Iteration 790, loss = 0.00163731\n",
      "Iteration 791, loss = 0.00163298\n",
      "Iteration 792, loss = 0.00162870\n",
      "Iteration 793, loss = 0.00162445\n",
      "Iteration 794, loss = 0.00162015\n",
      "Iteration 795, loss = 0.00161596\n",
      "Iteration 796, loss = 0.00161170\n",
      "Iteration 797, loss = 0.00160749\n",
      "Iteration 798, loss = 0.00160336\n",
      "Iteration 799, loss = 0.00159920\n",
      "Iteration 800, loss = 0.00159504\n",
      "Iteration 801, loss = 0.00159100\n",
      "Iteration 802, loss = 0.00158689\n",
      "Iteration 803, loss = 0.00158283\n",
      "Iteration 804, loss = 0.00157882\n",
      "Iteration 805, loss = 0.00157477\n",
      "Iteration 806, loss = 0.00157076\n",
      "Iteration 807, loss = 0.00156675\n",
      "Iteration 808, loss = 0.00156278\n",
      "Iteration 809, loss = 0.00155878\n",
      "Iteration 810, loss = 0.00155478\n",
      "Iteration 811, loss = 0.00155085\n",
      "Iteration 812, loss = 0.00154698\n",
      "Iteration 813, loss = 0.00154308\n",
      "Iteration 814, loss = 0.00153919\n",
      "Iteration 815, loss = 0.00153526\n",
      "Iteration 816, loss = 0.00153146\n",
      "Iteration 817, loss = 0.00152769\n",
      "Iteration 818, loss = 0.00152389\n",
      "Iteration 819, loss = 0.00152008\n",
      "Iteration 820, loss = 0.00151624\n",
      "Iteration 821, loss = 0.00151246\n",
      "Iteration 822, loss = 0.00150872\n",
      "Iteration 823, loss = 0.00150503\n",
      "Iteration 824, loss = 0.00150131\n",
      "Iteration 825, loss = 0.00149764\n",
      "Iteration 826, loss = 0.00149394\n",
      "Iteration 827, loss = 0.00149024\n",
      "Iteration 828, loss = 0.00148658\n",
      "Iteration 829, loss = 0.00148294\n",
      "Iteration 830, loss = 0.00147935\n",
      "Iteration 831, loss = 0.00147577\n",
      "Iteration 832, loss = 0.00147221\n",
      "Iteration 833, loss = 0.00146865\n",
      "Iteration 834, loss = 0.00146511\n",
      "Iteration 835, loss = 0.00146160\n",
      "Iteration 836, loss = 0.00145810\n",
      "Iteration 837, loss = 0.00145459\n",
      "Iteration 838, loss = 0.00145110\n",
      "Iteration 839, loss = 0.00144752\n",
      "Iteration 840, loss = 0.00144403\n",
      "Iteration 841, loss = 0.00144066\n",
      "Iteration 842, loss = 0.00143719\n",
      "Iteration 843, loss = 0.00143379\n",
      "Iteration 844, loss = 0.00143043\n",
      "Iteration 845, loss = 0.00142703\n",
      "Iteration 846, loss = 0.00142364\n",
      "Iteration 847, loss = 0.00142035\n",
      "Iteration 848, loss = 0.00141702\n",
      "Iteration 849, loss = 0.00141358\n",
      "Iteration 850, loss = 0.00141029\n",
      "Iteration 851, loss = 0.00140705\n",
      "Iteration 852, loss = 0.00140371\n",
      "Iteration 853, loss = 0.00140050\n",
      "Iteration 854, loss = 0.00139724\n",
      "Iteration 855, loss = 0.00139401\n",
      "Iteration 856, loss = 0.00139072\n",
      "Iteration 857, loss = 0.00138752\n",
      "Iteration 858, loss = 0.00138436\n",
      "Iteration 859, loss = 0.00138109\n",
      "Iteration 860, loss = 0.00137789\n",
      "Iteration 861, loss = 0.00137472\n",
      "Iteration 862, loss = 0.00137159\n",
      "Iteration 863, loss = 0.00136851\n",
      "Iteration 864, loss = 0.00136536\n",
      "Iteration 865, loss = 0.00136221\n",
      "Iteration 866, loss = 0.00135911\n",
      "Iteration 867, loss = 0.00135596\n",
      "Iteration 868, loss = 0.00135296\n",
      "Iteration 869, loss = 0.00134989\n",
      "Iteration 870, loss = 0.00134686\n",
      "Iteration 871, loss = 0.00134374\n",
      "Iteration 872, loss = 0.00134071\n",
      "Iteration 873, loss = 0.00133777\n",
      "Iteration 874, loss = 0.00133477\n",
      "Iteration 875, loss = 0.00133175\n",
      "Iteration 876, loss = 0.00132872\n",
      "Iteration 877, loss = 0.00132583\n",
      "Iteration 878, loss = 0.00132288\n",
      "Iteration 879, loss = 0.00131989\n",
      "Iteration 880, loss = 0.00131694\n",
      "Iteration 881, loss = 0.00131407\n",
      "Iteration 882, loss = 0.00131115\n",
      "Iteration 883, loss = 0.00130828\n",
      "Iteration 884, loss = 0.00130538\n",
      "Iteration 885, loss = 0.00130244\n",
      "Iteration 886, loss = 0.00129960\n",
      "Iteration 887, loss = 0.00129673\n",
      "Iteration 888, loss = 0.00129390\n",
      "Iteration 889, loss = 0.00129109\n",
      "Iteration 890, loss = 0.00128827\n",
      "Iteration 891, loss = 0.00128543\n",
      "Iteration 892, loss = 0.00128267\n",
      "Iteration 893, loss = 0.00127985\n",
      "Iteration 894, loss = 0.00127712\n",
      "Iteration 895, loss = 0.00127437\n",
      "Iteration 896, loss = 0.00127162\n",
      "Iteration 897, loss = 0.00126886\n",
      "Iteration 898, loss = 0.00126617\n",
      "Iteration 899, loss = 0.00126341\n",
      "Iteration 900, loss = 0.00126074\n",
      "Iteration 901, loss = 0.00125807\n",
      "Iteration 902, loss = 0.00125536\n",
      "Iteration 903, loss = 0.00125265\n",
      "Iteration 904, loss = 0.00125004\n",
      "Iteration 905, loss = 0.00124735\n",
      "Iteration 906, loss = 0.00124473\n",
      "Iteration 907, loss = 0.00124209\n",
      "Iteration 908, loss = 0.00123947\n",
      "Iteration 909, loss = 0.00123691\n",
      "Iteration 910, loss = 0.00123425\n",
      "Iteration 911, loss = 0.00123167\n",
      "Iteration 912, loss = 0.00122909\n",
      "Iteration 913, loss = 0.00122658\n",
      "Iteration 914, loss = 0.00122402\n",
      "Iteration 915, loss = 0.00122147\n",
      "Iteration 916, loss = 0.00121891\n",
      "Iteration 917, loss = 0.00121637\n",
      "Iteration 918, loss = 0.00121386\n",
      "Iteration 919, loss = 0.00121134\n",
      "Iteration 920, loss = 0.00120881\n",
      "Iteration 921, loss = 0.00120637\n",
      "Iteration 922, loss = 0.00120387\n",
      "Iteration 923, loss = 0.00120137\n",
      "Iteration 924, loss = 0.00119889\n",
      "Iteration 925, loss = 0.00119644\n",
      "Iteration 926, loss = 0.00119405\n",
      "Iteration 927, loss = 0.00119164\n",
      "Iteration 928, loss = 0.00118916\n",
      "Iteration 929, loss = 0.00118677\n",
      "Iteration 930, loss = 0.00118438\n",
      "Iteration 931, loss = 0.00118198\n",
      "Iteration 932, loss = 0.00117959\n",
      "Iteration 933, loss = 0.00117721\n",
      "Iteration 934, loss = 0.00117486\n",
      "Iteration 935, loss = 0.00117250\n",
      "Iteration 936, loss = 0.00117015\n",
      "Iteration 937, loss = 0.00116782\n",
      "Iteration 938, loss = 0.00116549\n",
      "Iteration 939, loss = 0.00116321\n",
      "Iteration 940, loss = 0.00116085\n",
      "Iteration 941, loss = 0.00115855\n",
      "Iteration 942, loss = 0.00115628\n",
      "Iteration 943, loss = 0.00115403\n",
      "Iteration 944, loss = 0.00115177\n",
      "Iteration 945, loss = 0.00114951\n",
      "Iteration 946, loss = 0.00114722\n",
      "Iteration 947, loss = 0.00114496\n",
      "Iteration 948, loss = 0.00114273\n",
      "Iteration 949, loss = 0.00114049\n",
      "Iteration 950, loss = 0.00113824\n",
      "Iteration 951, loss = 0.00113603\n",
      "Iteration 952, loss = 0.00113386\n",
      "Iteration 953, loss = 0.00113160\n",
      "Iteration 954, loss = 0.00112941\n",
      "Iteration 955, loss = 0.00112721\n",
      "Iteration 956, loss = 0.00112508\n",
      "Iteration 957, loss = 0.00112292\n",
      "Iteration 958, loss = 0.00112075\n",
      "Iteration 959, loss = 0.00111858\n",
      "Iteration 960, loss = 0.00111647\n",
      "Iteration 961, loss = 0.00111435\n",
      "Iteration 962, loss = 0.00111221\n",
      "Iteration 963, loss = 0.00111007\n",
      "Iteration 964, loss = 0.00110793\n",
      "Iteration 965, loss = 0.00110585\n",
      "Iteration 966, loss = 0.00110375\n",
      "Iteration 967, loss = 0.00110165\n",
      "Iteration 968, loss = 0.00109959\n",
      "Iteration 969, loss = 0.00109755\n",
      "Iteration 970, loss = 0.00109546\n",
      "Iteration 971, loss = 0.00109340\n",
      "Iteration 972, loss = 0.00109140\n",
      "Iteration 973, loss = 0.00108933\n",
      "Iteration 974, loss = 0.00108729\n",
      "Iteration 975, loss = 0.00108525\n",
      "Iteration 976, loss = 0.00108325\n",
      "Iteration 977, loss = 0.00108125\n",
      "Iteration 978, loss = 0.00107924\n",
      "Iteration 979, loss = 0.00107726\n",
      "Iteration 980, loss = 0.00107524\n",
      "Iteration 981, loss = 0.00107324\n",
      "Iteration 982, loss = 0.00107126\n",
      "Iteration 983, loss = 0.00106928\n",
      "Iteration 984, loss = 0.00106732\n",
      "Iteration 985, loss = 0.00106538\n",
      "Iteration 986, loss = 0.00106342\n",
      "Iteration 987, loss = 0.00106150\n",
      "Iteration 988, loss = 0.00105954\n",
      "Iteration 989, loss = 0.00105763\n",
      "Iteration 990, loss = 0.00105570\n",
      "Iteration 991, loss = 0.00105380\n",
      "Iteration 992, loss = 0.00105187\n",
      "Iteration 993, loss = 0.00104998\n",
      "Iteration 994, loss = 0.00104809\n",
      "Iteration 995, loss = 0.00104620\n",
      "Iteration 996, loss = 0.00104430\n",
      "Iteration 997, loss = 0.00104243\n",
      "Iteration 998, loss = 0.00104056\n",
      "Iteration 999, loss = 0.00103869\n",
      "Iteration 1000, loss = 0.00103683\n",
      "Iteration 1001, loss = 0.00103498\n",
      "Iteration 1002, loss = 0.00103315\n",
      "Iteration 1003, loss = 0.00103129\n",
      "Iteration 1004, loss = 0.00102946\n",
      "Iteration 1005, loss = 0.00102767\n",
      "Iteration 1006, loss = 0.00102585\n",
      "Iteration 1007, loss = 0.00102404\n",
      "Iteration 1008, loss = 0.00102223\n",
      "Iteration 1009, loss = 0.00102044\n",
      "Iteration 1010, loss = 0.00101862\n",
      "Iteration 1011, loss = 0.00101688\n",
      "Iteration 1012, loss = 0.00101513\n",
      "Iteration 1013, loss = 0.00101332\n",
      "Iteration 1014, loss = 0.00101156\n",
      "Iteration 1015, loss = 0.00100982\n",
      "Iteration 1016, loss = 0.00100805\n",
      "Iteration 1017, loss = 0.00100628\n",
      "Iteration 1018, loss = 0.00100458\n",
      "Iteration 1019, loss = 0.00100286\n",
      "Iteration 1020, loss = 0.00100109\n",
      "Iteration 1021, loss = 0.00099935\n",
      "Iteration 1022, loss = 0.00099767\n",
      "Iteration 1023, loss = 0.00099593\n",
      "Iteration 1024, loss = 0.00099419\n",
      "Iteration 1025, loss = 0.00099251\n",
      "Iteration 1026, loss = 0.00099082\n",
      "Iteration 1027, loss = 0.00098916\n",
      "Iteration 1028, loss = 0.00098746\n",
      "Iteration 1029, loss = 0.00098575\n",
      "Iteration 1030, loss = 0.00098408\n",
      "Iteration 1031, loss = 0.00098242\n",
      "Iteration 1032, loss = 0.00098072\n",
      "Iteration 1033, loss = 0.00097904\n",
      "Iteration 1034, loss = 0.00097742\n",
      "Iteration 1035, loss = 0.00097578\n",
      "Iteration 1036, loss = 0.00097417\n",
      "Iteration 1037, loss = 0.00097252\n",
      "Iteration 1038, loss = 0.00097088\n",
      "Iteration 1039, loss = 0.00096929\n",
      "Iteration 1040, loss = 0.00096768\n",
      "Iteration 1041, loss = 0.00096605\n",
      "Iteration 1042, loss = 0.00096443\n",
      "Iteration 1043, loss = 0.00096283\n",
      "Iteration 1044, loss = 0.00096126\n",
      "Iteration 1045, loss = 0.00095964\n",
      "Iteration 1046, loss = 0.00095807\n",
      "Iteration 1047, loss = 0.00095648\n",
      "Iteration 1048, loss = 0.00095490\n",
      "Iteration 1049, loss = 0.00095335\n",
      "Iteration 1050, loss = 0.00095177\n",
      "Iteration 1051, loss = 0.00095019\n",
      "Iteration 1052, loss = 0.00094868\n",
      "Iteration 1053, loss = 0.00094714\n",
      "Iteration 1054, loss = 0.00094559\n",
      "Iteration 1055, loss = 0.00094404\n",
      "Iteration 1056, loss = 0.00094253\n",
      "Iteration 1057, loss = 0.00094103\n",
      "Iteration 1058, loss = 0.00093950\n",
      "Iteration 1059, loss = 0.00093798\n",
      "Iteration 1060, loss = 0.00093648\n",
      "Iteration 1061, loss = 0.00093495\n",
      "Iteration 1062, loss = 0.00093341\n",
      "Iteration 1063, loss = 0.00093194\n",
      "Iteration 1064, loss = 0.00093045\n",
      "Iteration 1065, loss = 0.00092894\n",
      "Iteration 1066, loss = 0.00092747\n",
      "Iteration 1067, loss = 0.00092599\n",
      "Iteration 1068, loss = 0.00092451\n",
      "Iteration 1069, loss = 0.00092304\n",
      "Iteration 1070, loss = 0.00092159\n",
      "Iteration 1071, loss = 0.00092012\n",
      "Iteration 1072, loss = 0.00091866\n",
      "Iteration 1073, loss = 0.00091717\n",
      "Iteration 1074, loss = 0.00091578\n",
      "Iteration 1075, loss = 0.00091434\n",
      "Iteration 1076, loss = 0.00091287\n",
      "Iteration 1077, loss = 0.00091145\n",
      "Iteration 1078, loss = 0.00091002\n",
      "Iteration 1079, loss = 0.00090861\n",
      "Iteration 1080, loss = 0.00090720\n",
      "Iteration 1081, loss = 0.00090577\n",
      "Iteration 1082, loss = 0.00090433\n",
      "Iteration 1083, loss = 0.00090294\n",
      "Iteration 1084, loss = 0.00090153\n",
      "Iteration 1085, loss = 0.00090011\n",
      "Iteration 1086, loss = 0.00089873\n",
      "Iteration 1087, loss = 0.00089734\n",
      "Iteration 1088, loss = 0.00089594\n",
      "Iteration 1089, loss = 0.00089456\n",
      "Iteration 1090, loss = 0.00089320\n",
      "Iteration 1091, loss = 0.00089184\n",
      "Iteration 1092, loss = 0.00089045\n",
      "Iteration 1093, loss = 0.00088907\n",
      "Iteration 1094, loss = 0.00088772\n",
      "Iteration 1095, loss = 0.00088637\n",
      "Iteration 1096, loss = 0.00088502\n",
      "Iteration 1097, loss = 0.00088367\n",
      "Iteration 1098, loss = 0.00088232\n",
      "Iteration 1099, loss = 0.00088099\n",
      "Iteration 1100, loss = 0.00087965\n",
      "Iteration 1101, loss = 0.00087831\n",
      "Iteration 1102, loss = 0.00087698\n",
      "Iteration 1103, loss = 0.00087566\n",
      "Iteration 1104, loss = 0.00087436\n",
      "Iteration 1105, loss = 0.00087303\n",
      "Iteration 1106, loss = 0.00087172\n",
      "Iteration 1107, loss = 0.00087044\n",
      "Iteration 1108, loss = 0.00086915\n",
      "Iteration 1109, loss = 0.00086784\n",
      "Iteration 1110, loss = 0.00086654\n",
      "Iteration 1111, loss = 0.00086524\n",
      "Iteration 1112, loss = 0.00086397\n",
      "Iteration 1113, loss = 0.00086268\n",
      "Iteration 1114, loss = 0.00086139\n",
      "Iteration 1115, loss = 0.00086011\n",
      "Iteration 1116, loss = 0.00085888\n",
      "Iteration 1117, loss = 0.00085760\n",
      "Iteration 1118, loss = 0.00085632\n",
      "Iteration 1119, loss = 0.00085508\n",
      "Iteration 1120, loss = 0.00085384\n",
      "Iteration 1121, loss = 0.00085258\n",
      "Iteration 1122, loss = 0.00085133\n",
      "Iteration 1123, loss = 0.00085009\n",
      "Iteration 1124, loss = 0.00084885\n",
      "Iteration 1125, loss = 0.00084762\n",
      "Iteration 1126, loss = 0.00084639\n",
      "Iteration 1127, loss = 0.00084517\n",
      "Iteration 1128, loss = 0.00084396\n",
      "Iteration 1129, loss = 0.00084274\n",
      "Iteration 1130, loss = 0.00084151\n",
      "Iteration 1131, loss = 0.00084030\n",
      "Iteration 1132, loss = 0.00083909\n",
      "Iteration 1133, loss = 0.00083787\n",
      "Iteration 1134, loss = 0.00083666\n",
      "Iteration 1135, loss = 0.00083550\n",
      "Iteration 1136, loss = 0.00083429\n",
      "Iteration 1137, loss = 0.00083311\n",
      "Iteration 1138, loss = 0.00083191\n",
      "Iteration 1139, loss = 0.00083075\n",
      "Iteration 1140, loss = 0.00082956\n",
      "Iteration 1141, loss = 0.00082839\n",
      "Iteration 1142, loss = 0.00082722\n",
      "Iteration 1143, loss = 0.00082605\n",
      "Iteration 1144, loss = 0.00082487\n",
      "Iteration 1145, loss = 0.00082373\n",
      "Iteration 1146, loss = 0.00082257\n",
      "Iteration 1147, loss = 0.00082143\n",
      "Iteration 1148, loss = 0.00082026\n",
      "Iteration 1149, loss = 0.00081912\n",
      "Iteration 1150, loss = 0.00081799\n",
      "Iteration 1151, loss = 0.00081685\n",
      "Iteration 1152, loss = 0.00081572\n",
      "Iteration 1153, loss = 0.00081459\n",
      "Iteration 1154, loss = 0.00081346\n",
      "Iteration 1155, loss = 0.00081234\n",
      "Iteration 1156, loss = 0.00081121\n",
      "Iteration 1157, loss = 0.00081009\n",
      "Iteration 1158, loss = 0.00080895\n",
      "Iteration 1159, loss = 0.00080786\n",
      "Iteration 1160, loss = 0.00080675\n",
      "Iteration 1161, loss = 0.00080563\n",
      "Iteration 1162, loss = 0.00080454\n",
      "Iteration 1163, loss = 0.00080345\n",
      "Iteration 1164, loss = 0.00080236\n",
      "Iteration 1165, loss = 0.00080125\n",
      "Iteration 1166, loss = 0.00080017\n",
      "Iteration 1167, loss = 0.00079909\n",
      "Iteration 1168, loss = 0.00079804\n",
      "Iteration 1169, loss = 0.00079695\n",
      "Iteration 1170, loss = 0.00079584\n",
      "Iteration 1171, loss = 0.00079477\n",
      "Iteration 1172, loss = 0.00079375\n",
      "Iteration 1173, loss = 0.00079266\n",
      "Iteration 1174, loss = 0.00079160\n",
      "Iteration 1175, loss = 0.00079056\n",
      "Iteration 1176, loss = 0.00078952\n",
      "Iteration 1177, loss = 0.00078845\n",
      "Iteration 1178, loss = 0.00078738\n",
      "Iteration 1179, loss = 0.00078634\n",
      "Iteration 1180, loss = 0.00078526\n",
      "Iteration 1181, loss = 0.00078423\n",
      "Iteration 1182, loss = 0.00078318\n",
      "Iteration 1183, loss = 0.00078215\n",
      "Iteration 1184, loss = 0.00078111\n",
      "Iteration 1185, loss = 0.00078007\n",
      "Iteration 1186, loss = 0.00077904\n",
      "Iteration 1187, loss = 0.00077804\n",
      "Iteration 1188, loss = 0.00077702\n",
      "Iteration 1189, loss = 0.00077600\n",
      "Iteration 1190, loss = 0.00077499\n",
      "Iteration 1191, loss = 0.00077398\n",
      "Iteration 1192, loss = 0.00077296\n",
      "Iteration 1193, loss = 0.00077195\n",
      "Iteration 1194, loss = 0.00077094\n",
      "Iteration 1195, loss = 0.00076995\n",
      "Iteration 1196, loss = 0.00076896\n",
      "Iteration 1197, loss = 0.00076797\n",
      "Iteration 1198, loss = 0.00076695\n",
      "Iteration 1199, loss = 0.00076597\n",
      "Iteration 1200, loss = 0.00076499\n",
      "Iteration 1201, loss = 0.00076401\n",
      "Iteration 1202, loss = 0.00076303\n",
      "Iteration 1203, loss = 0.00076204\n",
      "Iteration 1204, loss = 0.00076108\n",
      "Iteration 1205, loss = 0.00076011\n",
      "Iteration 1206, loss = 0.00075915\n",
      "Iteration 1207, loss = 0.00075819\n",
      "Iteration 1208, loss = 0.00075722\n",
      "Iteration 1209, loss = 0.00075626\n",
      "Iteration 1210, loss = 0.00075531\n",
      "Iteration 1211, loss = 0.00075434\n",
      "Iteration 1212, loss = 0.00075340\n",
      "Iteration 1213, loss = 0.00075244\n",
      "Iteration 1214, loss = 0.00075150\n",
      "Iteration 1215, loss = 0.00075054\n",
      "Iteration 1216, loss = 0.00074961\n",
      "Iteration 1217, loss = 0.00074867\n",
      "Iteration 1218, loss = 0.00074774\n",
      "Iteration 1219, loss = 0.00074680\n",
      "Iteration 1220, loss = 0.00074587\n",
      "Iteration 1221, loss = 0.00074493\n",
      "Iteration 1222, loss = 0.00074401\n",
      "Iteration 1223, loss = 0.00074309\n",
      "Iteration 1224, loss = 0.00074218\n",
      "Iteration 1225, loss = 0.00074125\n",
      "Iteration 1226, loss = 0.00074033\n",
      "Iteration 1227, loss = 0.00073941\n",
      "Iteration 1228, loss = 0.00073851\n",
      "Iteration 1229, loss = 0.00073762\n",
      "Iteration 1230, loss = 0.00073671\n",
      "Iteration 1231, loss = 0.00073581\n",
      "Iteration 1232, loss = 0.00073491\n",
      "Iteration 1233, loss = 0.00073401\n",
      "Iteration 1234, loss = 0.00073313\n",
      "Iteration 1235, loss = 0.00073222\n",
      "Iteration 1236, loss = 0.00073132\n",
      "Iteration 1237, loss = 0.00073045\n",
      "Iteration 1238, loss = 0.00072957\n",
      "Iteration 1239, loss = 0.00072869\n",
      "Iteration 1240, loss = 0.00072781\n",
      "Iteration 1241, loss = 0.00072692\n",
      "Iteration 1242, loss = 0.00072607\n",
      "Iteration 1243, loss = 0.00072520\n",
      "Iteration 1244, loss = 0.00072432\n",
      "Iteration 1245, loss = 0.00072344\n",
      "Iteration 1246, loss = 0.00072258\n",
      "Iteration 1247, loss = 0.00072171\n",
      "Iteration 1248, loss = 0.00072085\n",
      "Iteration 1249, loss = 0.00071999\n",
      "Iteration 1250, loss = 0.00071911\n",
      "Iteration 1251, loss = 0.00071827\n",
      "Iteration 1252, loss = 0.00071741\n",
      "Iteration 1253, loss = 0.00071657\n",
      "Iteration 1254, loss = 0.00071573\n",
      "Iteration 1255, loss = 0.00071488\n",
      "Iteration 1256, loss = 0.00071404\n",
      "Iteration 1257, loss = 0.00071320\n",
      "Iteration 1258, loss = 0.00071237\n",
      "Iteration 1259, loss = 0.00071152\n",
      "Iteration 1260, loss = 0.00071067\n",
      "Iteration 1261, loss = 0.00070985\n",
      "Iteration 1262, loss = 0.00070902\n",
      "Iteration 1263, loss = 0.00070821\n",
      "Iteration 1264, loss = 0.00070738\n",
      "Iteration 1265, loss = 0.00070655\n",
      "Iteration 1266, loss = 0.00070573\n",
      "Iteration 1267, loss = 0.00070493\n",
      "Iteration 1268, loss = 0.00070413\n",
      "Iteration 1269, loss = 0.00070330\n",
      "Iteration 1270, loss = 0.00070249\n",
      "Iteration 1271, loss = 0.00070168\n",
      "Iteration 1272, loss = 0.00070087\n",
      "Iteration 1273, loss = 0.00070006\n",
      "Iteration 1274, loss = 0.00069926\n",
      "Iteration 1275, loss = 0.00069847\n",
      "Iteration 1276, loss = 0.00069767\n",
      "Iteration 1277, loss = 0.00069688\n",
      "Iteration 1278, loss = 0.00069609\n",
      "Iteration 1279, loss = 0.00069529\n",
      "Iteration 1280, loss = 0.00069452\n",
      "Iteration 1281, loss = 0.00069373\n",
      "Iteration 1282, loss = 0.00069294\n",
      "Iteration 1283, loss = 0.00069215\n",
      "Iteration 1284, loss = 0.00069140\n",
      "Iteration 1285, loss = 0.00069062\n",
      "Iteration 1286, loss = 0.00068984\n",
      "Iteration 1287, loss = 0.00068907\n",
      "Iteration 1288, loss = 0.00068829\n",
      "Iteration 1289, loss = 0.00068752\n",
      "Iteration 1290, loss = 0.00068676\n",
      "Iteration 1291, loss = 0.00068600\n",
      "Iteration 1292, loss = 0.00068523\n",
      "Iteration 1293, loss = 0.00068446\n",
      "Iteration 1294, loss = 0.00068371\n",
      "Iteration 1295, loss = 0.00068297\n",
      "Iteration 1296, loss = 0.00068219\n",
      "Iteration 1297, loss = 0.00068145\n",
      "Iteration 1298, loss = 0.00068073\n",
      "Iteration 1299, loss = 0.00067997\n",
      "Iteration 1300, loss = 0.00067921\n",
      "Iteration 1301, loss = 0.00067849\n",
      "Iteration 1302, loss = 0.00067774\n",
      "Iteration 1303, loss = 0.00067700\n",
      "Iteration 1304, loss = 0.00067624\n",
      "Iteration 1305, loss = 0.00067553\n",
      "Iteration 1306, loss = 0.00067479\n",
      "Iteration 1307, loss = 0.00067406\n",
      "Iteration 1308, loss = 0.00067333\n",
      "Iteration 1309, loss = 0.00067259\n",
      "Iteration 1310, loss = 0.00067186\n",
      "Iteration 1311, loss = 0.00067115\n",
      "Iteration 1312, loss = 0.00067043\n",
      "Iteration 1313, loss = 0.00066969\n",
      "Iteration 1314, loss = 0.00066898\n",
      "Iteration 1315, loss = 0.00066827\n",
      "Iteration 1316, loss = 0.00066754\n",
      "Iteration 1317, loss = 0.00066683\n",
      "Iteration 1318, loss = 0.00066613\n",
      "Iteration 1319, loss = 0.00066541\n",
      "Iteration 1320, loss = 0.00066469\n",
      "Iteration 1321, loss = 0.00066396\n",
      "Iteration 1322, loss = 0.00066326\n",
      "Iteration 1323, loss = 0.00066256\n",
      "Iteration 1324, loss = 0.00066186\n",
      "Iteration 1325, loss = 0.00066115\n",
      "Iteration 1326, loss = 0.00066046\n",
      "Iteration 1327, loss = 0.00065977\n",
      "Iteration 1328, loss = 0.00065907\n",
      "Iteration 1329, loss = 0.00065837\n",
      "Iteration 1330, loss = 0.00065769\n",
      "Iteration 1331, loss = 0.00065700\n",
      "Iteration 1332, loss = 0.00065631\n",
      "Iteration 1333, loss = 0.00065562\n",
      "Iteration 1334, loss = 0.00065494\n",
      "Iteration 1335, loss = 0.00065426\n",
      "Iteration 1336, loss = 0.00065356\n",
      "Iteration 1337, loss = 0.00065290\n",
      "Iteration 1338, loss = 0.00065223\n",
      "Iteration 1339, loss = 0.00065154\n",
      "Iteration 1340, loss = 0.00065087\n",
      "Iteration 1341, loss = 0.00065019\n",
      "Iteration 1342, loss = 0.00064953\n",
      "Iteration 1343, loss = 0.00064887\n",
      "Iteration 1344, loss = 0.00064818\n",
      "Iteration 1345, loss = 0.00064752\n",
      "Iteration 1346, loss = 0.00064687\n",
      "Iteration 1347, loss = 0.00064620\n",
      "Iteration 1348, loss = 0.00064554\n",
      "Iteration 1349, loss = 0.00064488\n",
      "Iteration 1350, loss = 0.00064422\n",
      "Iteration 1351, loss = 0.00064355\n",
      "Iteration 1352, loss = 0.00064292\n",
      "Iteration 1353, loss = 0.00064226\n",
      "Iteration 1354, loss = 0.00064160\n",
      "Iteration 1355, loss = 0.00064095\n",
      "Iteration 1356, loss = 0.00064030\n",
      "Iteration 1357, loss = 0.00063966\n",
      "Iteration 1358, loss = 0.00063901\n",
      "Iteration 1359, loss = 0.00063837\n",
      "Iteration 1360, loss = 0.00063774\n",
      "Iteration 1361, loss = 0.00063709\n",
      "Iteration 1362, loss = 0.00063646\n",
      "Iteration 1363, loss = 0.00063581\n",
      "Iteration 1364, loss = 0.00063519\n",
      "Iteration 1365, loss = 0.00063455\n",
      "Iteration 1366, loss = 0.00063392\n",
      "Iteration 1367, loss = 0.00063329\n",
      "Iteration 1368, loss = 0.00063267\n",
      "Iteration 1369, loss = 0.00063204\n",
      "Iteration 1370, loss = 0.00063142\n",
      "Iteration 1371, loss = 0.00063080\n",
      "Iteration 1372, loss = 0.00063017\n",
      "Iteration 1373, loss = 0.00062955\n",
      "Iteration 1374, loss = 0.00062894\n",
      "Iteration 1375, loss = 0.00062831\n",
      "Iteration 1376, loss = 0.00062770\n",
      "Iteration 1377, loss = 0.00062709\n",
      "Iteration 1378, loss = 0.00062648\n",
      "Iteration 1379, loss = 0.00062587\n",
      "Iteration 1380, loss = 0.00062525\n",
      "Iteration 1381, loss = 0.00062465\n",
      "Iteration 1382, loss = 0.00062405\n",
      "Iteration 1383, loss = 0.00062345\n",
      "Iteration 1384, loss = 0.00062285\n",
      "Iteration 1385, loss = 0.00062224\n",
      "Iteration 1386, loss = 0.00062164\n",
      "Iteration 1387, loss = 0.00062103\n",
      "Iteration 1388, loss = 0.00062043\n",
      "Iteration 1389, loss = 0.00061984\n",
      "Iteration 1390, loss = 0.00061925\n",
      "Iteration 1391, loss = 0.00061866\n",
      "Iteration 1392, loss = 0.00061806\n",
      "Iteration 1393, loss = 0.00061747\n",
      "Iteration 1394, loss = 0.00061687\n",
      "Iteration 1395, loss = 0.00061630\n",
      "Iteration 1396, loss = 0.00061572\n",
      "Iteration 1397, loss = 0.00061513\n",
      "Iteration 1398, loss = 0.00061454\n",
      "Iteration 1399, loss = 0.00061395\n",
      "Iteration 1400, loss = 0.00061338\n",
      "Iteration 1401, loss = 0.00061281\n",
      "Iteration 1402, loss = 0.00061223\n",
      "Iteration 1403, loss = 0.00061165\n",
      "Iteration 1404, loss = 0.00061108\n",
      "Iteration 1405, loss = 0.00061051\n",
      "Iteration 1406, loss = 0.00060993\n",
      "Iteration 1407, loss = 0.00060936\n",
      "Iteration 1408, loss = 0.00060880\n",
      "Iteration 1409, loss = 0.00060824\n",
      "Iteration 1410, loss = 0.00060767\n",
      "Iteration 1411, loss = 0.00060711\n",
      "Iteration 1412, loss = 0.00060654\n",
      "Iteration 1413, loss = 0.00060597\n",
      "Iteration 1414, loss = 0.00060541\n",
      "Iteration 1415, loss = 0.00060485\n",
      "Iteration 1416, loss = 0.00060429\n",
      "Iteration 1417, loss = 0.00060374\n",
      "Iteration 1418, loss = 0.00060319\n",
      "Iteration 1419, loss = 0.00060262\n",
      "Iteration 1420, loss = 0.00060208\n",
      "Iteration 1421, loss = 0.00060152\n",
      "Iteration 1422, loss = 0.00060099\n",
      "Iteration 1423, loss = 0.00060044\n",
      "Iteration 1424, loss = 0.00059988\n",
      "Iteration 1425, loss = 0.00059935\n",
      "Iteration 1426, loss = 0.00059882\n",
      "Iteration 1427, loss = 0.00059825\n",
      "Iteration 1428, loss = 0.00059772\n",
      "Iteration 1429, loss = 0.00059718\n",
      "Iteration 1430, loss = 0.00059664\n",
      "Iteration 1431, loss = 0.00059610\n",
      "Iteration 1432, loss = 0.00059555\n",
      "Iteration 1433, loss = 0.00059502\n",
      "Iteration 1434, loss = 0.00059449\n",
      "Iteration 1435, loss = 0.00059395\n",
      "Iteration 1436, loss = 0.00059342\n",
      "Iteration 1437, loss = 0.00059289\n",
      "Iteration 1438, loss = 0.00059236\n",
      "Iteration 1439, loss = 0.00059183\n",
      "Iteration 1440, loss = 0.00059131\n",
      "Iteration 1441, loss = 0.00059078\n",
      "Iteration 1442, loss = 0.00059026\n",
      "Iteration 1443, loss = 0.00058973\n",
      "Iteration 1444, loss = 0.00058922\n",
      "Iteration 1445, loss = 0.00058870\n",
      "Iteration 1446, loss = 0.00058817\n",
      "Iteration 1447, loss = 0.00058766\n",
      "Iteration 1448, loss = 0.00058714\n",
      "Iteration 1449, loss = 0.00058663\n",
      "Iteration 1450, loss = 0.00058611\n",
      "Iteration 1451, loss = 0.00058559\n",
      "Iteration 1452, loss = 0.00058509\n",
      "Iteration 1453, loss = 0.00058457\n",
      "Iteration 1454, loss = 0.00058407\n",
      "Iteration 1455, loss = 0.00058355\n",
      "Iteration 1456, loss = 0.00058304\n",
      "Iteration 1457, loss = 0.00058254\n",
      "Iteration 1458, loss = 0.00058203\n",
      "Iteration 1459, loss = 0.00058153\n",
      "Iteration 1460, loss = 0.00058103\n",
      "Iteration 1461, loss = 0.00058053\n",
      "Iteration 1462, loss = 0.00058003\n",
      "Iteration 1463, loss = 0.00057953\n",
      "Iteration 1464, loss = 0.00057905\n",
      "Iteration 1465, loss = 0.00057854\n",
      "Iteration 1466, loss = 0.00057804\n",
      "Iteration 1467, loss = 0.00057756\n",
      "Iteration 1468, loss = 0.00057707\n",
      "Iteration 1469, loss = 0.00057657\n",
      "Iteration 1470, loss = 0.00057608\n",
      "Iteration 1471, loss = 0.00057559\n",
      "Iteration 1472, loss = 0.00057511\n",
      "Iteration 1473, loss = 0.00057462\n",
      "Iteration 1474, loss = 0.00057412\n",
      "Iteration 1475, loss = 0.00057364\n",
      "Iteration 1476, loss = 0.00057316\n",
      "Iteration 1477, loss = 0.00057269\n",
      "Iteration 1478, loss = 0.00057220\n",
      "Iteration 1479, loss = 0.00057172\n",
      "Iteration 1480, loss = 0.00057125\n",
      "Iteration 1481, loss = 0.00057077\n",
      "Iteration 1482, loss = 0.00057030\n",
      "Iteration 1483, loss = 0.00056983\n",
      "Iteration 1484, loss = 0.00056934\n",
      "Iteration 1485, loss = 0.00056886\n",
      "Iteration 1486, loss = 0.00056839\n",
      "Iteration 1487, loss = 0.00056793\n",
      "Iteration 1488, loss = 0.00056746\n",
      "Iteration 1489, loss = 0.00056699\n",
      "Iteration 1490, loss = 0.00056651\n",
      "Iteration 1491, loss = 0.00056605\n",
      "Iteration 1492, loss = 0.00056558\n",
      "Iteration 1493, loss = 0.00056511\n",
      "Iteration 1494, loss = 0.00056464\n",
      "Iteration 1495, loss = 0.00056418\n",
      "Iteration 1496, loss = 0.00056372\n",
      "Iteration 1497, loss = 0.00056325\n",
      "Iteration 1498, loss = 0.00056279\n",
      "Iteration 1499, loss = 0.00056234\n",
      "Iteration 1500, loss = 0.00056188\n",
      "Iteration 1501, loss = 0.00056142\n",
      "Iteration 1502, loss = 0.00056096\n",
      "Iteration 1503, loss = 0.00056051\n",
      "Iteration 1504, loss = 0.00056005\n",
      "Iteration 1505, loss = 0.00055961\n",
      "Iteration 1506, loss = 0.00055916\n",
      "Iteration 1507, loss = 0.00055871\n",
      "Iteration 1508, loss = 0.00055825\n",
      "Iteration 1509, loss = 0.00055781\n",
      "Iteration 1510, loss = 0.00055736\n",
      "Iteration 1511, loss = 0.00055692\n",
      "Iteration 1512, loss = 0.00055647\n",
      "Iteration 1513, loss = 0.00055603\n",
      "Iteration 1514, loss = 0.00055558\n",
      "Iteration 1515, loss = 0.00055514\n",
      "Iteration 1516, loss = 0.00055470\n",
      "Iteration 1517, loss = 0.00055427\n",
      "Iteration 1518, loss = 0.00055382\n",
      "Iteration 1519, loss = 0.00055338\n",
      "Iteration 1520, loss = 0.00055295\n",
      "Iteration 1521, loss = 0.00055250\n",
      "Iteration 1522, loss = 0.00055207\n",
      "Iteration 1523, loss = 0.00055163\n",
      "Iteration 1524, loss = 0.00055119\n",
      "Iteration 1525, loss = 0.00055077\n",
      "Iteration 1526, loss = 0.00055034\n",
      "Iteration 1527, loss = 0.00054990\n",
      "Iteration 1528, loss = 0.00054947\n",
      "Iteration 1529, loss = 0.00054904\n",
      "Iteration 1530, loss = 0.00054860\n",
      "Iteration 1531, loss = 0.00054817\n",
      "Iteration 1532, loss = 0.00054775\n",
      "Iteration 1533, loss = 0.00054733\n",
      "Iteration 1534, loss = 0.00054689\n",
      "Iteration 1535, loss = 0.00054647\n",
      "Iteration 1536, loss = 0.00054604\n",
      "Iteration 1537, loss = 0.00054562\n",
      "Iteration 1538, loss = 0.00054520\n",
      "Iteration 1539, loss = 0.00054478\n",
      "Iteration 1540, loss = 0.00054436\n",
      "Iteration 1541, loss = 0.00054394\n",
      "Iteration 1542, loss = 0.00054352\n",
      "Iteration 1543, loss = 0.00054311\n",
      "Iteration 1544, loss = 0.00054268\n",
      "Iteration 1545, loss = 0.00054226\n",
      "Iteration 1546, loss = 0.00054184\n",
      "Iteration 1547, loss = 0.00054143\n",
      "Iteration 1548, loss = 0.00054102\n",
      "Iteration 1549, loss = 0.00054060\n",
      "Iteration 1550, loss = 0.00054018\n",
      "Iteration 1551, loss = 0.00053977\n",
      "Iteration 1552, loss = 0.00053937\n",
      "Iteration 1553, loss = 0.00053897\n",
      "Iteration 1554, loss = 0.00053856\n",
      "Iteration 1555, loss = 0.00053814\n",
      "Iteration 1556, loss = 0.00053774\n",
      "Iteration 1557, loss = 0.00053734\n",
      "Iteration 1558, loss = 0.00053694\n",
      "Iteration 1559, loss = 0.00053652\n",
      "Iteration 1560, loss = 0.00053612\n",
      "Iteration 1561, loss = 0.00053571\n",
      "Iteration 1562, loss = 0.00053531\n",
      "Iteration 1563, loss = 0.00053492\n",
      "Iteration 1564, loss = 0.00053453\n",
      "Iteration 1565, loss = 0.00053412\n",
      "Iteration 1566, loss = 0.00053372\n",
      "Iteration 1567, loss = 0.00053332\n",
      "Iteration 1568, loss = 0.00053293\n",
      "Iteration 1569, loss = 0.00053253\n",
      "Iteration 1570, loss = 0.00053214\n",
      "Iteration 1571, loss = 0.00053174\n",
      "Iteration 1572, loss = 0.00053135\n",
      "Iteration 1573, loss = 0.00053096\n",
      "Iteration 1574, loss = 0.00053058\n",
      "Iteration 1575, loss = 0.00053018\n",
      "Iteration 1576, loss = 0.00052978\n",
      "Iteration 1577, loss = 0.00052940\n",
      "Iteration 1578, loss = 0.00052901\n",
      "Iteration 1579, loss = 0.00052862\n",
      "Iteration 1580, loss = 0.00052823\n",
      "Iteration 1581, loss = 0.00052786\n",
      "Iteration 1582, loss = 0.00052747\n",
      "Iteration 1583, loss = 0.00052709\n",
      "Iteration 1584, loss = 0.00052670\n",
      "Iteration 1585, loss = 0.00052631\n",
      "Iteration 1586, loss = 0.00052593\n",
      "Iteration 1587, loss = 0.00052556\n",
      "Iteration 1588, loss = 0.00052517\n",
      "Iteration 1589, loss = 0.00052479\n",
      "Iteration 1590, loss = 0.00052441\n",
      "Iteration 1591, loss = 0.00052404\n",
      "Iteration 1592, loss = 0.00052367\n",
      "Iteration 1593, loss = 0.00052329\n",
      "Iteration 1594, loss = 0.00052291\n",
      "Iteration 1595, loss = 0.00052255\n",
      "Iteration 1596, loss = 0.00052217\n",
      "Iteration 1597, loss = 0.00052181\n",
      "Iteration 1598, loss = 0.00052143\n",
      "Iteration 1599, loss = 0.00052106\n",
      "Iteration 1600, loss = 0.00052069\n",
      "Iteration 1601, loss = 0.00052033\n",
      "Iteration 1602, loss = 0.00051996\n",
      "Iteration 1603, loss = 0.00051959\n",
      "Iteration 1604, loss = 0.00051922\n",
      "Iteration 1605, loss = 0.00051885\n",
      "Iteration 1606, loss = 0.00051849\n",
      "Iteration 1607, loss = 0.00051812\n",
      "Iteration 1608, loss = 0.00051775\n",
      "Iteration 1609, loss = 0.00051740\n",
      "Iteration 1610, loss = 0.00051703\n",
      "Iteration 1611, loss = 0.00051667\n",
      "Iteration 1612, loss = 0.00051630\n",
      "Iteration 1613, loss = 0.00051595\n",
      "Iteration 1614, loss = 0.00051559\n",
      "Iteration 1615, loss = 0.00051523\n",
      "Iteration 1616, loss = 0.00051487\n",
      "Iteration 1617, loss = 0.00051451\n",
      "Iteration 1618, loss = 0.00051415\n",
      "Iteration 1619, loss = 0.00051380\n",
      "Iteration 1620, loss = 0.00051345\n",
      "Iteration 1621, loss = 0.00051310\n",
      "Iteration 1622, loss = 0.00051274\n",
      "Iteration 1623, loss = 0.00051239\n",
      "Iteration 1624, loss = 0.00051204\n",
      "Iteration 1625, loss = 0.00051169\n",
      "Iteration 1626, loss = 0.00051134\n",
      "Iteration 1627, loss = 0.00051100\n",
      "Iteration 1628, loss = 0.00051064\n",
      "Iteration 1629, loss = 0.00051029\n",
      "Iteration 1630, loss = 0.00050995\n",
      "Iteration 1631, loss = 0.00050960\n",
      "Iteration 1632, loss = 0.00050926\n",
      "Iteration 1633, loss = 0.00050891\n",
      "Iteration 1634, loss = 0.00050856\n",
      "Iteration 1635, loss = 0.00050822\n",
      "Iteration 1636, loss = 0.00050787\n",
      "Iteration 1637, loss = 0.00050753\n",
      "Iteration 1638, loss = 0.00050720\n",
      "Iteration 1639, loss = 0.00050686\n",
      "Iteration 1640, loss = 0.00050652\n",
      "Iteration 1641, loss = 0.00050617\n",
      "Iteration 1642, loss = 0.00050583\n",
      "Iteration 1643, loss = 0.00050549\n",
      "Iteration 1644, loss = 0.00050515\n",
      "Iteration 1645, loss = 0.00050482\n",
      "Iteration 1646, loss = 0.00050448\n",
      "Iteration 1647, loss = 0.00050414\n",
      "Iteration 1648, loss = 0.00050381\n",
      "Iteration 1649, loss = 0.00050348\n",
      "Iteration 1650, loss = 0.00050316\n",
      "Iteration 1651, loss = 0.00050282\n",
      "Iteration 1652, loss = 0.00050249\n",
      "Iteration 1653, loss = 0.00050215\n",
      "Iteration 1654, loss = 0.00050183\n",
      "Iteration 1655, loss = 0.00050150\n",
      "Iteration 1656, loss = 0.00050117\n",
      "Iteration 1657, loss = 0.00050084\n",
      "Iteration 1658, loss = 0.00050051\n",
      "Iteration 1659, loss = 0.00050019\n",
      "Iteration 1660, loss = 0.00049986\n",
      "Iteration 1661, loss = 0.00049954\n",
      "Iteration 1662, loss = 0.00049921\n",
      "Iteration 1663, loss = 0.00049888\n",
      "Iteration 1664, loss = 0.00049856\n",
      "Iteration 1665, loss = 0.00049824\n",
      "Iteration 1666, loss = 0.00049792\n",
      "Iteration 1667, loss = 0.00049760\n",
      "Iteration 1668, loss = 0.00049728\n",
      "Iteration 1669, loss = 0.00049697\n",
      "Iteration 1670, loss = 0.00049664\n",
      "Iteration 1671, loss = 0.00049632\n",
      "Iteration 1672, loss = 0.00049600\n",
      "Iteration 1673, loss = 0.00049568\n",
      "Iteration 1674, loss = 0.00049537\n",
      "Iteration 1675, loss = 0.00049505\n",
      "Iteration 1676, loss = 0.00049474\n",
      "Iteration 1677, loss = 0.00049442\n",
      "Iteration 1678, loss = 0.00049410\n",
      "Iteration 1679, loss = 0.00049379\n",
      "Iteration 1680, loss = 0.00049348\n",
      "Iteration 1681, loss = 0.00049317\n",
      "Iteration 1682, loss = 0.00049285\n",
      "Iteration 1683, loss = 0.00049254\n",
      "Iteration 1684, loss = 0.00049223\n",
      "Iteration 1685, loss = 0.00049192\n",
      "Iteration 1686, loss = 0.00049161\n",
      "Iteration 1687, loss = 0.00049130\n",
      "Iteration 1688, loss = 0.00049099\n",
      "Iteration 1689, loss = 0.00049068\n",
      "Iteration 1690, loss = 0.00049038\n",
      "Iteration 1691, loss = 0.00049007\n",
      "Iteration 1692, loss = 0.00048977\n",
      "Iteration 1693, loss = 0.00048946\n",
      "Iteration 1694, loss = 0.00048916\n",
      "Iteration 1695, loss = 0.00048886\n",
      "Iteration 1696, loss = 0.00048855\n",
      "Iteration 1697, loss = 0.00048825\n",
      "Iteration 1698, loss = 0.00048795\n",
      "Iteration 1699, loss = 0.00048765\n",
      "Iteration 1700, loss = 0.00048734\n",
      "Iteration 1701, loss = 0.00048704\n",
      "Iteration 1702, loss = 0.00048675\n",
      "Iteration 1703, loss = 0.00048645\n",
      "Iteration 1704, loss = 0.00048615\n",
      "Iteration 1705, loss = 0.00048585\n",
      "Iteration 1706, loss = 0.00048555\n",
      "Iteration 1707, loss = 0.00048526\n",
      "Iteration 1708, loss = 0.00048496\n",
      "Iteration 1709, loss = 0.00048467\n",
      "Iteration 1710, loss = 0.00048437\n",
      "Iteration 1711, loss = 0.00048407\n",
      "Iteration 1712, loss = 0.00048378\n",
      "Iteration 1713, loss = 0.00048349\n",
      "Iteration 1714, loss = 0.00048319\n",
      "Iteration 1715, loss = 0.00048290\n",
      "Iteration 1716, loss = 0.00048261\n",
      "Iteration 1717, loss = 0.00048232\n",
      "Iteration 1718, loss = 0.00048203\n",
      "Iteration 1719, loss = 0.00048174\n",
      "Iteration 1720, loss = 0.00048145\n",
      "Iteration 1721, loss = 0.00048116\n",
      "Iteration 1722, loss = 0.00048088\n",
      "Iteration 1723, loss = 0.00048059\n",
      "Iteration 1724, loss = 0.00048030\n",
      "Iteration 1725, loss = 0.00048002\n",
      "Iteration 1726, loss = 0.00047973\n",
      "Iteration 1727, loss = 0.00047945\n",
      "Iteration 1728, loss = 0.00047916\n",
      "Iteration 1729, loss = 0.00047888\n",
      "Iteration 1730, loss = 0.00047859\n",
      "Iteration 1731, loss = 0.00047831\n",
      "Iteration 1732, loss = 0.00047803\n",
      "Iteration 1733, loss = 0.00047775\n",
      "Iteration 1734, loss = 0.00047746\n",
      "Iteration 1735, loss = 0.00047718\n",
      "Iteration 1736, loss = 0.00047690\n",
      "Iteration 1737, loss = 0.00047663\n",
      "Iteration 1738, loss = 0.00047635\n",
      "Iteration 1739, loss = 0.00047608\n",
      "Iteration 1740, loss = 0.00047580\n",
      "Iteration 1741, loss = 0.00047552\n",
      "Iteration 1742, loss = 0.00047525\n",
      "Iteration 1743, loss = 0.00047497\n",
      "Iteration 1744, loss = 0.00047469\n",
      "Iteration 1745, loss = 0.00047442\n",
      "Iteration 1746, loss = 0.00047415\n",
      "Iteration 1747, loss = 0.00047387\n",
      "Iteration 1748, loss = 0.00047359\n",
      "Iteration 1749, loss = 0.00047332\n",
      "Iteration 1750, loss = 0.00047305\n",
      "Iteration 1751, loss = 0.00047278\n",
      "Iteration 1752, loss = 0.00047251\n",
      "Iteration 1753, loss = 0.00047224\n",
      "Iteration 1754, loss = 0.00047196\n",
      "Iteration 1755, loss = 0.00047169\n",
      "Iteration 1756, loss = 0.00047142\n",
      "Iteration 1757, loss = 0.00047116\n",
      "Iteration 1758, loss = 0.00047089\n",
      "Iteration 1759, loss = 0.00047062\n",
      "Iteration 1760, loss = 0.00047036\n",
      "Iteration 1761, loss = 0.00047009\n",
      "Iteration 1762, loss = 0.00046983\n",
      "Iteration 1763, loss = 0.00046956\n",
      "Iteration 1764, loss = 0.00046929\n",
      "Iteration 1765, loss = 0.00046903\n",
      "Iteration 1766, loss = 0.00046877\n",
      "Iteration 1767, loss = 0.00046851\n",
      "Iteration 1768, loss = 0.00046825\n",
      "Iteration 1769, loss = 0.00046799\n",
      "Iteration 1770, loss = 0.00046772\n",
      "Iteration 1771, loss = 0.00046746\n",
      "Iteration 1772, loss = 0.00046721\n",
      "Iteration 1773, loss = 0.00046694\n",
      "Iteration 1774, loss = 0.00046668\n",
      "Iteration 1775, loss = 0.00046642\n",
      "Iteration 1776, loss = 0.00046616\n",
      "Iteration 1777, loss = 0.00046590\n",
      "Iteration 1778, loss = 0.00046565\n",
      "Iteration 1779, loss = 0.00046539\n",
      "Iteration 1780, loss = 0.00046514\n",
      "Iteration 1781, loss = 0.00046488\n",
      "Iteration 1782, loss = 0.00046463\n",
      "Iteration 1783, loss = 0.00046437\n",
      "Iteration 1784, loss = 0.00046412\n",
      "Iteration 1785, loss = 0.00046386\n",
      "Iteration 1786, loss = 0.00046361\n",
      "Iteration 1787, loss = 0.00046336\n",
      "Iteration 1788, loss = 0.00046310\n",
      "Iteration 1789, loss = 0.00046285\n",
      "Iteration 1790, loss = 0.00046260\n",
      "Iteration 1791, loss = 0.00046234\n",
      "Iteration 1792, loss = 0.00046209\n",
      "Iteration 1793, loss = 0.00046185\n",
      "Iteration 1794, loss = 0.00046160\n",
      "Iteration 1795, loss = 0.00046135\n",
      "Iteration 1796, loss = 0.00046110\n",
      "Iteration 1797, loss = 0.00046086\n",
      "Iteration 1798, loss = 0.00046061\n",
      "Iteration 1799, loss = 0.00046036\n",
      "Iteration 1800, loss = 0.00046011\n",
      "Iteration 1801, loss = 0.00045987\n",
      "Iteration 1802, loss = 0.00045962\n",
      "Iteration 1803, loss = 0.00045937\n",
      "Iteration 1804, loss = 0.00045913\n",
      "Iteration 1805, loss = 0.00045888\n",
      "Iteration 1806, loss = 0.00045864\n",
      "Iteration 1807, loss = 0.00045839\n",
      "Iteration 1808, loss = 0.00045815\n",
      "Iteration 1809, loss = 0.00045791\n",
      "Iteration 1810, loss = 0.00045767\n",
      "Iteration 1811, loss = 0.00045743\n",
      "Iteration 1812, loss = 0.00045719\n",
      "Iteration 1813, loss = 0.00045694\n",
      "Iteration 1814, loss = 0.00045671\n",
      "Iteration 1815, loss = 0.00045647\n",
      "Iteration 1816, loss = 0.00045623\n",
      "Iteration 1817, loss = 0.00045599\n",
      "Iteration 1818, loss = 0.00045575\n",
      "Iteration 1819, loss = 0.00045551\n",
      "Iteration 1820, loss = 0.00045527\n",
      "Iteration 1821, loss = 0.00045504\n",
      "Iteration 1822, loss = 0.00045481\n",
      "Iteration 1823, loss = 0.00045457\n",
      "Iteration 1824, loss = 0.00045433\n",
      "Iteration 1825, loss = 0.00045410\n",
      "Iteration 1826, loss = 0.00045386\n",
      "Iteration 1827, loss = 0.00045362\n",
      "Iteration 1828, loss = 0.00045339\n",
      "Iteration 1829, loss = 0.00045316\n",
      "Iteration 1830, loss = 0.00045293\n",
      "Iteration 1831, loss = 0.00045269\n",
      "Iteration 1832, loss = 0.00045246\n",
      "Iteration 1833, loss = 0.00045223\n",
      "Iteration 1834, loss = 0.00045200\n",
      "Iteration 1835, loss = 0.00045176\n",
      "Iteration 1836, loss = 0.00045154\n",
      "Iteration 1837, loss = 0.00045131\n",
      "Iteration 1838, loss = 0.00045108\n",
      "Iteration 1839, loss = 0.00045085\n",
      "Iteration 1840, loss = 0.00045062\n",
      "Iteration 1841, loss = 0.00045040\n",
      "Iteration 1842, loss = 0.00045017\n",
      "Iteration 1843, loss = 0.00044995\n",
      "Iteration 1844, loss = 0.00044972\n",
      "Iteration 1845, loss = 0.00044949\n",
      "Iteration 1846, loss = 0.00044926\n",
      "Iteration 1847, loss = 0.00044903\n",
      "Iteration 1848, loss = 0.00044881\n",
      "Iteration 1849, loss = 0.00044859\n",
      "Iteration 1850, loss = 0.00044835\n",
      "Iteration 1851, loss = 0.00044813\n",
      "Iteration 1852, loss = 0.00044791\n",
      "Iteration 1853, loss = 0.00044769\n",
      "Iteration 1854, loss = 0.00044747\n",
      "Iteration 1855, loss = 0.00044724\n",
      "Iteration 1856, loss = 0.00044702\n",
      "Iteration 1857, loss = 0.00044680\n",
      "Iteration 1858, loss = 0.00044658\n",
      "Iteration 1859, loss = 0.00044636\n",
      "Iteration 1860, loss = 0.00044613\n",
      "Iteration 1861, loss = 0.00044591\n",
      "Iteration 1862, loss = 0.00044569\n",
      "Iteration 1863, loss = 0.00044547\n",
      "Iteration 1864, loss = 0.00044526\n",
      "Iteration 1865, loss = 0.00044504\n",
      "Iteration 1866, loss = 0.00044482\n",
      "Iteration 1867, loss = 0.00044460\n",
      "Iteration 1868, loss = 0.00044438\n",
      "Iteration 1869, loss = 0.00044416\n",
      "Iteration 1870, loss = 0.00044395\n",
      "Iteration 1871, loss = 0.00044374\n",
      "Iteration 1872, loss = 0.00044352\n",
      "Iteration 1873, loss = 0.00044331\n",
      "Iteration 1874, loss = 0.00044309\n",
      "Iteration 1875, loss = 0.00044288\n",
      "Iteration 1876, loss = 0.00044267\n",
      "Iteration 1877, loss = 0.00044246\n",
      "Iteration 1878, loss = 0.00044224\n",
      "Iteration 1879, loss = 0.00044203\n",
      "Iteration 1880, loss = 0.00044182\n",
      "Iteration 1881, loss = 0.00044160\n",
      "Iteration 1882, loss = 0.00044139\n",
      "Iteration 1883, loss = 0.00044118\n",
      "Iteration 1884, loss = 0.00044097\n",
      "Iteration 1885, loss = 0.00044076\n",
      "Iteration 1886, loss = 0.00044055\n",
      "Iteration 1887, loss = 0.00044034\n",
      "Iteration 1888, loss = 0.00044013\n",
      "Iteration 1889, loss = 0.00043992\n",
      "Iteration 1890, loss = 0.00043971\n",
      "Iteration 1891, loss = 0.00043950\n",
      "Iteration 1892, loss = 0.00043930\n",
      "Iteration 1893, loss = 0.00043909\n",
      "Iteration 1894, loss = 0.00043888\n",
      "Iteration 1895, loss = 0.00043868\n",
      "Iteration 1896, loss = 0.00043847\n",
      "Iteration 1897, loss = 0.00043826\n",
      "Iteration 1898, loss = 0.00043805\n",
      "Iteration 1899, loss = 0.00043785\n",
      "Iteration 1900, loss = 0.00043764\n",
      "Iteration 1901, loss = 0.00043744\n",
      "Iteration 1902, loss = 0.00043724\n",
      "Iteration 1903, loss = 0.00043703\n",
      "Iteration 1904, loss = 0.00043683\n",
      "Iteration 1905, loss = 0.00043663\n",
      "Iteration 1906, loss = 0.00043643\n",
      "Iteration 1907, loss = 0.00043622\n",
      "Iteration 1908, loss = 0.00043602\n",
      "Iteration 1909, loss = 0.00043582\n",
      "Iteration 1910, loss = 0.00043562\n",
      "Iteration 1911, loss = 0.00043542\n",
      "Iteration 1912, loss = 0.00043521\n",
      "Iteration 1913, loss = 0.00043502\n",
      "Iteration 1914, loss = 0.00043482\n",
      "Iteration 1915, loss = 0.00043462\n",
      "Iteration 1916, loss = 0.00043442\n",
      "Iteration 1917, loss = 0.00043422\n",
      "Iteration 1918, loss = 0.00043402\n",
      "Iteration 1919, loss = 0.00043383\n",
      "Iteration 1920, loss = 0.00043363\n",
      "Iteration 1921, loss = 0.00043343\n",
      "Iteration 1922, loss = 0.00043324\n",
      "Iteration 1923, loss = 0.00043304\n",
      "Iteration 1924, loss = 0.00043284\n",
      "Iteration 1925, loss = 0.00043265\n",
      "Iteration 1926, loss = 0.00043245\n",
      "Iteration 1927, loss = 0.00043225\n",
      "Iteration 1928, loss = 0.00043206\n",
      "Iteration 1929, loss = 0.00043186\n",
      "Iteration 1930, loss = 0.00043167\n",
      "Iteration 1931, loss = 0.00043147\n",
      "Iteration 1932, loss = 0.00043128\n",
      "Iteration 1933, loss = 0.00043109\n",
      "Iteration 1934, loss = 0.00043090\n",
      "Iteration 1935, loss = 0.00043070\n",
      "Iteration 1936, loss = 0.00043052\n",
      "Iteration 1937, loss = 0.00043032\n",
      "Iteration 1938, loss = 0.00043013\n",
      "Iteration 1939, loss = 0.00042994\n",
      "Iteration 1940, loss = 0.00042975\n",
      "Iteration 1941, loss = 0.00042956\n",
      "Iteration 1942, loss = 0.00042936\n",
      "Iteration 1943, loss = 0.00042918\n",
      "Iteration 1944, loss = 0.00042899\n",
      "Iteration 1945, loss = 0.00042880\n",
      "Iteration 1946, loss = 0.00042861\n",
      "Iteration 1947, loss = 0.00042842\n",
      "Iteration 1948, loss = 0.00042823\n",
      "Iteration 1949, loss = 0.00042805\n",
      "Iteration 1950, loss = 0.00042786\n",
      "Iteration 1951, loss = 0.00042768\n",
      "Iteration 1952, loss = 0.00042748\n",
      "Iteration 1953, loss = 0.00042730\n",
      "Iteration 1954, loss = 0.00042711\n",
      "Iteration 1955, loss = 0.00042693\n",
      "Iteration 1956, loss = 0.00042674\n",
      "Iteration 1957, loss = 0.00042656\n",
      "Iteration 1958, loss = 0.00042637\n",
      "Iteration 1959, loss = 0.00042618\n",
      "Iteration 1960, loss = 0.00042600\n",
      "Iteration 1961, loss = 0.00042582\n",
      "Iteration 1962, loss = 0.00042563\n",
      "Iteration 1963, loss = 0.00042545\n",
      "Iteration 1964, loss = 0.00042527\n",
      "Iteration 1965, loss = 0.00042509\n",
      "Iteration 1966, loss = 0.00042490\n",
      "Iteration 1967, loss = 0.00042472\n",
      "Iteration 1968, loss = 0.00042454\n",
      "Iteration 1969, loss = 0.00042436\n",
      "Iteration 1970, loss = 0.00042418\n",
      "Iteration 1971, loss = 0.00042399\n",
      "Iteration 1972, loss = 0.00042381\n",
      "Iteration 1973, loss = 0.00042364\n",
      "Iteration 1974, loss = 0.00042346\n",
      "Iteration 1975, loss = 0.00042327\n",
      "Iteration 1976, loss = 0.00042310\n",
      "Iteration 1977, loss = 0.00042292\n",
      "Iteration 1978, loss = 0.00042274\n",
      "Iteration 1979, loss = 0.00042256\n",
      "Iteration 1980, loss = 0.00042238\n",
      "Iteration 1981, loss = 0.00042220\n",
      "Iteration 1982, loss = 0.00042203\n",
      "Iteration 1983, loss = 0.00042185\n",
      "Iteration 1984, loss = 0.00042167\n",
      "Iteration 1985, loss = 0.00042150\n",
      "Iteration 1986, loss = 0.00042132\n",
      "Iteration 1987, loss = 0.00042115\n",
      "Iteration 1988, loss = 0.00042097\n",
      "Iteration 1989, loss = 0.00042080\n",
      "Iteration 1990, loss = 0.00042062\n",
      "Iteration 1991, loss = 0.00042045\n",
      "Iteration 1992, loss = 0.00042027\n",
      "Iteration 1993, loss = 0.00042010\n",
      "Iteration 1994, loss = 0.00041993\n",
      "Iteration 1995, loss = 0.00041975\n",
      "Iteration 1996, loss = 0.00041958\n",
      "Iteration 1997, loss = 0.00041941\n",
      "Iteration 1998, loss = 0.00041923\n",
      "Iteration 1999, loss = 0.00041906\n",
      "Iteration 2000, loss = 0.00041889\n",
      "Iteration 2001, loss = 0.00041872\n",
      "Iteration 2002, loss = 0.00041855\n",
      "Iteration 2003, loss = 0.00041837\n",
      "Iteration 2004, loss = 0.00041820\n",
      "Iteration 2005, loss = 0.00041803\n",
      "Iteration 2006, loss = 0.00041786\n",
      "Iteration 2007, loss = 0.00041769\n",
      "Iteration 2008, loss = 0.00041752\n",
      "Iteration 2009, loss = 0.00041736\n",
      "Iteration 2010, loss = 0.00041718\n",
      "Iteration 2011, loss = 0.00041701\n",
      "Iteration 2012, loss = 0.00041685\n",
      "Iteration 2013, loss = 0.00041668\n",
      "Iteration 2014, loss = 0.00041651\n",
      "Iteration 2015, loss = 0.00041634\n",
      "Iteration 2016, loss = 0.00041618\n",
      "Iteration 2017, loss = 0.00041601\n",
      "Iteration 2018, loss = 0.00041584\n",
      "Iteration 2019, loss = 0.00041568\n",
      "Iteration 2020, loss = 0.00041551\n",
      "Iteration 2021, loss = 0.00041535\n",
      "Iteration 2022, loss = 0.00041518\n",
      "Iteration 2023, loss = 0.00041501\n",
      "Iteration 2024, loss = 0.00041485\n",
      "Iteration 2025, loss = 0.00041469\n",
      "Iteration 2026, loss = 0.00041452\n",
      "Iteration 2027, loss = 0.00041436\n",
      "Iteration 2028, loss = 0.00041419\n",
      "Iteration 2029, loss = 0.00041403\n",
      "Iteration 2030, loss = 0.00041386\n",
      "Iteration 2031, loss = 0.00041371\n",
      "Iteration 2032, loss = 0.00041354\n",
      "Iteration 2033, loss = 0.00041338\n",
      "Iteration 2034, loss = 0.00041321\n",
      "Iteration 2035, loss = 0.00041305\n",
      "Iteration 2036, loss = 0.00041289\n",
      "Iteration 2037, loss = 0.00041273\n",
      "Iteration 2038, loss = 0.00041257\n",
      "Iteration 2039, loss = 0.00041240\n",
      "Iteration 2040, loss = 0.00041224\n",
      "Iteration 2041, loss = 0.00041208\n",
      "Iteration 2042, loss = 0.00041192\n",
      "Iteration 2043, loss = 0.00041177\n",
      "Iteration 2044, loss = 0.00041160\n",
      "Iteration 2045, loss = 0.00041144\n",
      "Iteration 2046, loss = 0.00041129\n",
      "Iteration 2047, loss = 0.00041113\n",
      "Iteration 2048, loss = 0.00041097\n",
      "Iteration 2049, loss = 0.00041082\n",
      "Iteration 2050, loss = 0.00041066\n",
      "Iteration 2051, loss = 0.00041049\n",
      "Iteration 2052, loss = 0.00041034\n",
      "Iteration 2053, loss = 0.00041018\n",
      "Iteration 2054, loss = 0.00041002\n",
      "Iteration 2055, loss = 0.00040987\n",
      "Iteration 2056, loss = 0.00040971\n",
      "Iteration 2057, loss = 0.00040956\n",
      "Iteration 2058, loss = 0.00040940\n",
      "Iteration 2059, loss = 0.00040924\n",
      "Iteration 2060, loss = 0.00040909\n",
      "Iteration 2061, loss = 0.00040893\n",
      "Iteration 2062, loss = 0.00040878\n",
      "Iteration 2063, loss = 0.00040862\n",
      "Iteration 2064, loss = 0.00040847\n",
      "Iteration 2065, loss = 0.00040832\n",
      "Iteration 2066, loss = 0.00040816\n",
      "Iteration 2067, loss = 0.00040801\n",
      "Iteration 2068, loss = 0.00040786\n",
      "Iteration 2069, loss = 0.00040770\n",
      "Iteration 2070, loss = 0.00040755\n",
      "Iteration 2071, loss = 0.00040740\n",
      "Iteration 2072, loss = 0.00040725\n",
      "Iteration 2073, loss = 0.00040710\n",
      "Iteration 2074, loss = 0.00040694\n",
      "Iteration 2075, loss = 0.00040679\n",
      "Iteration 2076, loss = 0.00040664\n",
      "Iteration 2077, loss = 0.00040649\n",
      "Iteration 2078, loss = 0.00040634\n",
      "Iteration 2079, loss = 0.00040619\n",
      "Iteration 2080, loss = 0.00040603\n",
      "Iteration 2081, loss = 0.00040589\n",
      "Iteration 2082, loss = 0.00040574\n",
      "Iteration 2083, loss = 0.00040559\n",
      "Iteration 2084, loss = 0.00040544\n",
      "Iteration 2085, loss = 0.00040529\n",
      "Iteration 2086, loss = 0.00040514\n",
      "Iteration 2087, loss = 0.00040499\n",
      "Iteration 2088, loss = 0.00040485\n",
      "Iteration 2089, loss = 0.00040470\n",
      "Iteration 2090, loss = 0.00040455\n",
      "Iteration 2091, loss = 0.00040441\n",
      "Iteration 2092, loss = 0.00040426\n",
      "Iteration 2093, loss = 0.00040411\n",
      "Iteration 2094, loss = 0.00040396\n",
      "Iteration 2095, loss = 0.00040382\n",
      "Iteration 2096, loss = 0.00040368\n",
      "Iteration 2097, loss = 0.00040353\n",
      "Iteration 2098, loss = 0.00040338\n",
      "Iteration 2099, loss = 0.00040324\n",
      "Iteration 2100, loss = 0.00040309\n",
      "Iteration 2101, loss = 0.00040295\n",
      "Iteration 2102, loss = 0.00040280\n",
      "Iteration 2103, loss = 0.00040265\n",
      "Iteration 2104, loss = 0.00040251\n",
      "Iteration 2105, loss = 0.00040236\n",
      "Iteration 2106, loss = 0.00040222\n",
      "Iteration 2107, loss = 0.00040208\n",
      "Iteration 2108, loss = 0.00040194\n",
      "Iteration 2109, loss = 0.00040179\n",
      "Iteration 2110, loss = 0.00040165\n",
      "Iteration 2111, loss = 0.00040151\n",
      "Iteration 2112, loss = 0.00040136\n",
      "Iteration 2113, loss = 0.00040122\n",
      "Iteration 2114, loss = 0.00040107\n",
      "Iteration 2115, loss = 0.00040094\n",
      "Iteration 2116, loss = 0.00040080\n",
      "Iteration 2117, loss = 0.00040065\n",
      "Iteration 2118, loss = 0.00040051\n",
      "Iteration 2119, loss = 0.00040037\n",
      "Iteration 2120, loss = 0.00040023\n",
      "Iteration 2121, loss = 0.00040009\n",
      "Iteration 2122, loss = 0.00039995\n",
      "Iteration 2123, loss = 0.00039981\n",
      "Iteration 2124, loss = 0.00039967\n",
      "Iteration 2125, loss = 0.00039953\n",
      "Iteration 2126, loss = 0.00039939\n",
      "Iteration 2127, loss = 0.00039925\n",
      "Iteration 2128, loss = 0.00039911\n",
      "Iteration 2129, loss = 0.00039897\n",
      "Iteration 2130, loss = 0.00039883\n",
      "Iteration 2131, loss = 0.00039870\n",
      "Iteration 2132, loss = 0.00039856\n",
      "Iteration 2133, loss = 0.00039842\n",
      "Iteration 2134, loss = 0.00039828\n",
      "Iteration 2135, loss = 0.00039815\n",
      "Iteration 2136, loss = 0.00039801\n",
      "Iteration 2137, loss = 0.00039787\n",
      "Iteration 2138, loss = 0.00039773\n",
      "Iteration 2139, loss = 0.00039760\n",
      "Iteration 2140, loss = 0.00039746\n",
      "Iteration 2141, loss = 0.00039732\n",
      "Iteration 2142, loss = 0.00039719\n",
      "Iteration 2143, loss = 0.00039705\n",
      "Iteration 2144, loss = 0.00039692\n",
      "Iteration 2145, loss = 0.00039678\n",
      "Iteration 2146, loss = 0.00039665\n",
      "Iteration 2147, loss = 0.00039651\n",
      "Iteration 2148, loss = 0.00039638\n",
      "Iteration 2149, loss = 0.00039625\n",
      "Iteration 2150, loss = 0.00039611\n",
      "Iteration 2151, loss = 0.00039598\n",
      "Iteration 2152, loss = 0.00039584\n",
      "Iteration 2153, loss = 0.00039571\n",
      "Iteration 2154, loss = 0.00039558\n",
      "Iteration 2155, loss = 0.00039545\n",
      "Iteration 2156, loss = 0.00039532\n",
      "Iteration 2157, loss = 0.00039518\n",
      "Iteration 2158, loss = 0.00039505\n",
      "Iteration 2159, loss = 0.00039492\n",
      "Iteration 2160, loss = 0.00039478\n",
      "Iteration 2161, loss = 0.00039465\n",
      "Iteration 2162, loss = 0.00039452\n",
      "Iteration 2163, loss = 0.00039439\n",
      "Iteration 2164, loss = 0.00039426\n",
      "Iteration 2165, loss = 0.00039413\n",
      "Iteration 2166, loss = 0.00039399\n",
      "Iteration 2167, loss = 0.00039387\n",
      "Iteration 2168, loss = 0.00039374\n",
      "Iteration 2169, loss = 0.00039360\n",
      "Iteration 2170, loss = 0.00039348\n",
      "Iteration 2171, loss = 0.00039335\n",
      "Iteration 2172, loss = 0.00039322\n",
      "Iteration 2173, loss = 0.00039309\n",
      "Iteration 2174, loss = 0.00039296\n",
      "Iteration 2175, loss = 0.00039283\n",
      "Iteration 2176, loss = 0.00039270\n",
      "Iteration 2177, loss = 0.00039257\n",
      "Iteration 2178, loss = 0.00039244\n",
      "Iteration 2179, loss = 0.00039231\n",
      "Iteration 2180, loss = 0.00039219\n",
      "Iteration 2181, loss = 0.00039206\n",
      "Iteration 2182, loss = 0.00039193\n",
      "Iteration 2183, loss = 0.00039180\n",
      "Iteration 2184, loss = 0.00039167\n",
      "Iteration 2185, loss = 0.00039155\n",
      "Iteration 2186, loss = 0.00039142\n",
      "Iteration 2187, loss = 0.00039129\n",
      "Iteration 2188, loss = 0.00039117\n",
      "Iteration 2189, loss = 0.00039104\n",
      "Iteration 2190, loss = 0.00039091\n",
      "Iteration 2191, loss = 0.00039079\n",
      "Iteration 2192, loss = 0.00039067\n",
      "Iteration 2193, loss = 0.00039054\n",
      "Iteration 2194, loss = 0.00039041\n",
      "Iteration 2195, loss = 0.00039029\n",
      "Iteration 2196, loss = 0.00039016\n",
      "Iteration 2197, loss = 0.00039004\n",
      "Iteration 2198, loss = 0.00038992\n",
      "Iteration 2199, loss = 0.00038979\n",
      "Iteration 2200, loss = 0.00038966\n",
      "Iteration 2201, loss = 0.00038954\n",
      "Iteration 2202, loss = 0.00038942\n",
      "Iteration 2203, loss = 0.00038929\n",
      "Iteration 2204, loss = 0.00038917\n",
      "Iteration 2205, loss = 0.00038905\n",
      "Iteration 2206, loss = 0.00038892\n",
      "Iteration 2207, loss = 0.00038880\n",
      "Iteration 2208, loss = 0.00038868\n",
      "Iteration 2209, loss = 0.00038856\n",
      "Iteration 2210, loss = 0.00038843\n",
      "Iteration 2211, loss = 0.00038831\n",
      "Iteration 2212, loss = 0.00038819\n",
      "Iteration 2213, loss = 0.00038807\n",
      "Iteration 2214, loss = 0.00038795\n",
      "Iteration 2215, loss = 0.00038783\n",
      "Iteration 2216, loss = 0.00038771\n",
      "Iteration 2217, loss = 0.00038759\n",
      "Iteration 2218, loss = 0.00038747\n",
      "Iteration 2219, loss = 0.00038734\n",
      "Iteration 2220, loss = 0.00038723\n",
      "Iteration 2221, loss = 0.00038711\n",
      "Iteration 2222, loss = 0.00038699\n",
      "Iteration 2223, loss = 0.00038687\n",
      "Iteration 2224, loss = 0.00038675\n",
      "Iteration 2225, loss = 0.00038663\n",
      "Iteration 2226, loss = 0.00038651\n",
      "Iteration 2227, loss = 0.00038639\n",
      "Iteration 2228, loss = 0.00038627\n",
      "Iteration 2229, loss = 0.00038615\n",
      "Iteration 2230, loss = 0.00038603\n",
      "Iteration 2231, loss = 0.00038592\n",
      "Iteration 2232, loss = 0.00038580\n",
      "Iteration 2233, loss = 0.00038568\n",
      "Iteration 2234, loss = 0.00038556\n",
      "Iteration 2235, loss = 0.00038545\n",
      "Iteration 2236, loss = 0.00038533\n",
      "Iteration 2237, loss = 0.00038521\n",
      "Iteration 2238, loss = 0.00038509\n",
      "Iteration 2239, loss = 0.00038498\n",
      "Iteration 2240, loss = 0.00038486\n",
      "Iteration 2241, loss = 0.00038474\n",
      "Iteration 2242, loss = 0.00038463\n",
      "Iteration 2243, loss = 0.00038451\n",
      "Iteration 2244, loss = 0.00038440\n",
      "Iteration 2245, loss = 0.00038428\n",
      "Iteration 2246, loss = 0.00038417\n",
      "Iteration 2247, loss = 0.00038405\n",
      "Iteration 2248, loss = 0.00038394\n",
      "Iteration 2249, loss = 0.00038382\n",
      "Iteration 2250, loss = 0.00038370\n",
      "Iteration 2251, loss = 0.00038359\n",
      "Iteration 2252, loss = 0.00038348\n",
      "Iteration 2253, loss = 0.00038336\n",
      "Iteration 2254, loss = 0.00038325\n",
      "Iteration 2255, loss = 0.00038313\n",
      "Iteration 2256, loss = 0.00038302\n",
      "Iteration 2257, loss = 0.00038291\n",
      "Iteration 2258, loss = 0.00038279\n",
      "Iteration 2259, loss = 0.00038268\n",
      "Iteration 2260, loss = 0.00038257\n",
      "Iteration 2261, loss = 0.00038245\n",
      "Iteration 2262, loss = 0.00038234\n",
      "Iteration 2263, loss = 0.00038223\n",
      "Iteration 2264, loss = 0.00038212\n",
      "Iteration 2265, loss = 0.00038201\n",
      "Iteration 2266, loss = 0.00038189\n",
      "Iteration 2267, loss = 0.00038178\n",
      "Iteration 2268, loss = 0.00038167\n",
      "Iteration 2269, loss = 0.00038156\n",
      "Iteration 2270, loss = 0.00038145\n",
      "Iteration 2271, loss = 0.00038134\n",
      "Iteration 2272, loss = 0.00038123\n",
      "Iteration 2273, loss = 0.00038111\n",
      "Iteration 2274, loss = 0.00038100\n",
      "Iteration 2275, loss = 0.00038089\n",
      "Iteration 2276, loss = 0.00038078\n",
      "Iteration 2277, loss = 0.00038067\n",
      "Iteration 2278, loss = 0.00038056\n",
      "Iteration 2279, loss = 0.00038045\n",
      "Iteration 2280, loss = 0.00038034\n",
      "Iteration 2281, loss = 0.00038023\n",
      "Iteration 2282, loss = 0.00038012\n",
      "Iteration 2283, loss = 0.00038001\n",
      "Iteration 2284, loss = 0.00037990\n",
      "Iteration 2285, loss = 0.00037979\n",
      "Iteration 2286, loss = 0.00037968\n",
      "Iteration 2287, loss = 0.00037957\n",
      "Iteration 2288, loss = 0.00037947\n",
      "Iteration 2289, loss = 0.00037936\n",
      "Iteration 2290, loss = 0.00037925\n",
      "Iteration 2291, loss = 0.00037914\n",
      "Iteration 2292, loss = 0.00037903\n",
      "Iteration 2293, loss = 0.00037893\n",
      "Iteration 2294, loss = 0.00037882\n",
      "Iteration 2295, loss = 0.00037871\n",
      "Iteration 2296, loss = 0.00037860\n",
      "Iteration 2297, loss = 0.00037850\n",
      "Iteration 2298, loss = 0.00037839\n",
      "Iteration 2299, loss = 0.00037828\n",
      "Iteration 2300, loss = 0.00037817\n",
      "Iteration 2301, loss = 0.00037807\n",
      "Iteration 2302, loss = 0.00037796\n",
      "Iteration 2303, loss = 0.00037786\n",
      "Iteration 2304, loss = 0.00037775\n",
      "Iteration 2305, loss = 0.00037764\n",
      "Iteration 2306, loss = 0.00037754\n",
      "Iteration 2307, loss = 0.00037743\n",
      "Iteration 2308, loss = 0.00037733\n",
      "Iteration 2309, loss = 0.00037722\n",
      "Iteration 2310, loss = 0.00037712\n",
      "Iteration 2311, loss = 0.00037701\n",
      "Iteration 2312, loss = 0.00037691\n",
      "Iteration 2313, loss = 0.00037680\n",
      "Iteration 2314, loss = 0.00037670\n",
      "Iteration 2315, loss = 0.00037660\n",
      "Iteration 2316, loss = 0.00037649\n",
      "Iteration 2317, loss = 0.00037639\n",
      "Iteration 2318, loss = 0.00037629\n",
      "Iteration 2319, loss = 0.00037618\n",
      "Iteration 2320, loss = 0.00037608\n",
      "Iteration 2321, loss = 0.00037597\n",
      "Iteration 2322, loss = 0.00037587\n",
      "Iteration 2323, loss = 0.00037577\n",
      "Iteration 2324, loss = 0.00037566\n",
      "Iteration 2325, loss = 0.00037556\n",
      "Iteration 2326, loss = 0.00037546\n",
      "Iteration 2327, loss = 0.00037536\n",
      "Iteration 2328, loss = 0.00037525\n",
      "Iteration 2329, loss = 0.00037515\n",
      "Iteration 2330, loss = 0.00037505\n",
      "Iteration 2331, loss = 0.00037495\n",
      "Iteration 2332, loss = 0.00037485\n",
      "Iteration 2333, loss = 0.00037475\n",
      "Iteration 2334, loss = 0.00037464\n",
      "Iteration 2335, loss = 0.00037454\n",
      "Iteration 2336, loss = 0.00037444\n",
      "Iteration 2337, loss = 0.00037434\n",
      "Iteration 2338, loss = 0.00037424\n",
      "Iteration 2339, loss = 0.00037414\n",
      "Iteration 2340, loss = 0.00037404\n",
      "Iteration 2341, loss = 0.00037394\n",
      "Iteration 2342, loss = 0.00037384\n",
      "Iteration 2343, loss = 0.00037373\n",
      "Iteration 2344, loss = 0.00037364\n",
      "Iteration 2345, loss = 0.00037354\n",
      "Iteration 2346, loss = 0.00037344\n",
      "Iteration 2347, loss = 0.00037334\n",
      "Iteration 2348, loss = 0.00037323\n",
      "Iteration 2349, loss = 0.00037314\n",
      "Iteration 2350, loss = 0.00037304\n",
      "Iteration 2351, loss = 0.00037294\n",
      "Iteration 2352, loss = 0.00037284\n",
      "Iteration 2353, loss = 0.00037274\n",
      "Iteration 2354, loss = 0.00037264\n",
      "Iteration 2355, loss = 0.00037254\n",
      "Iteration 2356, loss = 0.00037244\n",
      "Iteration 2357, loss = 0.00037235\n",
      "Iteration 2358, loss = 0.00037225\n",
      "Iteration 2359, loss = 0.00037215\n",
      "Iteration 2360, loss = 0.00037205\n",
      "Iteration 2361, loss = 0.00037196\n",
      "Iteration 2362, loss = 0.00037186\n",
      "Iteration 2363, loss = 0.00037176\n",
      "Training loss did not improve more than tol=0.000000 for 10 consecutive epochs. Stopping.\n"
     ]
    },
    {
     "data": {
      "text/html": [
       "<style>#sk-container-id-58 {color: black;}#sk-container-id-58 pre{padding: 0;}#sk-container-id-58 div.sk-toggleable {background-color: white;}#sk-container-id-58 label.sk-toggleable__label {cursor: pointer;display: block;width: 100%;margin-bottom: 0;padding: 0.3em;box-sizing: border-box;text-align: center;}#sk-container-id-58 label.sk-toggleable__label-arrow:before {content: \"▸\";float: left;margin-right: 0.25em;color: #696969;}#sk-container-id-58 label.sk-toggleable__label-arrow:hover:before {color: black;}#sk-container-id-58 div.sk-estimator:hover label.sk-toggleable__label-arrow:before {color: black;}#sk-container-id-58 div.sk-toggleable__content {max-height: 0;max-width: 0;overflow: hidden;text-align: left;background-color: #f0f8ff;}#sk-container-id-58 div.sk-toggleable__content pre {margin: 0.2em;color: black;border-radius: 0.25em;background-color: #f0f8ff;}#sk-container-id-58 input.sk-toggleable__control:checked~div.sk-toggleable__content {max-height: 200px;max-width: 100%;overflow: auto;}#sk-container-id-58 input.sk-toggleable__control:checked~label.sk-toggleable__label-arrow:before {content: \"▾\";}#sk-container-id-58 div.sk-estimator input.sk-toggleable__control:checked~label.sk-toggleable__label {background-color: #d4ebff;}#sk-container-id-58 div.sk-label input.sk-toggleable__control:checked~label.sk-toggleable__label {background-color: #d4ebff;}#sk-container-id-58 input.sk-hidden--visually {border: 0;clip: rect(1px 1px 1px 1px);clip: rect(1px, 1px, 1px, 1px);height: 1px;margin: -1px;overflow: hidden;padding: 0;position: absolute;width: 1px;}#sk-container-id-58 div.sk-estimator {font-family: monospace;background-color: #f0f8ff;border: 1px dotted black;border-radius: 0.25em;box-sizing: border-box;margin-bottom: 0.5em;}#sk-container-id-58 div.sk-estimator:hover {background-color: #d4ebff;}#sk-container-id-58 div.sk-parallel-item::after {content: \"\";width: 100%;border-bottom: 1px solid gray;flex-grow: 1;}#sk-container-id-58 div.sk-label:hover label.sk-toggleable__label {background-color: #d4ebff;}#sk-container-id-58 div.sk-serial::before {content: \"\";position: absolute;border-left: 1px solid gray;box-sizing: border-box;top: 0;bottom: 0;left: 50%;z-index: 0;}#sk-container-id-58 div.sk-serial {display: flex;flex-direction: column;align-items: center;background-color: white;padding-right: 0.2em;padding-left: 0.2em;position: relative;}#sk-container-id-58 div.sk-item {position: relative;z-index: 1;}#sk-container-id-58 div.sk-parallel {display: flex;align-items: stretch;justify-content: center;background-color: white;position: relative;}#sk-container-id-58 div.sk-item::before, #sk-container-id-58 div.sk-parallel-item::before {content: \"\";position: absolute;border-left: 1px solid gray;box-sizing: border-box;top: 0;bottom: 0;left: 50%;z-index: -1;}#sk-container-id-58 div.sk-parallel-item {display: flex;flex-direction: column;z-index: 1;position: relative;background-color: white;}#sk-container-id-58 div.sk-parallel-item:first-child::after {align-self: flex-end;width: 50%;}#sk-container-id-58 div.sk-parallel-item:last-child::after {align-self: flex-start;width: 50%;}#sk-container-id-58 div.sk-parallel-item:only-child::after {width: 0;}#sk-container-id-58 div.sk-dashed-wrapped {border: 1px dashed gray;margin: 0 0.4em 0.5em 0.4em;box-sizing: border-box;padding-bottom: 0.4em;background-color: white;}#sk-container-id-58 div.sk-label label {font-family: monospace;font-weight: bold;display: inline-block;line-height: 1.2em;}#sk-container-id-58 div.sk-label-container {text-align: center;}#sk-container-id-58 div.sk-container {/* jupyter's `normalize.less` sets `[hidden] { display: none; }` but bootstrap.min.css set `[hidden] { display: none !important; }` so we also need the `!important` here to be able to override the default hidden behavior on the sphinx rendered scikit-learn.org. See: https://github.com/scikit-learn/scikit-learn/issues/21755 */display: inline-block !important;position: relative;}#sk-container-id-58 div.sk-text-repr-fallback {display: none;}</style><div id=\"sk-container-id-58\" class=\"sk-top-container\"><div class=\"sk-text-repr-fallback\"><pre>MLPClassifier(hidden_layer_sizes=(100, 50), max_iter=100000, tol=1e-07,\n",
       "              verbose=True)</pre><b>In a Jupyter environment, please rerun this cell to show the HTML representation or trust the notebook. <br />On GitHub, the HTML representation is unable to render, please try loading this page with nbviewer.org.</b></div><div class=\"sk-container\" hidden><div class=\"sk-item\"><div class=\"sk-estimator sk-toggleable\"><input class=\"sk-toggleable__control sk-hidden--visually\" id=\"sk-estimator-id-58\" type=\"checkbox\" checked><label for=\"sk-estimator-id-58\" class=\"sk-toggleable__label sk-toggleable__label-arrow\">MLPClassifier</label><div class=\"sk-toggleable__content\"><pre>MLPClassifier(hidden_layer_sizes=(100, 50), max_iter=100000, tol=1e-07,\n",
       "              verbose=True)</pre></div></div></div></div></div>"
      ],
      "text/plain": [
       "MLPClassifier(hidden_layer_sizes=(100, 50), max_iter=100000, tol=1e-07,\n",
       "              verbose=True)"
      ]
     },
     "execution_count": 1418,
     "metadata": {},
     "output_type": "execute_result"
    }
   ],
   "source": [
    "from sklearn.neural_network import MLPClassifier\n",
    "classificador = MLPClassifier( max_iter = 100000, tol = 0.0000001, verbose = True, activation = 'relu', solver = 'adam', hidden_layer_sizes = (100, 50))\n",
    "classificador.fit(X_sono_train, y_sono_train)"
   ]
  },
  {
   "cell_type": "markdown",
   "metadata": {},
   "source": [
    "0 = alta\n",
    "1 = média\n",
    "2 = baixa"
   ]
  },
  {
   "cell_type": "code",
   "execution_count": 1419,
   "metadata": {},
   "outputs": [
    {
     "data": {
      "text/plain": [
       "array([1, 2, 2, 2, 1, 1, 1, 2, 2, 1, 1, 2, 1, 2, 2, 1, 1])"
      ]
     },
     "execution_count": 1419,
     "metadata": {},
     "output_type": "execute_result"
    }
   ],
   "source": [
    "classificador.predict(X_sono_teste)"
   ]
  },
  {
   "cell_type": "code",
   "execution_count": 1420,
   "metadata": {},
   "outputs": [
    {
     "data": {
      "text/plain": [
       "array([1, 2, 2, 2, 1, 1, 2, 2, 1, 1, 1, 0, 1, 2, 2, 1, 1])"
      ]
     },
     "execution_count": 1420,
     "metadata": {},
     "output_type": "execute_result"
    }
   ],
   "source": [
    "y_sono_teste"
   ]
  },
  {
   "cell_type": "code",
   "execution_count": 1421,
   "metadata": {},
   "outputs": [
    {
     "data": {
      "text/plain": [
       "0.8235294117647058"
      ]
     },
     "execution_count": 1421,
     "metadata": {},
     "output_type": "execute_result"
    }
   ],
   "source": [
    "from sklearn.metrics import accuracy_score, classification_report\n",
    "accuracy_score(y_sono_teste, classificador.predict(X_sono_teste))"
   ]
  },
  {
   "cell_type": "code",
   "execution_count": 1422,
   "metadata": {},
   "outputs": [
    {
     "data": {
      "text/plain": [
       "0.8235294117647058"
      ]
     },
     "execution_count": 1422,
     "metadata": {},
     "output_type": "execute_result"
    },
    {
     "data": {
      "image/png": "[encoded data removed]",
      "text/plain": [
       "<Figure size 800x550 with 1 Axes>"
      ]
     },
     "metadata": {},
     "output_type": "display_data"
    }
   ],
   "source": [
    "from yellowbrick.classifier import ConfusionMatrix\n",
    "cm = ConfusionMatrix(classificador)\n",
    "cm.fit(X_sono_train, y_sono_train)\n",
    "cm.score(X_sono_teste, y_sono_teste)"
   ]
  }
 ],
 "metadata": {
  "kernelspec": {
   "display_name": "Python 3",
   "language": "python",
   "name": "python3"
  },
  "language_info": {
   "codemirror_mode": {
    "name": "ipython",
    "version": 3
   },
   "file_extension": ".py",
   "mimetype": "text/x-python",
   "name": "python",
   "nbconvert_exporter": "python",
   "pygments_lexer": "ipython3",
   "version": "3.11.6"
  }
 },
 "nbformat": 4,
 "nbformat_minor": 2
}
